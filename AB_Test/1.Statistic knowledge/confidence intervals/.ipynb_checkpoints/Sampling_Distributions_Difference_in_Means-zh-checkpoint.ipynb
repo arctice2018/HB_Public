{
 "cells": [
  {
   "cell_type": "markdown",
   "metadata": {},
   "source": [
    "### 置信区间 - 均数差\n",
    "\n",
    "这里，你将从最后一个视频中看到一个示例。此外，你还将进一步深入了解这些数据可能得出的实际结果。"
   ]
  },
  {
   "cell_type": "code",
   "execution_count": 1,
   "metadata": {},
   "outputs": [],
   "source": [
    "import pandas as pd\n",
    "import numpy as np\n",
    "import matplotlib.pyplot as plt\n",
    "\n",
    "%matplotlib inline\n",
    "np.random.seed(42)\n",
    "\n",
    "full_data = pd.read_csv('coffee_dataset.csv')\n",
    "sample_data = full_data.sample(200)"
   ]
  },
  {
   "cell_type": "code",
   "execution_count": 4,
   "metadata": {},
   "outputs": [
    {
     "data": {
      "text/html": [
       "<div>\n",
       "<style scoped>\n",
       "    .dataframe tbody tr th:only-of-type {\n",
       "        vertical-align: middle;\n",
       "    }\n",
       "\n",
       "    .dataframe tbody tr th {\n",
       "        vertical-align: top;\n",
       "    }\n",
       "\n",
       "    .dataframe thead th {\n",
       "        text-align: right;\n",
       "    }\n",
       "</style>\n",
       "<table border=\"1\" class=\"dataframe\">\n",
       "  <thead>\n",
       "    <tr style=\"text-align: right;\">\n",
       "      <th></th>\n",
       "      <th>user_id</th>\n",
       "      <th>age</th>\n",
       "      <th>drinks_coffee</th>\n",
       "      <th>height</th>\n",
       "    </tr>\n",
       "  </thead>\n",
       "  <tbody>\n",
       "    <tr>\n",
       "      <th>2402</th>\n",
       "      <td>2874</td>\n",
       "      <td>&lt;21</td>\n",
       "      <td>True</td>\n",
       "      <td>64.357154</td>\n",
       "    </tr>\n",
       "    <tr>\n",
       "      <th>2864</th>\n",
       "      <td>3670</td>\n",
       "      <td>&gt;=21</td>\n",
       "      <td>True</td>\n",
       "      <td>66.859636</td>\n",
       "    </tr>\n",
       "    <tr>\n",
       "      <th>2167</th>\n",
       "      <td>7441</td>\n",
       "      <td>&lt;21</td>\n",
       "      <td>False</td>\n",
       "      <td>66.659561</td>\n",
       "    </tr>\n",
       "    <tr>\n",
       "      <th>507</th>\n",
       "      <td>2781</td>\n",
       "      <td>&gt;=21</td>\n",
       "      <td>True</td>\n",
       "      <td>70.166241</td>\n",
       "    </tr>\n",
       "    <tr>\n",
       "      <th>1817</th>\n",
       "      <td>2875</td>\n",
       "      <td>&gt;=21</td>\n",
       "      <td>True</td>\n",
       "      <td>71.369120</td>\n",
       "    </tr>\n",
       "  </tbody>\n",
       "</table>\n",
       "</div>"
      ],
      "text/plain": [
       "      user_id   age  drinks_coffee     height\n",
       "2402     2874   <21           True  64.357154\n",
       "2864     3670  >=21           True  66.859636\n",
       "2167     7441   <21          False  66.659561\n",
       "507      2781  >=21           True  70.166241\n",
       "1817     2875  >=21           True  71.369120"
      ]
     },
     "execution_count": 4,
     "metadata": {},
     "output_type": "execute_result"
    }
   ],
   "source": [
    "sample_data.head()"
   ]
  },
  {
   "cell_type": "markdown",
   "metadata": {},
   "source": [
    "`1.` 对于10,000次迭代，自展法（bootstrap）会对你的样本数据进行抽样，计算喝咖啡和不喝咖啡的人的平均身高的差异。使用你的抽样分布建立一个99％的置信区间。根据你的区间开始回答下面的第一个测试题目。\n",
    "\n",
    "`2.` 对于10,000次迭代，自展法会对样本数据进行抽样，计算21岁以上和21岁以下的平均身高的差异。使用你的抽样分布构建一个99％的置信区间。根据你的区间来完成回答下面的第一个测试题目。\n",
    "\n",
    "`3.` 对于10,000次迭代，自展法会对你的样本数据进行抽样，计算出21岁 **以下** 个体的喝咖啡的人的平均身高和不喝咖啡的人的平均身高之间的 **差异** 。使用你的抽样分布，建立一个95％的置信区间。根据你的区间来回答下面的第二个测试题目。\n",
    "\n",
    "`4.` 对于10,000次迭代，自展法会对你的样本数据进行抽样，计算出21岁 **以上** 个体的喝咖啡的人的平均身高和不喝咖啡的人的平均身高之间的 **差异** 。使用你的抽样分布，建立一个95％的置信区间。根据你的区间来回答下面的第二个测试题目以及下列问题。"
   ]
  },
  {
   "cell_type": "markdown",
   "metadata": {},
   "source": [
    "1. 对于10,000次迭代，自展法（bootstrap）会对你的样本数据进行抽样，计算喝咖啡和不喝咖啡的人的平均身高的差异。使用你的抽样分布建立一个99％的置信区间。根据你的区间开始回答下面的第一个测试题目。"
   ]
  },
  {
   "cell_type": "code",
   "execution_count": 3,
   "metadata": {},
   "outputs": [
    {
     "data": {
      "text/plain": [
       "(0.09027712929640067, 2.516490937129601)"
      ]
     },
     "execution_count": 3,
     "metadata": {},
     "output_type": "execute_result"
    },
    {
     "data": {
      "image/png": "[encoded data removed]",
      "text/plain": [
       "<Figure size 432x288 with 1 Axes>"
      ]
     },
     "metadata": {},
     "output_type": "display_data"
    }
   ],
   "source": [
    "diffs = []\n",
    "for _ in range(int(1e4)):\n",
    "    bootstrap = sample_data.sample(200,replace = True)\n",
    "    cof_mean = bootstrap.query('drinks_coffee==True').height.mean()\n",
    "    no_cof_mean = bootstrap.query('drinks_coffee == False').height.mean()\n",
    "    diffs.append(cof_mean - no_cof_mean)\n",
    "    \n",
    "plt.hist(diffs)\n",
    "\n",
    "lower_boundary = np.percentile(diffs,0.5)\n",
    "upper_boundary = np.percentile(diffs,99.5)\n",
    "lower_boundary,upper_boundary"
   ]
  },
  {
   "cell_type": "markdown",
   "metadata": {},
   "source": [
    "2. 对于10,000次迭代，自展法会对样本数据进行抽样，计算21岁以上和21岁以下的平均身高的差异。使用你的抽样分布构建一个99％的置信区间。根据你的区间来完成回答下面的第一个测试题目。"
   ]
  },
  {
   "cell_type": "code",
   "execution_count": 5,
   "metadata": {},
   "outputs": [
    {
     "data": {
      "text/plain": [
       "(3.366711378170795, 5.132127656262256)"
      ]
     },
     "execution_count": 5,
     "metadata": {},
     "output_type": "execute_result"
    },
    {
     "data": {
      "image/png": "[encoded data removed]",
      "text/plain": [
       "<Figure size 432x288 with 1 Axes>"
      ]
     },
     "metadata": {},
     "output_type": "display_data"
    }
   ],
   "source": [
    "diffs = []\n",
    "for _ in range(int(1e4)):\n",
    "    bootstrap = sample_data.sample(200,replace = True)\n",
    "    above_21_mean = bootstrap.query('age ==\">=21\"').height.mean()\n",
    "    below_21_mean = bootstrap.query('age ==\"<21\"').height.mean()\n",
    "    diffs.append(above_21_mean-below_21_mean)\n",
    "\n",
    "plt.hist(diffs)\n",
    "\n",
    "lower_boundary = np.percentile(diffs,0.5)\n",
    "upper_boundary = np.percentile(diffs,99.5)\n",
    "lower_boundary,upper_boundary"
   ]
  },
  {
   "cell_type": "markdown",
   "metadata": {},
   "source": [
    "3. 对于10,000次迭代，自展法会对你的样本数据进行抽样，计算出21岁 **以下** 个体的喝咖啡的人的平均身高和不喝咖啡的人的平均身高之间的 **差异** 。使用你的抽样分布，建立一个95％的置信区间。根据你的区间来回答下面的第二个测试题目。"
   ]
  },
  {
   "cell_type": "code",
   "execution_count": 17,
   "metadata": {},
   "outputs": [
    {
     "data": {
      "text/plain": [
       "(1.0751624989765307, 2.6136701999388614)"
      ]
     },
     "execution_count": 17,
     "metadata": {},
     "output_type": "execute_result"
    },
    {
     "data": {
      "image/png": "[encoded data removed]",
      "text/plain": [
       "<Figure size 432x288 with 1 Axes>"
      ]
     },
     "metadata": {},
     "output_type": "display_data"
    }
   ],
   "source": [
    "diffs = []\n",
    "for _ in range(int(1e4)):\n",
    "    bootstrap = sample_data.sample(200,replace = True)\n",
    "    cof_below_21_mean = bootstrap.query('age ==\"<21\" and drinks_coffee == True').height.mean()\n",
    "    no_cof_below_21_mean = bootstrap[(bootstrap['age']=='<21')&(bootstrap['drinks_coffee']== False)].height.mean()\n",
    "    diffs.append(no_cof_below_21_mean - cof_below_21_mean)\n",
    "    \n",
    "plt.hist(diffs)\n",
    "\n",
    "np.percentile(diffs,2.5),np.percentile(diffs,97.5)"
   ]
  },
  {
   "cell_type": "markdown",
   "metadata": {},
   "source": [
    "4. 对于10,000次迭代，自展法会对你的样本数据进行抽样，计算出21岁 **以上** 个体的喝咖啡的人的平均身高和不喝咖啡的人的平均身高之间的 **差异** 。使用你的抽样分布，建立一个95％的置信区间。根据你的区间来回答下面的第二个测试题目以及下列问题。"
   ]
  },
  {
   "cell_type": "code",
   "execution_count": 20,
   "metadata": {},
   "outputs": [
    {
     "data": {
      "text/plain": [
       "(1.8286979057770651, 4.388297696801731)"
      ]
     },
     "execution_count": 20,
     "metadata": {},
     "output_type": "execute_result"
    },
    {
     "data": {
      "image/png": "[encoded data removed]",
      "text/plain": [
       "<Figure size 432x288 with 1 Axes>"
      ]
     },
     "metadata": {},
     "output_type": "display_data"
    }
   ],
   "source": [
    "diffs = []\n",
    "for _ in range(int(1e4)):\n",
    "    botsamp = sample_data.sample(200,replace =True)\n",
    "    cof_above_21_height_mean = botsamp.query(\"age == '>=21'and drinks_coffee == True\").height.mean()\n",
    "    no_cof_above_21_height_mean = botsamp[(botsamp['age']=='>=21')&(botsamp['drinks_coffee']==False)].height.mean()\n",
    "    diffs.append(no_cof_above_21_height_mean - cof_above_21_height_mean)\n",
    "    \n",
    "plt.hist(diffs)\n",
    "\n",
    "np.percentile(diffs,2.5),np.percentile(diffs,97.5)"
   ]
  }
 ],
 "metadata": {
  "kernelspec": {
   "display_name": "Python 3",
   "language": "python",
   "name": "python3"
  },
  "language_info": {
   "codemirror_mode": {
    "name": "ipython",
    "version": 3
   },
   "file_extension": ".py",
   "mimetype": "text/x-python",
   "name": "python",
   "nbconvert_exporter": "python",
   "pygments_lexer": "ipython3",
   "version": "3.6.5"
  }
 },
 "nbformat": 4,
 "nbformat_minor": 2
}
