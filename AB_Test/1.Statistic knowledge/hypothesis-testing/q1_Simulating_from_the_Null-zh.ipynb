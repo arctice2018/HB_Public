{
 "cells": [
  {
   "cell_type": "markdown",
   "metadata": {},
   "source": [
    "### 基于零假设的数值模拟\n",
    "\n",
    "导入下面的数据，并按照以下问题回答下面的测试题目。"
   ]
  },
  {
   "cell_type": "code",
   "execution_count": 1,
   "metadata": {},
   "outputs": [],
   "source": [
    "import pandas as pd\n",
    "import numpy as np\n",
    "import matplotlib.pyplot as plt\n",
    "\n",
    "%matplotlib inline\n",
    "np.random.seed(42)\n",
    "\n",
    "full_data = pd.read_csv('coffee_dataset.csv')\n",
    "# sample_data = full_data.sample(200)\n",
    "# 被注释的这个代码在本专题中的意义是什么？"
   ]
  },
  {
   "cell_type": "markdown",
   "metadata": {},
   "source": [
    "1. 如果你想知道喝咖啡的人的平均身高是否与不喝咖啡的人的平均身高相等，那么，你的零假设和备择假设是什么？将它们放在下面的单元格中，并使用你的答案来回答下面的第一个测试题目。"
   ]
  },
  {
   "cell_type": "markdown",
   "metadata": {},
   "source": [
    "$$H_0: \\mu_{coff} - \\mu_{no} = 0$$\n",
    "\n",
    "$$H_1: \\mu_{coff} - \\mu_{no} \\neq 0$$\n",
    "\n",
    "$\\mu_{coff}$ and $\\mu_{no}$ are the population mean values for coffee drinkers and non-coffee drinkers, respectivley."
   ]
  },
  {
   "cell_type": "markdown",
   "metadata": {},
   "source": [
    "2. 如果你想知道喝咖啡的人的平均身高是否低于不喝咖啡的人的身高，那么，你的零假设和备择假设是什么？将它们放在下面的单元格中，并使用你的答案来回答下面的第二个测试题目。"
   ]
  },
  {
   "cell_type": "markdown",
   "metadata": {},
   "source": [
    "$$H_0 :\\mu_{coff} - \\mu_{no} \\geq 0$$ \n",
    "$$H_1 :\\mu_{coff} - \\mu_{no} < 0$$"
   ]
  },
  {
   "cell_type": "markdown",
   "metadata": {},
   "source": [
    "3. 对于10,000次迭代：自展程序会对样本数据进行抽样，计算喝咖啡的人和不喝咖啡的人的平均身高，并计算每个样本的平均差异。你要在迭代结束时获取三个数组 - 一个是每个平均值，一个是所有平均值的差异。使用你的抽样分布结果，回答下面的第三个测试题目。"
   ]
  },
  {
   "cell_type": "code",
   "execution_count": 2,
   "metadata": {},
   "outputs": [
    {
     "data": {
      "text/plain": [
       "(array([  17.,  130.,  624., 1632., 2592., 2643., 1566.,  615.,  150.,\n",
       "          31.]),\n",
       " array([65.10040289, 65.36836237, 65.63632185, 65.90428134, 66.17224082,\n",
       "        66.4402003 , 66.70815978, 66.97611927, 67.24407875, 67.51203823,\n",
       "        67.77999772]),\n",
       " <a list of 10 Patch objects>)"
      ]
     },
     "execution_count": 2,
     "metadata": {},
     "output_type": "execute_result"
    },
    {
     "data": {
      "image/png": "[encoded data removed]",
      "text/plain": [
       "<Figure size 432x288 with 1 Axes>"
      ]
     },
     "metadata": {},
     "output_type": "display_data"
    }
   ],
   "source": [
    "cof_mean =[]\n",
    "no_cof_mean =[]\n",
    "diffs = []\n",
    "for _ in range(int(1e4)):\n",
    "    botsamp = full_data.sample(200,replace=True)\n",
    "    cof_ = botsamp.query('drinks_coffee == True').height.mean()\n",
    "    no_cof = botsamp.query('drinks_coffee == False').height.mean()\n",
    "    cof_mean.append(cof_)\n",
    "    no_cof_mean.append(no_cof)\n",
    "    diffs.append(cof_ - no_cof)\n",
    "\n",
    "plt.hist(cof_mean,alpha = 0.5)\n",
    "plt.hist(no_cof_mean,alpha = 0.5)"
   ]
  },
  {
   "cell_type": "code",
   "execution_count": 3,
   "metadata": {},
   "outputs": [
    {
     "data": {
      "text/plain": [
       "(array([   3.,   32.,  182.,  836., 2077., 2936., 2408., 1192.,  290.,\n",
       "          44.]),\n",
       " array([0.01838011, 0.36225432, 0.70612852, 1.05000273, 1.39387694,\n",
       "        1.73775114, 2.08162535, 2.42549956, 2.76937376, 3.11324797,\n",
       "        3.45712218]),\n",
       " <a list of 10 Patch objects>)"
      ]
     },
     "execution_count": 3,
     "metadata": {},
     "output_type": "execute_result"
    },
    {
     "data": {
      "image/png": "[encoded data removed]",
      "text/plain": [
       "<Figure size 432x288 with 1 Axes>"
      ]
     },
     "metadata": {},
     "output_type": "display_data"
    }
   ],
   "source": [
    "plt.hist(diffs,alpha =0.5)"
   ]
  },
  {
   "cell_type": "code",
   "execution_count": 4,
   "metadata": {},
   "outputs": [
    {
     "data": {
      "text/plain": [
       "0.24324697856027053"
      ]
     },
     "execution_count": 4,
     "metadata": {},
     "output_type": "execute_result"
    }
   ],
   "source": [
    "np.std(cof_mean)"
   ]
  },
  {
   "cell_type": "code",
   "execution_count": 5,
   "metadata": {},
   "outputs": [
    {
     "data": {
      "text/plain": [
       "0.3773030833219241"
      ]
     },
     "execution_count": 5,
     "metadata": {},
     "output_type": "execute_result"
    }
   ],
   "source": [
    "np.std(no_cof_mean)"
   ]
  },
  {
   "cell_type": "code",
   "execution_count": 8,
   "metadata": {},
   "outputs": [
    {
     "data": {
      "text/plain": [
       "0.45106097044586535"
      ]
     },
     "execution_count": 8,
     "metadata": {},
     "output_type": "execute_result"
    }
   ],
   "source": [
    "np.std(diffs)"
   ]
  },
  {
   "cell_type": "markdown",
   "metadata": {},
   "source": [
    "4. 现在，使用你观察到的平均值差异抽样分布以及 [该文档](https://docs.scipy.org/doc/numpy-1.13.0/reference/generated/numpy.random.normal.html) 来模拟：如果零假设是真的，你会期望抽样分布是什么样的。你可以通过重新定位0点分布来完成这个任务。另外，计算 在`sample_data`中观察到的样本均值差。用你的解决方案来回答下面测试题中的最后一个问题。"
   ]
  },
  {
   "cell_type": "code",
   "execution_count": 6,
   "metadata": {},
   "outputs": [],
   "source": [
    "null_vals = np.random.normal(0,np.std(diffs),int(1e4))"
   ]
  },
  {
   "cell_type": "code",
   "execution_count": 7,
   "metadata": {},
   "outputs": [
    {
     "data": {
      "text/plain": [
       "(array([3.000e+00, 6.400e+01, 3.770e+02, 1.439e+03, 2.848e+03, 3.001e+03,\n",
       "        1.692e+03, 4.930e+02, 7.500e+01, 8.000e+00]),\n",
       " array([-1.87065452, -1.5028021 , -1.13494968, -0.76709727, -0.39924485,\n",
       "        -0.03139243,  0.33645999,  0.7043124 ,  1.07216482,  1.44001724,\n",
       "         1.80786966]),\n",
       " <a list of 10 Patch objects>)"
      ]
     },
     "execution_count": 7,
     "metadata": {},
     "output_type": "execute_result"
    },
    {
     "data": {
      "image/png": "[encoded data removed]",
      "text/plain": [
       "<Figure size 432x288 with 1 Axes>"
      ]
     },
     "metadata": {},
     "output_type": "display_data"
    }
   ],
   "source": [
    "plt.hist(null_vals)"
   ]
  }
 ],
 "metadata": {
  "kernelspec": {
   "display_name": "Python 3",
   "language": "python",
   "name": "python3"
  },
  "language_info": {
   "codemirror_mode": {
    "name": "ipython",
    "version": 3
   },
   "file_extension": ".py",
   "mimetype": "text/x-python",
   "name": "python",
   "nbconvert_exporter": "python",
   "pygments_lexer": "ipython3",
   "version": "3.6.5"
  }
 },
 "nbformat": 4,
 "nbformat_minor": 2
}
