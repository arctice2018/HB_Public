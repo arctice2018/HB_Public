{
 "cells": [
  {
   "cell_type": "markdown",
   "metadata": {},
   "source": [
    "### 基于零假设的数值模拟\n",
    "\n",
    "导入下面的数据，并按照以下问题回答下面的测试题目。"
   ]
  },
  {
   "cell_type": "code",
   "execution_count": 11,
   "metadata": {},
   "outputs": [],
   "source": [
    "import pandas as pd\n",
    "import numpy as np\n",
    "import matplotlib.pyplot as plt\n",
    "\n",
    "%matplotlib inline\n",
    "np.random.seed(42)\n",
    "\n",
    "full_data = pd.read_csv('coffee_dataset.csv')\n",
    "# sample_data = full_data.sample(200)\n",
    "# 被注释的这个代码在本专题中的意义是什么？"
   ]
  },
  {
   "cell_type": "markdown",
   "metadata": {},
   "source": [
    "1. 如果你想知道喝咖啡的人的平均身高是否与不喝咖啡的人的平均身高相等，那么，你的零假设和备择假设是什么？将它们放在下面的单元格中，并使用你的答案来回答下面的第一个测试题目。"
   ]
  },
  {
   "cell_type": "markdown",
   "metadata": {},
   "source": [
    "$$H_0: \\mu_{coff} - \\mu_{no} = 0$$\n",
    "\n",
    "$$H_1: \\mu_{coff} - \\mu_{no} \\neq 0$$\n",
    "\n",
    "$\\mu_{coff}$ and $\\mu_{no}$ are the population mean values for coffee drinkers and non-coffee drinkers, respectivley."
   ]
  },
  {
   "cell_type": "markdown",
   "metadata": {},
   "source": [
    "2. 如果你想知道喝咖啡的人的平均身高是否低于不喝咖啡的人的身高，那么，你的零假设和备择假设是什么？将它们放在下面的单元格中，并使用你的答案来回答下面的第二个测试题目。"
   ]
  },
  {
   "cell_type": "markdown",
   "metadata": {},
   "source": [
    "$$H_0 :\\mu_{coff} - \\mu_{no} \\geq 0$$ \n",
    "$$H_1 :\\mu_{coff} - \\mu_{no} < 0$$"
   ]
  },
  {
   "cell_type": "markdown",
   "metadata": {},
   "source": [
    "3. 对于10,000次迭代：自展程序会对样本数据进行抽样，计算喝咖啡的人和不喝咖啡的人的平均身高，并计算每个样本的平均差异。你要在迭代结束时获取三个数组 - 一个是每个平均值，一个是所有平均值的差异。使用你的抽样分布结果，回答下面的第三个测试题目。"
   ]
  },
  {
   "cell_type": "code",
   "execution_count": 16,
   "metadata": {},
   "outputs": [
    {
     "data": {
      "text/plain": [
       "(array([  26.,  188.,  842., 2135., 3066., 2435., 1003.,  269.,   32.,\n",
       "           4.]),\n",
       " array([65.08796843, 65.38313164, 65.67829486, 65.97345807, 66.26862128,\n",
       "        66.5637845 , 66.85894771, 67.15411092, 67.44927413, 67.74443735,\n",
       "        68.03960056]),\n",
       " <a list of 10 Patch objects>)"
      ]
     },
     "execution_count": 16,
     "metadata": {},
     "output_type": "execute_result"
    },
    {
     "data": {
      "image/png": "[encoded data removed]",
      "text/plain": [
       "<Figure size 432x288 with 1 Axes>"
      ]
     },
     "metadata": {},
     "output_type": "display_data"
    }
   ],
   "source": [
    "cof_mean =[]\n",
    "no_cof_mean =[]\n",
    "diffs = []\n",
    "for _ in range(int(1e4)):\n",
    "    botsamp = full_data.sample(200,replace=True)\n",
    "    cof_ = botsamp.query('drinks_coffee == True').height.mean()\n",
    "    no_cof = botsamp.query('drinks_coffee == False').height.mean()\n",
    "    cof_mean.append(cof_)\n",
    "    no_cof_mean.append(no_cof)\n",
    "    diffs.append(cof_ - no_cof)\n",
    "\n",
    "plt.hist(cof_mean,alpha = 0.5)\n",
    "plt.hist(no_cof_mean,alpha = 0.5)"
   ]
  },
  {
   "cell_type": "code",
   "execution_count": 18,
   "metadata": {},
   "outputs": [
    {
     "data": {
      "text/plain": [
       "(array([2.000e+00, 1.900e+01, 1.490e+02, 8.310e+02, 2.357e+03, 3.341e+03,\n",
       "        2.279e+03, 8.510e+02, 1.530e+02, 1.800e+01]),\n",
       " array([-0.13112542,  0.24871256,  0.62855054,  1.00838852,  1.3882265 ,\n",
       "         1.76806448,  2.14790246,  2.52774044,  2.90757841,  3.28741639,\n",
       "         3.66725437]),\n",
       " <a list of 10 Patch objects>)"
      ]
     },
     "execution_count": 18,
     "metadata": {},
     "output_type": "execute_result"
    },
    {
     "data": {
      "image/png": "[encoded data removed]",
      "text/plain": [
       "<Figure size 432x288 with 1 Axes>"
      ]
     },
     "metadata": {},
     "output_type": "display_data"
    }
   ],
   "source": [
    "plt.hist(diffs,alpha =0.5)"
   ]
  },
  {
   "cell_type": "code",
   "execution_count": 21,
   "metadata": {},
   "outputs": [
    {
     "data": {
      "text/plain": [
       "0.240492775741412"
      ]
     },
     "execution_count": 21,
     "metadata": {},
     "output_type": "execute_result"
    }
   ],
   "source": [
    "np.std(cof_mean)"
   ]
  },
  {
   "cell_type": "code",
   "execution_count": 22,
   "metadata": {},
   "outputs": [
    {
     "data": {
      "text/plain": [
       "0.3759427156509508"
      ]
     },
     "execution_count": 22,
     "metadata": {},
     "output_type": "execute_result"
    }
   ],
   "source": [
    "np.std(no_cof_mean)"
   ]
  },
  {
   "cell_type": "markdown",
   "metadata": {},
   "source": [
    "4. 现在，使用你观察到的平均值差异抽样分布以及 [该文档](https://docs.scipy.org/doc/numpy-1.13.0/reference/generated/numpy.random.normal.html) 来模拟：如果零假设是真的，你会期望抽样分布是什么样的。你可以通过重新定位0点分布来完成这个任务。另外，计算 在`sample_data`中观察到的样本均值差。用你的解决方案来回答下面测试题中的最后一个问题。"
   ]
  },
  {
   "cell_type": "code",
   "execution_count": 19,
   "metadata": {},
   "outputs": [],
   "source": [
    "null_vals = np.random.normal(0,np.std(diffs),int(1e4))"
   ]
  },
  {
   "cell_type": "code",
   "execution_count": 20,
   "metadata": {},
   "outputs": [
    {
     "data": {
      "text/plain": [
       "(array([  14.,  134.,  544., 1588., 2772., 2689., 1597.,  534.,  115.,\n",
       "          13.]),\n",
       " array([-1.65458125, -1.32261149, -0.99064174, -0.65867198, -0.32670223,\n",
       "         0.00526753,  0.33723729,  0.66920704,  1.0011768 ,  1.33314655,\n",
       "         1.66511631]),\n",
       " <a list of 10 Patch objects>)"
      ]
     },
     "execution_count": 20,
     "metadata": {},
     "output_type": "execute_result"
    },
    {
     "data": {
      "image/png": "[encoded data removed]",
      "text/plain": [
       "<Figure size 432x288 with 1 Axes>"
      ]
     },
     "metadata": {},
     "output_type": "display_data"
    }
   ],
   "source": [
    "plt.hist(null_vals)"
   ]
  },
  {
   "cell_type": "code",
   "execution_count": null,
   "metadata": {},
   "outputs": [],
   "source": []
  }
 ],
 "metadata": {
  "kernelspec": {
   "display_name": "Python 3",
   "language": "python",
   "name": "python3"
  },
  "language_info": {
   "codemirror_mode": {
    "name": "ipython",
    "version": 3
   },
   "file_extension": ".py",
   "mimetype": "text/x-python",
   "name": "python",
   "nbconvert_exporter": "python",
   "pygments_lexer": "ipython3",
   "version": "3.6.5"
  }
 },
 "nbformat": 4,
 "nbformat_minor": 2
}
