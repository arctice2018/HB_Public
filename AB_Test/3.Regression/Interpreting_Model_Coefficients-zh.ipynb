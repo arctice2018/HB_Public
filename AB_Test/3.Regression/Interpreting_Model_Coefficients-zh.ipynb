{
 "cells": [
  {
   "cell_type": "markdown",
   "metadata": {},
   "source": [
    "### 系数解释\n",
    "\n",
    "你不仅要能够拟合复杂的线性模型，还可以知道哪些变量是可以解释的，这一点很重要。\n",
    "\n",
    "在该 notebook 中，你将拟合几种不同的模型，并在可能的情况下使用下面的测试题将适当的解释与你的系数相匹配。\n",
    "\n",
    "在某些情况下，你的线性回归模型的系数将不会被保留，因为缺乏重要性，这不是该 notebook 的目的 。**这一点需要严格执行，从而确保你很好地理解解释系数（当它们是可以解释的时候）的方法。**"
   ]
  },
  {
   "cell_type": "code",
   "execution_count": null,
   "metadata": {},
   "outputs": [],
   "source": [
    "import numpy as np\n",
    "import pandas as pd\n",
    "import statsmodels.api as sm;\n",
    "\n",
    "df = pd.read_csv('./house_prices.csv')\n",
    "df.head()"
   ]
  },
  {
   "cell_type": "markdown",
   "metadata": {},
   "source": [
    "我们将在整个 notebook 上为这个数据集拟合许多不同的模型。 每个模型都有一个测试题目，这些题目可以让你将模型系数的解释与相应的值相匹配。 当然，如果没有’好’的解释的话，这也是选择之一！\n",
    "\n",
    "### 模型 1\n",
    "\n",
    "`1.` 对于第一个模型，通过使用一个房屋的 `neighborhood`、 `style` 与 `area` 拟合一个模型来预测 `price`  。使用输出，将正确的值与下面测试1中的相应解释相匹配。不要忘记添加一个截距！ 你还需要构建虚拟变量，并且在拟合线性模型时不要忘记删除其中一列。在第一个测试题目中，通过将基线创建 邻域 **C** 与房屋 style **lodge**，将系数解释与第一个测验中的值联系起来可能是最容易的。 \n",
    "\n",
    "### 模型 2\n",
    "\n",
    "`2.` 现在我们来试一下预测价格的第二个模型。这一次，我们使用 `area` 与 `area squared` 来预测价格，同时也要用到房屋的 `style` 。你需要再次需要使用虚拟变量，并在模型中添加一个截距。使用模型的结果来回答第二个与第三个测试题目。"
   ]
  }
 ],
 "metadata": {
  "kernelspec": {
   "display_name": "Python 3",
   "language": "python",
   "name": "python3"
  },
  "language_info": {
   "codemirror_mode": {
    "name": "ipython",
    "version": 3
   },
   "file_extension": ".py",
   "mimetype": "text/x-python",
   "name": "python",
   "nbconvert_exporter": "python",
   "pygments_lexer": "ipython3",
   "version": "3.6.3"
  }
 },
 "nbformat": 4,
 "nbformat_minor": 2
}
