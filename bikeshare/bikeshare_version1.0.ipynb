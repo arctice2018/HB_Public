{
 "cells": [
  {
   "cell_type": "code",
   "execution_count": 1,
   "metadata": {},
   "outputs": [],
   "source": [
    "import pandas as pd\n",
    "import numpy as np\n",
    "from datetime import datetime\n",
    "CITY_DATA = { 'chicago': 'chicago.csv',\n",
    "              'new york city': 'new_york_city.csv',\n",
    "              'washington': 'washington.csv' }\n",
    "MONTHS = [\"January\",\" Fabruary\",\"March\", \"April\", \"May\",\"June\"]\n",
    "WEEK_DAY = [ \"Monday\", \"Tuesday\", \"Wednesday\", \"Thursday\",\"Friday\",\"Saturday\",\"Sunday\"]"
   ]
  },
  {
   "cell_type": "code",
   "execution_count": 2,
   "metadata": {},
   "outputs": [],
   "source": [
    "def user_input(month_flag = True):\n",
    "    if month_flag:\n",
    "        input_content = input(\"Please select month you'd like to explore, all or January, Fabruary, March, April, May, June?\").title()\n",
    "    else:\n",
    "        input_content= input(\"Please select the day of week you'd like to explore,all or Monday, Tuesday, Wednesday, Thursday, Friday, Saturday, Sunday? \")\n",
    "    return input_content"
   ]
  },
  {
   "cell_type": "code",
   "execution_count": 3,
   "metadata": {},
   "outputs": [],
   "source": [
    "def get_filters():\n",
    "    \"\"\"\n",
    "    Asks user to specify a city, month, and day to analyze.\n",
    "\n",
    "    Returns:\n",
    "        (str) city - name of the city to analyze\n",
    "        (str) month - name of the month to filter by, or \"all\" to apply no month filter\n",
    "        (str) day - name of the day of week to filter by, or \"all\" to apply no day filter\n",
    "    \"\"\"\n",
    "    print('Hello! Let\\'s explore some US bikeshare data!')\n",
    "    while True:\n",
    "        city = input(\"Please select the city you would like to explore, Chicago, New York City, Washington? \").lower()\n",
    "        if not CITY_DATA.get(city) :\n",
    "            continue\n",
    "        else:\n",
    "            month =user_input()\n",
    "            day = user_input(False)\n",
    "            break\n",
    "    return city,month,day"
   ]
  },
  {
   "cell_type": "code",
   "execution_count": 4,
   "metadata": {},
   "outputs": [],
   "source": [
    "def load_data(city, month= None, day= None):\n",
    "    \"\"\"\n",
    "    Loads data for the specified city and filters by month and day if applicable.\n",
    "\n",
    "    Args:\n",
    "        (str) city - name of the city to analyze\n",
    "        (str) month - name of the month to filter by, or \"all\" to apply no month filter\n",
    "        (str) day - name of the day of week to filter by, or \"all\" to apply no day filter\n",
    "    Returns:\n",
    "        df - Pandas DataFrame containing city data filtered by month and day\n",
    "    \"\"\"\n",
    "    df=pd.read_csv(CITY_DATA[city])\n",
    "    df[\"Start Time\"]=pd.to_datetime(df[\"Start Time\"])\n",
    "    df[\"year\"] = df[\"Start Time\"].dt.year\n",
    "    df[\"month\"] = df[\"Start Time\"].dt.month\n",
    "    df[\"weekday_name\"] = df[\"Start Time\"].dt.weekday_name\n",
    "    df[\"hour\"] = df[\"Start Time\"].dt.hour\n",
    "    df[\"Trip\"] = df[\"Start Station\"]+df[\"End Station\"]\n",
    "    if month != \"all\":\n",
    "        month_num = MONTHS.index(month)+1\n",
    "        df[df[\"month\"]== month_num]\n",
    "    if day != \"all\":\n",
    "        df[df[\"weekday_name\"]==day.title()]\n",
    "    return df"
   ]
  },
  {
   "cell_type": "code",
   "execution_count": 5,
   "metadata": {},
   "outputs": [],
   "source": [
    "def time_stats(df):\n",
    "    print(\"Initialize Processing... \")\n",
    "    the_most_common_month = df[\"month\"].mode().tolist()[0]\n",
    "    print(f\"the most common month is {the_most_common_month}\")\n",
    "    \n",
    "    print(\"Initialize Processing... \")\n",
    "    the_most_common_weekday = df[\"weekday_name\"].value_counts().index[0]\n",
    "    print(f\"the most common weekday is {the_most_common_weekday}\")\n",
    "    \n",
    "    print(\"Initialize Processing... \")\n",
    "    the_most_popular_hour = df[\"hour\"].mode().tolist[0]\n",
    "    print(f\"the most popular hour is {the_most_popular_hour}\")"
   ]
  },
  {
   "cell_type": "code",
   "execution_count": 6,
   "metadata": {},
   "outputs": [],
   "source": [
    "def station_stats(df):\n",
    "    print(\"Initialize Processing... \")\n",
    "    the_most_popular_start_station = df[\"Start Station\"].value_counts().index[0]\n",
    "    the_most_popular_end_station = df[\"End Station\"].value_counts().index[0]\n",
    "    print(f\"the most popular start station is {the_most_popular_start_station}\")\n",
    "    print(f\"the most popular end station is {the_most_popular_end_station}\")\n",
    "    \n",
    "    print(\"Initialize Processing... \")\n",
    "    the_most_popular_trip =df[\"Trip\"].value_counts().index[0]\n",
    "    print(f\"the most popular trip is {the_most_popular_trip}\")"
   ]
  },
  {
   "cell_type": "code",
   "execution_count": 7,
   "metadata": {},
   "outputs": [],
   "source": [
    "def trip_duration_stats(df):\n",
    "    print(\"Initialize Processing... \")\n",
    "    the_total_trip_duration = df[\"Trip Duration\"].sum()\n",
    "    print(f\"the total trip duration is {the_total_trip_duration} minutes \")\n",
    "    \n",
    "    print(\"Initialize Processing... \")\n",
    "    the_average_trip_duration = df[\"Trip Duration\"].mean()\n",
    "    print(f\"the average of trip duration is {the_average_trip_duration} minutes \")"
   ]
  },
  {
   "cell_type": "code",
   "execution_count": 8,
   "metadata": {},
   "outputs": [],
   "source": [
    "def user_stats(df):\n",
    "    print(\"Initialize Processing... \")\n",
    "    the_user_type_dict = df[\"User Type\"].value_counts().to_dict()\n",
    "    for k,v in the_user_type_dict.items():\n",
    "        print(f\"the type of '{k}' have {v} persons \")\n",
    "        \n",
    "    print(\"Initialize Processing... \")\n",
    "    the_gendar_of_user_dict = df[\"Gender\"].value_counts().to_dict()\n",
    "    for k,v in the_gendar_of_user_dict.items():\n",
    "        print(f\"the gender of '{k}' have {v} persons\")\n",
    "    \n",
    "    print(\"Initialize Processing... \")\n",
    "    the_birth_year_min =df[\"Birth Year\"].min()\n",
    "    the_birth_year_max =df[\"Birth Year\"].max()\n",
    "    the_birth_year_the_most_common = df[\"Birth Year\"].mode().tolist()[0]\n",
    "    print(f\"the earliest birth year is {the_birth_year_min}\")\n",
    "    print(f\"the latest birth year is {the_birth_year_max} \")\n",
    "    print(f\"the most common birth year is {the_birth_year_the_most_common}\")"
   ]
  },
  {
   "cell_type": "code",
   "execution_count": 9,
   "metadata": {},
   "outputs": [],
   "source": [
    "def main():\n",
    "    while True:\n",
    "        city, month, day = get_filters()\n",
    "        df = load_data(city, month, day)\n",
    "\n",
    "        time_stats(df)\n",
    "        station_stats(df)\n",
    "        trip_duration_stats(df)\n",
    "        user_stats(df)\n",
    "\n",
    "        restart = input('\\nWould you like to restart? Enter yes or no.\\n')\n",
    "        if restart.lower() != 'yes':\n",
    "            break"
   ]
  },
  {
   "cell_type": "code",
   "execution_count": 10,
   "metadata": {},
   "outputs": [
    {
     "name": "stdout",
     "output_type": "stream",
     "text": [
      "Hello! Let's explore some US bikeshare data!\n",
      "Please select the city you would like to explore, Chicago, New York City, Washington? chicago\n",
      "Please select month you'd like to explore, all or January, Fabruary, March, April, May, June?all\n",
      "Please select the day of week you'd like to explore,all or Monday, Tuesday, Wednesday, Thursday, Friday, Saturday, Sunday? all\n"
     ]
    },
    {
     "ename": "ValueError",
     "evalue": "'All' is not in list",
     "output_type": "error",
     "traceback": [
      "\u001b[1;31m---------------------------------------------------------------------------\u001b[0m",
      "\u001b[1;31mValueError\u001b[0m                                Traceback (most recent call last)",
      "\u001b[1;32m<ipython-input-10-cd8442b034ba>\u001b[0m in \u001b[0;36m<module>\u001b[1;34m()\u001b[0m\n\u001b[0;32m      1\u001b[0m \u001b[1;32mif\u001b[0m \u001b[0m__name__\u001b[0m \u001b[1;33m==\u001b[0m \u001b[1;34m\"__main__\"\u001b[0m\u001b[1;33m:\u001b[0m\u001b[1;33m\u001b[0m\u001b[0m\n\u001b[1;32m----> 2\u001b[1;33m         \u001b[0mmain\u001b[0m\u001b[1;33m(\u001b[0m\u001b[1;33m)\u001b[0m\u001b[1;33m\u001b[0m\u001b[0m\n\u001b[0m",
      "\u001b[1;32m<ipython-input-9-22904fd7ef26>\u001b[0m in \u001b[0;36mmain\u001b[1;34m()\u001b[0m\n\u001b[0;32m      2\u001b[0m     \u001b[1;32mwhile\u001b[0m \u001b[1;32mTrue\u001b[0m\u001b[1;33m:\u001b[0m\u001b[1;33m\u001b[0m\u001b[0m\n\u001b[0;32m      3\u001b[0m         \u001b[0mcity\u001b[0m\u001b[1;33m,\u001b[0m \u001b[0mmonth\u001b[0m\u001b[1;33m,\u001b[0m \u001b[0mday\u001b[0m \u001b[1;33m=\u001b[0m \u001b[0mget_filters\u001b[0m\u001b[1;33m(\u001b[0m\u001b[1;33m)\u001b[0m\u001b[1;33m\u001b[0m\u001b[0m\n\u001b[1;32m----> 4\u001b[1;33m         \u001b[0mdf\u001b[0m \u001b[1;33m=\u001b[0m \u001b[0mload_data\u001b[0m\u001b[1;33m(\u001b[0m\u001b[0mcity\u001b[0m\u001b[1;33m,\u001b[0m \u001b[0mmonth\u001b[0m\u001b[1;33m,\u001b[0m \u001b[0mday\u001b[0m\u001b[1;33m)\u001b[0m\u001b[1;33m\u001b[0m\u001b[0m\n\u001b[0m\u001b[0;32m      5\u001b[0m \u001b[1;33m\u001b[0m\u001b[0m\n\u001b[0;32m      6\u001b[0m         \u001b[0mtime_stats\u001b[0m\u001b[1;33m(\u001b[0m\u001b[0mdf\u001b[0m\u001b[1;33m)\u001b[0m\u001b[1;33m\u001b[0m\u001b[0m\n",
      "\u001b[1;32m<ipython-input-4-5467cd0ac6d9>\u001b[0m in \u001b[0;36mload_data\u001b[1;34m(city, month, day)\u001b[0m\n\u001b[0;32m     18\u001b[0m     \u001b[0mdf\u001b[0m\u001b[1;33m[\u001b[0m\u001b[1;34m\"Trip\"\u001b[0m\u001b[1;33m]\u001b[0m \u001b[1;33m=\u001b[0m \u001b[0mdf\u001b[0m\u001b[1;33m[\u001b[0m\u001b[1;34m\"Start Station\"\u001b[0m\u001b[1;33m]\u001b[0m\u001b[1;33m+\u001b[0m\u001b[0mdf\u001b[0m\u001b[1;33m[\u001b[0m\u001b[1;34m\"End Station\"\u001b[0m\u001b[1;33m]\u001b[0m\u001b[1;33m\u001b[0m\u001b[0m\n\u001b[0;32m     19\u001b[0m     \u001b[1;32mif\u001b[0m \u001b[0mmonth\u001b[0m \u001b[1;33m!=\u001b[0m \u001b[1;34m\"all\"\u001b[0m\u001b[1;33m:\u001b[0m\u001b[1;33m\u001b[0m\u001b[0m\n\u001b[1;32m---> 20\u001b[1;33m         \u001b[0mmonth_num\u001b[0m \u001b[1;33m=\u001b[0m \u001b[0mMONTHS\u001b[0m\u001b[1;33m.\u001b[0m\u001b[0mindex\u001b[0m\u001b[1;33m(\u001b[0m\u001b[0mmonth\u001b[0m\u001b[1;33m)\u001b[0m\u001b[1;33m+\u001b[0m\u001b[1;36m1\u001b[0m\u001b[1;33m\u001b[0m\u001b[0m\n\u001b[0m\u001b[0;32m     21\u001b[0m         \u001b[0mdf\u001b[0m\u001b[1;33m[\u001b[0m\u001b[0mdf\u001b[0m\u001b[1;33m[\u001b[0m\u001b[1;34m\"month\"\u001b[0m\u001b[1;33m]\u001b[0m\u001b[1;33m==\u001b[0m \u001b[0mmonth_num\u001b[0m\u001b[1;33m]\u001b[0m\u001b[1;33m\u001b[0m\u001b[0m\n\u001b[0;32m     22\u001b[0m     \u001b[1;32mif\u001b[0m \u001b[0mday\u001b[0m \u001b[1;33m!=\u001b[0m \u001b[1;34m\"all\"\u001b[0m\u001b[1;33m:\u001b[0m\u001b[1;33m\u001b[0m\u001b[0m\n",
      "\u001b[1;31mValueError\u001b[0m: 'All' is not in list"
     ]
    }
   ],
   "source": [
    "if __name__ == \"__main__\":\n",
    "\tmain()"
   ]
  }
 ],
 "metadata": {
  "kernelspec": {
   "display_name": "Python 3",
   "language": "python",
   "name": "python3"
  },
  "language_info": {
   "codemirror_mode": {
    "name": "ipython",
    "version": 3
   },
   "file_extension": ".py",
   "mimetype": "text/x-python",
   "name": "python",
   "nbconvert_exporter": "python",
   "pygments_lexer": "ipython3",
   "version": "3.7.0"
  }
 },
 "nbformat": 4,
 "nbformat_minor": 2
}
