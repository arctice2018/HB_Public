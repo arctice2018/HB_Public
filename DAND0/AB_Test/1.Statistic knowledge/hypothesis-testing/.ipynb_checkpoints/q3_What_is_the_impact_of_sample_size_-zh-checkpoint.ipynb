{
 "cells": [
  {
   "cell_type": "markdown",
   "metadata": {},
   "source": [
    "### 大样本的意义\n",
    "\n",
    "当我们增加样本容量时，即使是最小的差异看起来也可能变得非常显著。 \n",
    "\n",
    "为了说明这一点，请完成这个 notebook 和下面的测试题目。\n",
    "\n",
    "首先，导入库和数据。"
   ]
  },
  {
   "cell_type": "code",
   "execution_count": 1,
   "metadata": {},
   "outputs": [],
   "source": [
    "import pandas as pd\n",
    "import numpy as np\n",
    "import matplotlib.pyplot as plt\n",
    "\n",
    "%matplotlib inline\n",
    "np.random.seed(42)\n",
    "\n",
    "full_data = pd.read_csv('coffee_dataset.csv')"
   ]
  },
  {
   "cell_type": "code",
   "execution_count": 2,
   "metadata": {},
   "outputs": [
    {
     "data": {
      "text/html": [
       "<div>\n",
       "<style scoped>\n",
       "    .dataframe tbody tr th:only-of-type {\n",
       "        vertical-align: middle;\n",
       "    }\n",
       "\n",
       "    .dataframe tbody tr th {\n",
       "        vertical-align: top;\n",
       "    }\n",
       "\n",
       "    .dataframe thead th {\n",
       "        text-align: right;\n",
       "    }\n",
       "</style>\n",
       "<table border=\"1\" class=\"dataframe\">\n",
       "  <thead>\n",
       "    <tr style=\"text-align: right;\">\n",
       "      <th></th>\n",
       "      <th>user_id</th>\n",
       "      <th>age</th>\n",
       "      <th>drinks_coffee</th>\n",
       "      <th>height</th>\n",
       "    </tr>\n",
       "  </thead>\n",
       "  <tbody>\n",
       "    <tr>\n",
       "      <th>0</th>\n",
       "      <td>4509</td>\n",
       "      <td>&lt;21</td>\n",
       "      <td>False</td>\n",
       "      <td>64.538179</td>\n",
       "    </tr>\n",
       "    <tr>\n",
       "      <th>1</th>\n",
       "      <td>1864</td>\n",
       "      <td>&gt;=21</td>\n",
       "      <td>True</td>\n",
       "      <td>65.824249</td>\n",
       "    </tr>\n",
       "    <tr>\n",
       "      <th>2</th>\n",
       "      <td>2060</td>\n",
       "      <td>&lt;21</td>\n",
       "      <td>False</td>\n",
       "      <td>71.319854</td>\n",
       "    </tr>\n",
       "    <tr>\n",
       "      <th>3</th>\n",
       "      <td>7875</td>\n",
       "      <td>&gt;=21</td>\n",
       "      <td>True</td>\n",
       "      <td>68.569404</td>\n",
       "    </tr>\n",
       "    <tr>\n",
       "      <th>4</th>\n",
       "      <td>6254</td>\n",
       "      <td>&lt;21</td>\n",
       "      <td>True</td>\n",
       "      <td>64.020226</td>\n",
       "    </tr>\n",
       "  </tbody>\n",
       "</table>\n",
       "</div>"
      ],
      "text/plain": [
       "   user_id   age  drinks_coffee     height\n",
       "0     4509   <21          False  64.538179\n",
       "1     1864  >=21           True  65.824249\n",
       "2     2060   <21          False  71.319854\n",
       "3     7875  >=21           True  68.569404\n",
       "4     6254   <21           True  64.020226"
      ]
     },
     "execution_count": 2,
     "metadata": {},
     "output_type": "execute_result"
    }
   ],
   "source": [
    "full_data.head()"
   ]
  },
  {
   "cell_type": "markdown",
   "metadata": {},
   "source": [
    "1. 在这个案例中，假设我们想要测试 `full_data` 中所有个体的平均身高是否等于67.60英寸或 **不等于** 67.60 英寸。  首先，通过下面的 **测试 1** 来确定这些案例的零假设和备择假设。"
   ]
  },
  {
   "cell_type": "markdown",
   "metadata": {},
   "source": [
    "$$H_0:\\mu_{height}=67.60$$\n",
    "$$H_1:\\mu_{height}\\neq67.60$$"
   ]
  },
  {
   "cell_type": "markdown",
   "metadata": {},
   "source": [
    "2. 人口平均身高是多？人口身高的标准差是多少？使用下面的代码创建一组样本数据。样本的平均身高是多少？模拟五个值的平均值的抽样分布，查看其形状并绘制一个直方图。这五次抽样的平均值的抽样分布的标准差是多少？回答下面的 **测试 2** ，确保你的答案是正确的。"
   ]
  },
  {
   "cell_type": "code",
   "execution_count": 3,
   "metadata": {},
   "outputs": [
    {
     "data": {
      "text/plain": [
       "67.59748697307937"
      ]
     },
     "execution_count": 3,
     "metadata": {},
     "output_type": "execute_result"
    }
   ],
   "source": [
    "full_data.height.mean()"
   ]
  },
  {
   "cell_type": "code",
   "execution_count": 4,
   "metadata": {},
   "outputs": [
    {
     "data": {
      "text/plain": [
       "3.119433206550344"
      ]
     },
     "execution_count": 4,
     "metadata": {},
     "output_type": "execute_result"
    }
   ],
   "source": [
    "full_data.height.std()"
   ]
  },
  {
   "cell_type": "code",
   "execution_count": 15,
   "metadata": {},
   "outputs": [
    {
     "data": {
      "text/html": [
       "<div>\n",
       "<style scoped>\n",
       "    .dataframe tbody tr th:only-of-type {\n",
       "        vertical-align: middle;\n",
       "    }\n",
       "\n",
       "    .dataframe tbody tr th {\n",
       "        vertical-align: top;\n",
       "    }\n",
       "\n",
       "    .dataframe thead th {\n",
       "        text-align: right;\n",
       "    }\n",
       "</style>\n",
       "<table border=\"1\" class=\"dataframe\">\n",
       "  <thead>\n",
       "    <tr style=\"text-align: right;\">\n",
       "      <th></th>\n",
       "      <th>user_id</th>\n",
       "      <th>age</th>\n",
       "      <th>drinks_coffee</th>\n",
       "      <th>height</th>\n",
       "    </tr>\n",
       "  </thead>\n",
       "  <tbody>\n",
       "    <tr>\n",
       "      <th>955</th>\n",
       "      <td>3228</td>\n",
       "      <td>&gt;=21</td>\n",
       "      <td>True</td>\n",
       "      <td>66.525889</td>\n",
       "    </tr>\n",
       "    <tr>\n",
       "      <th>2629</th>\n",
       "      <td>7459</td>\n",
       "      <td>&lt;21</td>\n",
       "      <td>True</td>\n",
       "      <td>63.319838</td>\n",
       "    </tr>\n",
       "    <tr>\n",
       "      <th>2811</th>\n",
       "      <td>4208</td>\n",
       "      <td>&gt;=21</td>\n",
       "      <td>True</td>\n",
       "      <td>68.468615</td>\n",
       "    </tr>\n",
       "    <tr>\n",
       "      <th>1749</th>\n",
       "      <td>4216</td>\n",
       "      <td>&lt;21</td>\n",
       "      <td>False</td>\n",
       "      <td>63.582115</td>\n",
       "    </tr>\n",
       "    <tr>\n",
       "      <th>1236</th>\n",
       "      <td>3699</td>\n",
       "      <td>&gt;=21</td>\n",
       "      <td>True</td>\n",
       "      <td>69.045293</td>\n",
       "    </tr>\n",
       "  </tbody>\n",
       "</table>\n",
       "</div>"
      ],
      "text/plain": [
       "      user_id   age  drinks_coffee     height\n",
       "955      3228  >=21           True  66.525889\n",
       "2629     7459   <21           True  63.319838\n",
       "2811     4208  >=21           True  68.468615\n",
       "1749     4216   <21          False  63.582115\n",
       "1236     3699  >=21           True  69.045293"
      ]
     },
     "execution_count": 15,
     "metadata": {},
     "output_type": "execute_result"
    }
   ],
   "source": [
    "sample1 = full_data.sample(5)\n",
    "sample1"
   ]
  },
  {
   "cell_type": "code",
   "execution_count": 16,
   "metadata": {},
   "outputs": [
    {
     "data": {
      "text/plain": [
       "66.18834984138284"
      ]
     },
     "execution_count": 16,
     "metadata": {},
     "output_type": "execute_result"
    }
   ],
   "source": [
    "sample1.height.mean()"
   ]
  },
  {
   "cell_type": "code",
   "execution_count": 20,
   "metadata": {},
   "outputs": [
    {
     "data": {
      "text/plain": [
       "[      user_id   age  drinks_coffee     height\n",
       " 2811     4208  >=21           True  68.468615\n",
       " 1236     3699  >=21           True  69.045293\n",
       " 955      3228  >=21           True  66.525889\n",
       " 1236     3699  >=21           True  69.045293\n",
       " 2811     4208  >=21           True  68.468615,\n",
       "       user_id   age  drinks_coffee     height\n",
       " 2629     7459   <21           True  63.319838\n",
       " 1236     3699  >=21           True  69.045293\n",
       " 2811     4208  >=21           True  68.468615\n",
       " 2629     7459   <21           True  63.319838\n",
       " 1749     4216   <21          False  63.582115,\n",
       "       user_id   age  drinks_coffee     height\n",
       " 1236     3699  >=21           True  69.045293\n",
       " 1236     3699  >=21           True  69.045293\n",
       " 955      3228  >=21           True  66.525889\n",
       " 1749     4216   <21          False  63.582115\n",
       " 955      3228  >=21           True  66.525889,\n",
       "       user_id   age  drinks_coffee     height\n",
       " 955      3228  >=21           True  66.525889\n",
       " 2811     4208  >=21           True  68.468615\n",
       " 955      3228  >=21           True  66.525889\n",
       " 1236     3699  >=21           True  69.045293\n",
       " 955      3228  >=21           True  66.525889,\n",
       "       user_id   age  drinks_coffee     height\n",
       " 2629     7459   <21           True  63.319838\n",
       " 1236     3699  >=21           True  69.045293\n",
       " 2811     4208  >=21           True  68.468615\n",
       " 955      3228  >=21           True  66.525889\n",
       " 2629     7459   <21           True  63.319838,\n",
       "       user_id   age  drinks_coffee     height\n",
       " 2629     7459   <21           True  63.319838\n",
       " 1236     3699  >=21           True  69.045293\n",
       " 955      3228  >=21           True  66.525889\n",
       " 2629     7459   <21           True  63.319838\n",
       " 955      3228  >=21           True  66.525889,\n",
       "       user_id   age  drinks_coffee     height\n",
       " 1236     3699  >=21           True  69.045293\n",
       " 1749     4216   <21          False  63.582115\n",
       " 2629     7459   <21           True  63.319838\n",
       " 2811     4208  >=21           True  68.468615\n",
       " 955      3228  >=21           True  66.525889,\n",
       "       user_id   age  drinks_coffee     height\n",
       " 1236     3699  >=21           True  69.045293\n",
       " 1236     3699  >=21           True  69.045293\n",
       " 2811     4208  >=21           True  68.468615\n",
       " 1749     4216   <21          False  63.582115\n",
       " 955      3228  >=21           True  66.525889,\n",
       "       user_id   age  drinks_coffee     height\n",
       " 1749     4216   <21          False  63.582115\n",
       " 1236     3699  >=21           True  69.045293\n",
       " 2629     7459   <21           True  63.319838\n",
       " 1749     4216   <21          False  63.582115\n",
       " 2629     7459   <21           True  63.319838,\n",
       "       user_id   age  drinks_coffee     height\n",
       " 2811     4208  >=21           True  68.468615\n",
       " 1236     3699  >=21           True  69.045293\n",
       " 2629     7459   <21           True  63.319838\n",
       " 955      3228  >=21           True  66.525889\n",
       " 1236     3699  >=21           True  69.045293]"
      ]
     },
     "execution_count": 20,
     "metadata": {},
     "output_type": "execute_result"
    }
   ],
   "source": [
    "t = []\n",
    "for i in range(10):\n",
    "    b1 = sample1.sample(5,replace = True)\n",
    "    t.append(b1)\n",
    "t"
   ]
  },
  {
   "cell_type": "markdown",
   "metadata": {},
   "source": [
    "+ 根据以上代码和输出内容，判断在进行bootstrap的时候，不应该使用sample1,而是full_data来进行sample."
   ]
  },
  {
   "cell_type": "code",
   "execution_count": 9,
   "metadata": {},
   "outputs": [
    {
     "data": {
      "text/plain": [
       "(array([3.000e+00, 2.800e+01, 2.300e+02, 8.830e+02, 2.146e+03, 3.090e+03,\n",
       "        2.454e+03, 9.740e+02, 1.780e+02, 1.400e+01]),\n",
       " array([61.48630745, 62.59060021, 63.69489296, 64.79918571, 65.90347846,\n",
       "        67.00777122, 68.11206397, 69.21635672, 70.32064948, 71.42494223,\n",
       "        72.52923498]),\n",
       " <a list of 10 Patch objects>)"
      ]
     },
     "execution_count": 9,
     "metadata": {},
     "output_type": "execute_result"
    },
    {
     "data": {
      "image/png": "[encoded data removed]",
      "text/plain": [
       "<Figure size 432x288 with 1 Axes>"
      ]
     },
     "metadata": {},
     "output_type": "display_data"
    }
   ],
   "source": [
    "height_means = []\n",
    "for _ in range(int(1e4)):\n",
    "    bootstrap_sample = full_data.sample(5,replace = True)\n",
    "    height_means.append(bootstrap_sample.height.mean())\n",
    "    \n",
    "plt.hist(height_means)"
   ]
  },
  {
   "cell_type": "code",
   "execution_count": 10,
   "metadata": {},
   "outputs": [
    {
     "data": {
      "text/plain": [
       "1.379823195399354"
      ]
     },
     "execution_count": 10,
     "metadata": {},
     "output_type": "execute_result"
    }
   ],
   "source": [
    "np.std(height_means)"
   ]
  },
  {
   "cell_type": "markdown",
   "metadata": {},
   "source": [
    "3. 使用问题1中的零假设和备择假设以及问题2中抽样分布的结果，模拟你在零假设中的期望平均值。使用这些模拟值来确定一个p值，做出一个关于零假设和备择假设的决定。通过下面的 **测试 3** 和 **测试 4** 来检查你的解决方案。\n",
    "\n",
    "  **提示:**  [这里](https://docs.scipy.org/doc/numpy-1.13.0/reference/generated/numpy.random.normal.html) 的 Numpy 文件可以帮你完成你的解决方案。"
   ]
  },
  {
   "cell_type": "markdown",
   "metadata": {},
   "source": [
    "+ 第一种方法"
   ]
  },
  {
   "cell_type": "code",
   "execution_count": 55,
   "metadata": {},
   "outputs": [
    {
     "data": {
      "image/png": "[encoded data removed]",
      "text/plain": [
       "<Figure size 432x288 with 1 Axes>"
      ]
     },
     "metadata": {},
     "output_type": "display_data"
    }
   ],
   "source": [
    "null_mean = np.around(full_data.height.mean(),decimals=2)\n",
    "null_sim_dist = np.random.normal(null_mean,np.std(height_means),int(1e4))\n",
    "\n",
    "plt.hist(height_means)\n",
    "plt.axvline(x = full_data.height.mean(),color = 'red')\n",
    "obs_mean = sample1.height.mean()\n",
    "plt.axvline(x = obs_mean,color = 'orange')\n",
    "plt.show()"
   ]
  },
  {
   "cell_type": "code",
   "execution_count": 57,
   "metadata": {},
   "outputs": [
    {
     "data": {
      "text/plain": [
       "1.6912"
      ]
     },
     "execution_count": 57,
     "metadata": {},
     "output_type": "execute_result"
    }
   ],
   "source": [
    "# for a two sided hypothesis, we want to look at anything \n",
    "# more extreme from the null in both directions\n",
    "\n",
    "lower_bound = null_mean - (obs_mean - null_mean)\n",
    "upper_bound = null_mean + (obs_mean - null_mean)\n",
    "\n",
    "prob_more_extreme_high = (null_sim_dist > upper_bound).mean()\n",
    "prob_more_extreme_low = (null_sim_dist < lower_bound).mean()\n",
    "\n",
    "p_value = prob_more_extreme_low + prob_more_extreme_high\n",
    "p_value"
   ]
  },
  {
   "cell_type": "code",
   "execution_count": 58,
   "metadata": {},
   "outputs": [
    {
     "data": {
      "image/png": "[encoded data removed]",
      "text/plain": [
       "<Figure size 432x288 with 1 Axes>"
      ]
     },
     "metadata": {},
     "output_type": "display_data"
    }
   ],
   "source": [
    "plt.hist(null_sim_dist);\n",
    "plt.axvline(x=lower_bound, color = 'red');\n",
    "plt.axvline(x=upper_bound, color = 'red');\n",
    "plt.show()"
   ]
  },
  {
   "cell_type": "markdown",
   "metadata": {},
   "source": [
    "+ 第二种方法"
   ]
  },
  {
   "cell_type": "code",
   "execution_count": 60,
   "metadata": {},
   "outputs": [
    {
     "data": {
      "text/plain": [
       "1.6905999999999999"
      ]
     },
     "execution_count": 60,
     "metadata": {},
     "output_type": "execute_result"
    }
   ],
   "source": [
    "null_mean = np.around(full_data.height.mean(),decimals=2)\n",
    "# 这是从理论层面上计算抽样分布标准差的另一种方法\n",
    "std_sampling_dist = full_data.height.std()/np.sqrt(5)\n",
    "num_sims = 10000\n",
    "null_sims = np.random.normal(null_mean, std_sampling_dist, num_sims)\n",
    "low_ext = (null_mean - (sample1.height.mean() - null_mean))\n",
    "high_ext = (null_mean + (sample1.height.mean() - null_mean))\n",
    "\n",
    "(null_sims > high_ext).mean() + (null_sims < low_ext).mean()"
   ]
  },
  {
   "cell_type": "markdown",
   "metadata": {},
   "source": [
    "4. 现在，假设你从上面问题2中的样本中得到了相同的样本均值，但是样本数量是1000。对于这1000个值的平均值，你的抽样分布的新标准差是多少？此外，你的新p值是在你设定的零假设和备择假设之间选择的吗？模拟五个值的平均值的抽样分布，查看其形状并绘制一个直方图。在这里根据你的解决方案来回答下面的第二个到最后一个测试题目。\n",
    "\n",
    "  **提示：**  需要注意的是，如果遇到任何困难，你可以使用测试中的解决方案，尽早找到 p 值，只需稍作更改即可获得该答案。"
   ]
  },
  {
   "cell_type": "code",
   "execution_count": 76,
   "metadata": {},
   "outputs": [
    {
     "data": {
      "text/plain": [
       "0.09873266088818435"
      ]
     },
     "execution_count": 76,
     "metadata": {},
     "output_type": "execute_result"
    }
   ],
   "source": [
    "# get standard deviation for a sample size of 1000\n",
    "# sample2 = full_data.sample(1000)\n",
    "null_mean = np.around(full_data.height.mean(),decimals=2)\n",
    "sampling_dist_mean1000 = []\n",
    "for _ in range(10000):\n",
    "    bootstrap_sample = full_data.sample(1000, replace=True)\n",
    "    bootstrap_mean = bootstrap_sample.height.mean()\n",
    "    sampling_dist_mean1000.append(bootstrap_mean)\n",
    "    \n",
    "std_sampling_dist1000 = np.std(sampling_dist_mean1000)\n",
    "std_sampling_dist1000"
   ]
  },
  {
   "cell_type": "code",
   "execution_count": 84,
   "metadata": {},
   "outputs": [
    {
     "data": {
      "image/png": "[encoded data removed]",
      "text/plain": [
       "<Figure size 432x288 with 1 Axes>"
      ]
     },
     "metadata": {},
     "output_type": "display_data"
    }
   ],
   "source": [
    "null_vals = np.random.normal(null_mean, std_sampling_dist1000, 10000)\n",
    "\n",
    "obs_mean = full_data.sample(1000).height.mean()\n",
    "lower_bound = null_mean - (obs_mean - null_mean)\n",
    "upper_bound = null_mean + (obs_mean - null_mean)\n",
    "\n",
    "lower_bound\n",
    "plt.hist(null_vals);\n",
    "plt.axvline(x=lower_bound, color = 'red');\n",
    "plt.axvline(x=upper_bound, color = 'red');\n",
    "plt.show()\n",
    "plt.show()"
   ]
  },
  {
   "cell_type": "code",
   "execution_count": 85,
   "metadata": {},
   "outputs": [
    {
     "data": {
      "text/plain": [
       "0.719"
      ]
     },
     "execution_count": 85,
     "metadata": {},
     "output_type": "execute_result"
    }
   ],
   "source": [
    "# for a two sided hypothesis, we want to look at anything \n",
    "# more extreme from the null in both directions\n",
    "\n",
    "prob_more_extreme_low = (null_vals < lower_bound).mean()\n",
    "prob_more_extreme_high = (upper_bound < null_vals).mean()\n",
    "\n",
    "p_value = prob_more_extreme_low + prob_more_extreme_high\n",
    "p_value"
   ]
  },
  {
   "cell_type": "markdown",
   "metadata": {},
   "source": [
    "5. 通过回答最后一个测试题目，回顾本节内容。"
   ]
  },
  {
   "cell_type": "code",
   "execution_count": null,
   "metadata": {},
   "outputs": [],
   "source": []
  }
 ],
 "metadata": {
  "kernelspec": {
   "display_name": "Python 3",
   "language": "python",
   "name": "python3"
  },
  "language_info": {
   "codemirror_mode": {
    "name": "ipython",
    "version": 3
   },
   "file_extension": ".py",
   "mimetype": "text/x-python",
   "name": "python",
   "nbconvert_exporter": "python",
   "pygments_lexer": "ipython3",
   "version": "3.6.5"
  }
 },
 "nbformat": 4,
 "nbformat_minor": 2
}
