{
 "cells": [
  {
   "cell_type": "markdown",
   "metadata": {},
   "source": [
    "### 中心极限定理 \n",
    "\n",
    "浏览所有的问题，然后使用创建的变量来回答 notebook 下面的问题。\n",
    "\n",
    "运行下面的单元格，开始你的任务吧。"
   ]
  },
  {
   "cell_type": "code",
   "execution_count": 21,
   "metadata": {},
   "outputs": [
    {
     "data": {
      "text/plain": [
       "(array([1663.,  747.,  329.,  134.,   73.,   34.,   13.,    5.,    0.,\n",
       "           2.]),\n",
       " array([1.16348231e-03, 8.17255031e+01, 1.63449843e+02, 2.45174182e+02,\n",
       "        3.26898522e+02, 4.08622862e+02, 4.90347201e+02, 5.72071541e+02,\n",
       "        6.53795881e+02, 7.35520220e+02, 8.17244560e+02]),\n",
       " <a list of 10 Patch objects>)"
      ]
     },
     "execution_count": 21,
     "metadata": {},
     "output_type": "execute_result"
    },
    {
     "data": {
      "image/png": "[encoded data removed]",
      "text/plain": [
       "<Figure size 432x288 with 1 Axes>"
      ]
     },
     "metadata": {},
     "output_type": "display_data"
    }
   ],
   "source": [
    "import numpy as np\n",
    "import matplotlib.pyplot as plt\n",
    "\n",
    "%matplotlib inline\n",
    "np.random.seed(42)\n",
    "\n",
    "pop_data = np.random.gamma(1,100,3000)\n",
    "plt.hist(pop_data)"
   ]
  },
  {
   "cell_type": "markdown",
   "metadata": {},
   "source": [
    "`1.` 为了创建该分布中3次取样的平均值的抽样分布，请按照下列步骤操作：\n",
    "\n",
    "`a.` 使用 numpy 的 **random.choice** 模拟从 `pop_data` 数组中进行3次取样。   <br><br>\n",
    "`b.` 计算这3次取样的平均值。 <br><br>\n",
    "`c.` 编写一个循环10,000次的程序来模拟这个过程，并将每个均值存储到一个名为 **means_size_3** 的数组中。<br><br>\n",
    "`d.` 绘制一个样本均值直方图。<br><br>\n",
    "`e.` 使用 **means_size_3** 与 **pop_data**  回答下面的测试题目。"
   ]
  },
  {
   "cell_type": "code",
   "execution_count": 22,
   "metadata": {},
   "outputs": [
    {
     "data": {
      "text/plain": [
       "array([  1.99073813,   2.56776095, 100.03907725])"
      ]
     },
     "execution_count": 22,
     "metadata": {},
     "output_type": "execute_result"
    }
   ],
   "source": [
    "sample_3 = np.random.choice(pop_data,3)\n",
    "sample_3"
   ]
  },
  {
   "cell_type": "code",
   "execution_count": 23,
   "metadata": {},
   "outputs": [
    {
     "data": {
      "text/plain": [
       "34.86585877838206"
      ]
     },
     "execution_count": 23,
     "metadata": {},
     "output_type": "execute_result"
    }
   ],
   "source": [
    "sample_3.mean()"
   ]
  },
  {
   "cell_type": "code",
   "execution_count": 10,
   "metadata": {},
   "outputs": [],
   "source": [
    "means_size_3=[]\n",
    "for i in range(int(1e4)):\n",
    "    sample_i = np.random.choice(pop_data,3)\n",
    "    means_size_3.append(sample_i.mean())"
   ]
  },
  {
   "cell_type": "code",
   "execution_count": 24,
   "metadata": {},
   "outputs": [
    {
     "data": {
      "text/plain": [
       "10000"
      ]
     },
     "execution_count": 24,
     "metadata": {},
     "output_type": "execute_result"
    }
   ],
   "source": [
    "len(means_size_3)"
   ]
  },
  {
   "cell_type": "code",
   "execution_count": 12,
   "metadata": {},
   "outputs": [
    {
     "data": {
      "text/plain": [
       "(array([1447., 3132., 2544., 1553.,  782.,  348.,  117.,   53.,   18.,\n",
       "           6.]), array([  2.57642649,  43.38026516,  84.18410382, 124.98794249,\n",
       "        165.79178116, 206.59561982, 247.39945849, 288.20329716,\n",
       "        329.00713582, 369.81097449, 410.61481316]), <a list of 10 Patch objects>)"
      ]
     },
     "execution_count": 12,
     "metadata": {},
     "output_type": "execute_result"
    },
    {
     "data": {
      "image/png": "[encoded data removed]",
      "text/plain": [
       "<Figure size 432x288 with 1 Axes>"
      ]
     },
     "metadata": {},
     "output_type": "display_data"
    }
   ],
   "source": [
    "plt.hist(means_size_3)"
   ]
  },
  {
   "cell_type": "code",
   "execution_count": 25,
   "metadata": {},
   "outputs": [
    {
     "data": {
      "text/plain": [
       "100.35978700795846"
      ]
     },
     "execution_count": 25,
     "metadata": {},
     "output_type": "execute_result"
    }
   ],
   "source": [
    "# 总体平均值\n",
    "pop_data.mean()"
   ]
  },
  {
   "cell_type": "code",
   "execution_count": 26,
   "metadata": {},
   "outputs": [
    {
     "data": {
      "text/plain": [
       "99.77860187968906"
      ]
     },
     "execution_count": 26,
     "metadata": {},
     "output_type": "execute_result"
    }
   ],
   "source": [
    "# 总体标准差\n",
    "np.std(pop_data)"
   ]
  },
  {
   "cell_type": "markdown",
   "metadata": {},
   "source": [
    "+ 所谓的抽样分布，实际上指的是抽样的某个statistic的分布"
   ]
  },
  {
   "cell_type": "code",
   "execution_count": 36,
   "metadata": {},
   "outputs": [
    {
     "data": {
      "text/plain": [
       "57.513921886153405"
      ]
     },
     "execution_count": 36,
     "metadata": {},
     "output_type": "execute_result"
    }
   ],
   "source": [
    "# 抽样均值分布的标准差\n",
    "np.std(means_size_3)"
   ]
  },
  {
   "cell_type": "code",
   "execution_count": 35,
   "metadata": {},
   "outputs": [
    {
     "data": {
      "text/plain": [
       "100.69726330031301"
      ]
     },
     "execution_count": 35,
     "metadata": {},
     "output_type": "execute_result"
    }
   ],
   "source": [
    "# 抽样均值分布的均值\n",
    "np.mean(means_size_3)"
   ]
  }
 ],
 "metadata": {
  "kernelspec": {
   "display_name": "Python 3",
   "language": "python",
   "name": "python3"
  },
  "language_info": {
   "codemirror_mode": {
    "name": "ipython",
    "version": 3
   },
   "file_extension": ".py",
   "mimetype": "text/x-python",
   "name": "python",
   "nbconvert_exporter": "python",
   "pygments_lexer": "ipython3",
   "version": "3.6.5"
  }
 },
 "nbformat": 4,
 "nbformat_minor": 2
}
