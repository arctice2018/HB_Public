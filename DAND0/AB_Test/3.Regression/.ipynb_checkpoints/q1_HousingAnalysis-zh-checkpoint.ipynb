{
 "cells": [
  {
   "cell_type": "markdown",
   "metadata": {},
   "source": [
    "### 住房分析\n",
    "\n",
    "在本 notebook 中，你将使用下面显示的房屋数据复制本课中所见的大部分内容。\n",
    "\n",
    "完成这个 notebook 和随后的一系列测试题目后，你需要通过利用一些新的数据集，尝试使用你的技能来进行一些额外的练习。  **你可以忽略运行IN [1]: 单元格里的 import 后弹出的版本更新警告**。"
   ]
  },
  {
   "cell_type": "code",
   "execution_count": null,
   "metadata": {},
   "outputs": [],
   "source": [
    "import numpy as np\n",
    "import pandas as pd\n",
    "import statsmodels.api as sm;\n",
    "\n",
    "df = pd.read_csv('./house_price_area_only.csv')\n",
    "df.head()"
   ]
  },
  {
   "cell_type": "markdown",
   "metadata": {},
   "source": [
    "`1.` 使用 [这里](http://www.statsmodels.org/dev/regression.html) 的文件和 **statsmodels** 库来拟合一个线性模型，用来预测基于 **area** 的 **price** 。获得一个结果摘要，并用它们回答以下的测试题目。不要忘记添加一个截距。"
   ]
  }
 ],
 "metadata": {
  "kernelspec": {
   "display_name": "Python 3",
   "language": "python",
   "name": "python3"
  },
  "language_info": {
   "codemirror_mode": {
    "name": "ipython",
    "version": 3
   },
   "file_extension": ".py",
   "mimetype": "text/x-python",
   "name": "python",
   "nbconvert_exporter": "python",
   "pygments_lexer": "ipython3",
   "version": "3.6.5"
  }
 },
 "nbformat": 4,
 "nbformat_minor": 2
}
