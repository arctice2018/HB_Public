{
 "cells": [
  {
   "cell_type": "markdown",
   "metadata": {},
   "source": [
    "### 案例研究\n",
    "\n",
    "在这个案例研究中，你将使用在上一课中看到的同样的波士顿房屋数据。但是，你现在可以更好地处理此数据集中实际存在的复杂性。\n",
    "\n",
    "首先，让我们设定库和数据。"
   ]
  },
  {
   "cell_type": "code",
   "execution_count": null,
   "metadata": {},
   "outputs": [],
   "source": [
    "import numpy as np\n",
    "import pandas as pd\n",
    "import statsmodels.api as sm\n",
    "from statsmodels.stats.outliers_influence import variance_inflation_factor\n",
    "from sklearn.datasets import load_boston\n",
    "from sklearn.model_selection import train_test_split\n",
    "from sklearn.linear_model import LinearRegression\n",
    "from sklearn.preprocessing import StandardScaler\n",
    "from sklearn.metrics import r2_score\n",
    "from patsy import dmatrices\n",
    "import matplotlib.pyplot as plt\n",
    "%matplotlib inline\n",
    "\n",
    "np.random.seed(42)\n",
    "\n",
    "boston_data = load_boston()\n",
    "df = pd.DataFrame()\n",
    "df['MedianHomePrice'] = boston_data.target\n",
    "df2 = pd.DataFrame(boston_data.data)\n",
    "df2.columns = boston_data.feature_names\n",
    "df = df.join(df2)\n",
    "df.head()"
   ]
  },
  {
   "cell_type": "markdown",
   "metadata": {},
   "source": [
    "你将要用到 notebook 的 **df** 数据帧。你可以在 [这里](https://www.cs.toronto.edu/~delve/data/boston/bostonDetail.html) 找到数据集中关于特征的描述。具体而言，你将尝试使用数据集中的其他变量来构建最佳模型以预测平均房价。 \n",
    "\n",
    "`1.` 使用 [train test_split](http://scikit-learn.org/stable/modules/cross_validation.html) 创建一个 training 数据集与一个 test 数据集，其中20％的数据在 test 数据集中。无序状态设为0。将结果存储在 `X_train, X_test, y_train, y_test` 中。\n",
    "\n",
    "除非指定，否则只能使用 `X_train` 与 `y_train` 变量来回答以下问题。\n",
    "\n",
    "`2.` 首先，获取数据集中每个特征的汇总。使用汇总的结果回答下面的第一个与第二个测试题目。同样，使用 [corr](https://pandas.pydata.org/pandas-docs/stable/generated/pandas.DataFrame.corr.html) 方法对每个变量进行相互比较。\n",
    "\n",
    "`2.` 接下来，使用 [StandardScaler](http://scikit-learn.org/stable/modules/generated/sklearn.preprocessing.StandardScaler.html#sklearn.preprocessing.StandardScaler) 来缩放数据集中的所有 x 变量。将结果存储在 `X_scaled_train` 中。 创建一个 pandas 数据帧并存储缩放的 x 变量以及 training 响应。把该数据帧命名为 `training_data` 。\n",
    "\n",
    "`3.` 接下来，记得用 **所有的** 缩放特征来拟合线性模型，以预测此响应（平均房价）。不要忘记添加一个截距。使用你的线性模型的结果来回答下面的第三个测试题目。\n",
    "\n",
    "`4.` 现在，使用下面的函数来计算数据集中每个 x_variable 的 vif，并使用该函数的结果来回答下面的第四个测试题目。"
   ]
  },
  {
   "cell_type": "code",
   "execution_count": null,
   "metadata": {},
   "outputs": [],
   "source": [
    "def vif_calculator(df, response):\n",
    "    '''\n",
    "    INPUT:\n",
    "    df - a dataframe holding the x and y-variables\n",
    "    response - the column name of the response as a string\n",
    "    OUTPUT:\n",
    "    vif - a dataframe of the vifs\n",
    "    '''\n",
    "    df2 = df.drop(response, axis = 1, inplace=False)\n",
    "    features = \"+\".join(df2.columns)\n",
    "    y, X = dmatrices(response + ' ~' + features, df, return_type='dataframe')\n",
    "    vif = pd.DataFrame()\n",
    "    vif[\"VIF Factor\"] = [variance_inflation_factor(X.values, i) for i in range(X.shape[1])]\n",
    "    vif[\"features\"] = X.columns\n",
    "    vif = vif.round(1)\n",
    "    return vif"
   ]
  },
  {
   "cell_type": "markdown",
   "metadata": {},
   "source": [
    "`5.` 根据查看 p 值和 VIF 的结果，确定删除 `AGE`、 `NOX` 与 `TAX` ，删掉这些特征之后，用剩余的特征拟合一个新的线性模型。使用这个线性模型和先期模型的结果来回答下面的第五个测试题目。\n",
    "\n",
    "`6.` 给出之前的线性回归模型的结果，从模型中删除 `RAD` 变量。然后仔细检查所有的 VIF 是否小于4。所有的变量现在应该显示与响应的具有的线性关系，并且与先前模型相比，Rsquared 值没有发生变化。\n",
    "\n",
    "`6.` 因为使用线性模型通过 statsmodels 扩展到 test 数据有点乏味，所以我们将使用 [sklearn 这样去做 ](http://scikit-learn.org/stable/modules/generated/sklearn.linear_model.LinearRegression.html)。 以下是将完整模型拟合到我们的数据的一个例子。\n",
    "\n",
    "正如你可以在文档中看到的那样，你需要注意一点，该数据默认使用 sklearn 的线性模型进行缩放。  \n",
    "\n",
    "我在模型下面的单元格中创建了剩余的 X 矩阵。使用这些来修改并查看哪个模型在 test 集上的效果最好。使用你的结果回答下面的最后一个测试题目。"
   ]
  },
  {
   "cell_type": "code",
   "execution_count": null,
   "metadata": {},
   "outputs": [],
   "source": [
    "X_data = df.drop('MedianHomePrice', axis=1, inplace=False)\n",
    "X_train, X_test, y_train, y_test = train_test_split(\n",
    "                 X_data, df['MedianHomePrice'], test_size=0.2, random_state=0)\n",
    "\n",
    "\n",
    "lm_full = LinearRegression()\n",
    "lm_full.fit(X_train, y_train)\n",
    "lm_full.score(X_test, y_test)"
   ]
  },
  {
   "cell_type": "code",
   "execution_count": null,
   "metadata": {},
   "outputs": [],
   "source": [
    "X_train_red = X_train.drop(['AGE','NOX','TAX'] , axis=1, inplace=False)\n",
    "X_test_red = X_test.drop(['AGE','NOX','TAX'] , axis=1, inplace=False)\n",
    "\n",
    "\n",
    "X_train_red2 = X_train.drop(['AGE','NOX','TAX','RAD'] , axis=1, inplace=False)\n",
    "X_test_red2 = X_test.drop(['AGE','NOX','TAX','RAD'] , axis=1, inplace=False)\n"
   ]
  },
  {
   "cell_type": "code",
   "execution_count": null,
   "metadata": {},
   "outputs": [],
   "source": [
    "lm_red = LinearRegression()\n",
    "lm_red.fit(X_train_red, y_train)\n",
    "print(lm_red.score(X_test_red, y_test))\n",
    "\n",
    "lm_red2 = LinearRegression()\n",
    "lm_red2.fit(X_train_red2, y_train)\n",
    "print(lm_red2.score(X_test_red2, y_test))\n"
   ]
  }
 ],
 "metadata": {
  "kernelspec": {
   "display_name": "Python 3",
   "language": "python",
   "name": "python3"
  },
  "language_info": {
   "codemirror_mode": {
    "name": "ipython",
    "version": 3
   },
   "file_extension": ".py",
   "mimetype": "text/x-python",
   "name": "python",
   "nbconvert_exporter": "python",
   "pygments_lexer": "ipython3",
   "version": "3.6.5"
  }
 },
 "nbformat": 4,
 "nbformat_minor": 2
}
