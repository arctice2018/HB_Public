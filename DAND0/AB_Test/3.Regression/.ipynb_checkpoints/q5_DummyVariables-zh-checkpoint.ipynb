{
 "cells": [
  {
   "cell_type": "markdown",
   "metadata": {},
   "source": [
    "### 虚拟变量\n",
    "\n",
    "你在前面的 notebook 中已经看到了，你无法直接将分类变量添加到多重线性回归模型中。在这个 notebook 中，你会进行一些练习，学习如何在模型中添加虚拟变量并解释输出。\n",
    "\n",
    "首先，让我们导入必要的库和数据，然后开始你的任务吧。"
   ]
  },
  {
   "cell_type": "code",
   "execution_count": null,
   "metadata": {},
   "outputs": [],
   "source": [
    "import numpy as np\n",
    "import pandas as pd\n",
    "import statsmodels.api as sm;\n",
    "import matplotlib.pyplot as plt\n",
    "%matplotlib inline\n",
    "\n",
    "df = pd.read_csv('./house_prices.csv')\n",
    "df.head()"
   ]
  },
  {
   "cell_type": "markdown",
   "metadata": {},
   "source": [
    "`1.` 使用 [pd.get_dummies](https://pandas.pydata.org/pandas-docs/stable/generated/pandas.get_dummies.html) 文档帮助你获取 **相邻(neighborhood)** 列的虚拟变量。然后，使用 [join](https://pandas.pydata.org/pandas-docs/stable/generated/pandas.DataFrame.join.html) 将虚拟变量添加在数据帧中，即 **df**，并将连接结果集存储在 **df_new** 中。\n",
    "\n",
    "使用所有三个相邻邻域(area)的线性模型来预测价格。使用 **所有三级** **相邻** 邻域拟合一个线性模型来来预测价格。不要忘记添加一个截距。\n",
    "\n",
    "使用你的结果来回答下面的测试1中的问题。\n",
    "\n",
    "`2.`  现在，使用 **邻域** 拟合一个合适的线性模型来预测一个房屋的价格。用 **邻域 A** 当做你的基线。使用你的结果模型来回答下面的测试2与测试3中的问题。\n",
    "\n",
    "`3.` 3.运行下面的两个单元格来查看邻域 **A** 与 **C** 的房价。添加一个邻域 **B**。 这样，你可以大致了解在以前的线性模型中发现的差异。"
   ]
  },
  {
   "cell_type": "code",
   "execution_count": null,
   "metadata": {},
   "outputs": [],
   "source": [
    "plt.hist(df_new.query(\"C == 1\")['price'], alpha = 0.3, label = 'C');\n",
    "plt.hist(df_new.query(\"A == 1\")['price'], alpha = 0.3, label = 'A');\n",
    "\n",
    "plt.legend();"
   ]
  },
  {
   "cell_type": "markdown",
   "metadata": {},
   "source": [
    "`4.` 现在，添加虚拟变量的房屋 **style** 以及 **邻域**。  使用 **ranch** 作为 **style** 的基线。另外，为你的线性模型添加 **bathrooms** 与 **bedrooms** 。 不要忘记添加一个截距。使用线性模型的结果来回答下面的最后两个问题。 **房价是用美元衡量的，而且这个数据集不是真实的。**\n",
    "\n",
    "为了使 scrolling 最小化，可以打开另一个浏览器窗口来回答测试题目。"
   ]
  },
  {
   "cell_type": "code",
   "execution_count": null,
   "metadata": {},
   "outputs": [],
   "source": [
    " "
   ]
  }
 ],
 "metadata": {
  "kernelspec": {
   "display_name": "Python 3",
   "language": "python",
   "name": "python3"
  },
  "language_info": {
   "codemirror_mode": {
    "name": "ipython",
    "version": 3
   },
   "file_extension": ".py",
   "mimetype": "text/x-python",
   "name": "python",
   "nbconvert_exporter": "python",
   "pygments_lexer": "ipython3",
   "version": "3.6.5"
  }
 },
 "nbformat": 4,
 "nbformat_minor": 2
}
