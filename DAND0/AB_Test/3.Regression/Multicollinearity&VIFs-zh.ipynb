{
 "cells": [
  {
   "cell_type": "markdown",
   "metadata": {},
   "source": [
    "### 多重共线性 & VIF\n",
    "\n",
    "在这里使用 notebook，回答有关多重共线性的测试题目。\n",
    "\n",
    "让我们导入必要的库以及将要使用的数据，然后开始你的任务吧。"
   ]
  },
  {
   "cell_type": "code",
   "execution_count": null,
   "metadata": {},
   "outputs": [],
   "source": [
    "import pandas as pd\n",
    "import numpy as np\n",
    "import seaborn as sns\n",
    "from patsy import dmatrices\n",
    "import statsmodels.api as sm;\n",
    "from statsmodels.stats.outliers_influence import variance_inflation_factor\n",
    "%matplotlib inline\n",
    "\n",
    "df = pd.read_csv('./house_prices.csv')\n",
    "df.head()"
   ]
  },
  {
   "cell_type": "markdown",
   "metadata": {},
   "source": [
    "`1.`使用 [seaborn](https://seaborn.pydata.org/examples/scatterplot_matrix.html) 通过运行下面的单元格来查看数据集中所有定量与解释变量的对应关系。你也可以尝试为 style 或 neighborhood 添加颜色 (**hue**) 。"
   ]
  },
  {
   "cell_type": "code",
   "execution_count": null,
   "metadata": {},
   "outputs": [],
   "source": [
    "sns.pairplot(df[['bedrooms', 'bathrooms', 'area']]);"
   ]
  },
  {
   "cell_type": "markdown",
   "metadata": {},
   "source": [
    "`2.`  首先，你可以在每个预测变量和价格之间拟合线性模型，并在多重线性回归模型中使用所有变量和价格。每个模型都显示出一种正相关——也就是说，当浴室、卧室或面积增加时，我们预测，房屋价格会上涨。\n",
    "\n",
    "使用房屋 **price** 、**bedrooms** 、 **bathrooms** 与 **area** 拟合一个线性模型。使用摘要回答下面的第二个测试题目。 **不要忘了添加一个截距。 **"
   ]
  },
  {
   "cell_type": "code",
   "execution_count": null,
   "metadata": {},
   "outputs": [],
   "source": []
  },
  {
   "cell_type": "markdown",
   "metadata": {},
   "source": [
    "`3.` 计算模型中每个变量的 VIF。在下面的测试3中给出关于你的 VIF 结果的见解。 [这里](https://etav.github.io/python/vif_factor_python.html) 有一篇有用的文章，想要了解的话，可以点击进行阅读。"
   ]
  },
  {
   "cell_type": "code",
   "execution_count": null,
   "metadata": {},
   "outputs": [],
   "source": []
  },
  {
   "cell_type": "markdown",
   "metadata": {},
   "source": [
    "\n",
    "\n",
    "\n",
    "`4.` 从上面的模型中移除 bathrooms。 重新设置多重线性回归模型并重新计算 VIF。 在下面的最后一个测试题目中给出关于你对该结果的看法。"
   ]
  },
  {
   "cell_type": "code",
   "execution_count": null,
   "metadata": {},
   "outputs": [],
   "source": []
  }
 ],
 "metadata": {
  "kernelspec": {
   "display_name": "Python 3",
   "language": "python",
   "name": "python3"
  },
  "language_info": {
   "codemirror_mode": {
    "name": "ipython",
    "version": 3
   },
   "file_extension": ".py",
   "mimetype": "text/x-python",
   "name": "python",
   "nbconvert_exporter": "python",
   "pygments_lexer": "ipython3",
   "version": "3.6.3"
  }
 },
 "nbformat": 4,
 "nbformat_minor": 2
}
