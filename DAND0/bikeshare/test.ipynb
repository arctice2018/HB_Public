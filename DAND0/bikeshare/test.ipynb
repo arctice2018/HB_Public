{
 "cells": [
  {
   "cell_type": "code",
   "execution_count": 10,
   "metadata": {},
   "outputs": [],
   "source": [
    "import pandas as pd\n",
    "import numpy as np\n",
    "from datetime import datetime"
   ]
  },
  {
   "cell_type": "code",
   "execution_count": 11,
   "metadata": {},
   "outputs": [],
   "source": [
    "CITY_DATA = { 'chicago': 'chicago.csv',\n",
    "              'new york city': 'new_york_city.csv',\n",
    "              'washington': 'washington.csv' }\n",
    "MONTHS = [\"January\",\" Fabruary\",\"March\", \"April\", \"May\",\"June\"]\n",
    "WEEK_DAY = [ \"Monday\", \"Tuesday\", \"Wednesday\", \"Thursday\",\"Friday\",\"Saturday\",\"Sunday\"]"
   ]
  },
  {
   "cell_type": "code",
   "execution_count": 12,
   "metadata": {},
   "outputs": [],
   "source": [
    "def user_input(month_flag = True):\n",
    "    if month_flag:\n",
    "        input_content = input(\"Please select month you'd like to explore, all or January, Fabruary, March, April, May, June?\").title()\n",
    "    else:\n",
    "        input_content= input(\"Please select the day of week you'd like to explore,all or Monday, Tuesday, Wednesday, Thursday, Friday, Saturday, Sunday? \")\n",
    "    return input_content\n",
    "def get_filters():\n",
    "    \"\"\"\n",
    "    Asks user to specify a city, month, and day to analyze.\n",
    "\n",
    "    Returns:\n",
    "        (str) city - name of the city to analyze\n",
    "        (str) month - name of the month to filter by, or \"all\" to apply no month filter\n",
    "        (str) day - name of the day of week to filter by, or \"all\" to apply no day filter\n",
    "    \"\"\"\n",
    "    print('Hello! Let\\'s explore some US bikeshare data!')\n",
    "    while True:\n",
    "        city = input(\"Please select the city you would like to explore, Chicago, New York City, Washington? \").lower()\n",
    "        if not CITY_DATA.get(city) :\n",
    "            continue\n",
    "        else:\n",
    "            month =user_input()\n",
    "            day = user_input(False)\n",
    "            break\n",
    "    return city,month,day"
   ]
  },
  {
   "cell_type": "code",
   "execution_count": 13,
   "metadata": {},
   "outputs": [],
   "source": [
    "def load_data(city, month= None, day= None):\n",
    "    \"\"\"\n",
    "    Loads data for the specified city and filters by month and day if applicable.\n",
    "\n",
    "    Args:\n",
    "        (str) city - name of the city to analyze\n",
    "        (str) month - name of the month to filter by, or \"all\" to apply no month filter\n",
    "        (str) day - name of the day of week to filter by, or \"all\" to apply no day filter\n",
    "    Returns:\n",
    "        df - Pandas DataFrame containing city data filtered by month and day\n",
    "    \"\"\"\n",
    "    df=pd.read_csv(CITY_DATA[city])\n",
    "    df[\"Start Time\"]=pd.to_datetime(df[\"Start Time\"])\n",
    "    df[\"year\"] = df[\"Start Time\"].dt.year\n",
    "    df[\"month\"] = df[\"Start Time\"].dt.month\n",
    "    df[\"weekday_name\"] = df[\"Start Time\"].dt.weekday_name\n",
    "    df[\"hour\"] = df[\"Start Time\"].dt.hour\n",
    "    df[\"Trip\"] = df[\"Start Station\"]+df[\"End Station\"]\n",
    "    if month != \"all\":\n",
    "        month_num = MONTHS.index(month)+1\n",
    "        df[df[\"month\"]== month_num]\n",
    "    if day != \"all\":\n",
    "        df[df[\"weekday_name\"]==day.title()]\n",
    "    return df"
   ]
  },
  {
   "cell_type": "code",
   "execution_count": 14,
   "metadata": {},
   "outputs": [
    {
     "ename": "ValueError",
     "evalue": "None is not in list",
     "output_type": "error",
     "traceback": [
      "\u001b[1;31m---------------------------------------------------------------------------\u001b[0m",
      "\u001b[1;31mValueError\u001b[0m                                Traceback (most recent call last)",
      "\u001b[1;32m<ipython-input-14-6dbaaffcebc1>\u001b[0m in \u001b[0;36m<module>\u001b[1;34m\u001b[0m\n\u001b[1;32m----> 1\u001b[1;33m \u001b[0mload_data\u001b[0m\u001b[1;33m(\u001b[0m\u001b[1;34m\"new york city\"\u001b[0m\u001b[1;33m)\u001b[0m\u001b[1;33m\u001b[0m\u001b[1;33m\u001b[0m\u001b[0m\n\u001b[0m\u001b[0;32m      2\u001b[0m \u001b[0mdf\u001b[0m\u001b[1;33m.\u001b[0m\u001b[0mhead\u001b[0m\u001b[1;33m(\u001b[0m\u001b[1;36m3\u001b[0m\u001b[1;33m)\u001b[0m\u001b[1;33m\u001b[0m\u001b[1;33m\u001b[0m\u001b[0m\n",
      "\u001b[1;32m<ipython-input-13-5467cd0ac6d9>\u001b[0m in \u001b[0;36mload_data\u001b[1;34m(city, month, day)\u001b[0m\n\u001b[0;32m     18\u001b[0m     \u001b[0mdf\u001b[0m\u001b[1;33m[\u001b[0m\u001b[1;34m\"Trip\"\u001b[0m\u001b[1;33m]\u001b[0m \u001b[1;33m=\u001b[0m \u001b[0mdf\u001b[0m\u001b[1;33m[\u001b[0m\u001b[1;34m\"Start Station\"\u001b[0m\u001b[1;33m]\u001b[0m\u001b[1;33m+\u001b[0m\u001b[0mdf\u001b[0m\u001b[1;33m[\u001b[0m\u001b[1;34m\"End Station\"\u001b[0m\u001b[1;33m]\u001b[0m\u001b[1;33m\u001b[0m\u001b[1;33m\u001b[0m\u001b[0m\n\u001b[0;32m     19\u001b[0m     \u001b[1;32mif\u001b[0m \u001b[0mmonth\u001b[0m \u001b[1;33m!=\u001b[0m \u001b[1;34m\"all\"\u001b[0m\u001b[1;33m:\u001b[0m\u001b[1;33m\u001b[0m\u001b[1;33m\u001b[0m\u001b[0m\n\u001b[1;32m---> 20\u001b[1;33m         \u001b[0mmonth_num\u001b[0m \u001b[1;33m=\u001b[0m \u001b[0mMONTHS\u001b[0m\u001b[1;33m.\u001b[0m\u001b[0mindex\u001b[0m\u001b[1;33m(\u001b[0m\u001b[0mmonth\u001b[0m\u001b[1;33m)\u001b[0m\u001b[1;33m+\u001b[0m\u001b[1;36m1\u001b[0m\u001b[1;33m\u001b[0m\u001b[1;33m\u001b[0m\u001b[0m\n\u001b[0m\u001b[0;32m     21\u001b[0m         \u001b[0mdf\u001b[0m\u001b[1;33m[\u001b[0m\u001b[0mdf\u001b[0m\u001b[1;33m[\u001b[0m\u001b[1;34m\"month\"\u001b[0m\u001b[1;33m]\u001b[0m\u001b[1;33m==\u001b[0m \u001b[0mmonth_num\u001b[0m\u001b[1;33m]\u001b[0m\u001b[1;33m\u001b[0m\u001b[1;33m\u001b[0m\u001b[0m\n\u001b[0;32m     22\u001b[0m     \u001b[1;32mif\u001b[0m \u001b[0mday\u001b[0m \u001b[1;33m!=\u001b[0m \u001b[1;34m\"all\"\u001b[0m\u001b[1;33m:\u001b[0m\u001b[1;33m\u001b[0m\u001b[1;33m\u001b[0m\u001b[0m\n",
      "\u001b[1;31mValueError\u001b[0m: None is not in list"
     ]
    }
   ],
   "source": [
    "load_data(\"new york city\")\n",
    "df.head(3)"
   ]
  },
  {
   "cell_type": "markdown",
   "metadata": {},
   "source": [
    "### 主要的问题:\n",
    "- 起始时间（Start Time 列）中哪个月份最常见？\n",
    "- 起始时间中，一周的哪一天（比如 Monday, Tuesday）最常见？ 提示：可以使用 datetime.weekday() （点击查看文档）\n",
    "- 起始时间中，一天当中哪个小时最常见？\n",
    "- 总骑行时长（Trip Duration）是多久，平均骑行时长是多久？\n",
    "- 哪个起始车站（Start Station）最热门，哪个结束车站（End Station）最热门？\n",
    "- 哪一趟行程最热门（即，哪一个起始站点与结束站点的组合最热门）？\n",
    "- 每种用户类型有多少人？\n",
    "- 每种性别有多少人？\n",
    "- 出生年份最早的是哪一年、最晚的是哪一年，最常见的是哪一年？"
   ]
  },
  {
   "cell_type": "code",
   "execution_count": 5,
   "metadata": {},
   "outputs": [],
   "source": [
    "def time_stats(df):\n",
    "    print(\"Initialize Processing... \")\n",
    "    the_most_common_month = df[\"month\"].mode().tolist()[0]\n",
    "    print(f\"the most common month is {the_most_common_month}\")\n",
    "    \n",
    "    print(\"Initialize Processing... \")\n",
    "    the_most_common_weekday = df[\"weekday_name\"].value_counts().index[0]\n",
    "    print(f\"the most common weekday is {the_most_common_weekday}\")\n",
    "    \n",
    "    print(\"Initialize Processing... \")\n",
    "    the_most_popular_hour = df[\"hour\"].mode().tolist[0]\n",
    "    print(f\"the most popular hour is {the_most_popular_hour}\")"
   ]
  },
  {
   "cell_type": "markdown",
   "metadata": {},
   "source": [
    "- 如何计算组合DF的最高频率值,需要研究一下."
   ]
  },
  {
   "cell_type": "code",
   "execution_count": 50,
   "metadata": {},
   "outputs": [],
   "source": [
    "def station_stats(df):\n",
    "    print(\"Initialize Processing... \")\n",
    "    the_most_popular_start_station = df[\"Start Station\"].value_counts().index[0]\n",
    "    the_most_popular_end_station = df[\"End Station\"].value_counts().index[0]\n",
    "    print(f\"the most popular start station is {the_most_popular_start_station}\")\n",
    "    print(f\"the most popular end station is {the_most_popular_end_station}\")\n",
    "    \n",
    "    print(\"Initialize Processing... \")\n",
    "    the_most_popular_trip =df[\"Trip\"].value_counts().index[0]\n",
    "    print(f\"the most popular trip is {the_most_popular_trip}\")"
   ]
  },
  {
   "cell_type": "markdown",
   "metadata": {},
   "source": [
    "- series object 没有 avg()方法,只有mean()方法"
   ]
  },
  {
   "cell_type": "code",
   "execution_count": 47,
   "metadata": {},
   "outputs": [],
   "source": [
    "def trip_duration_stats(df):\n",
    "    print(\"Initialize Processing... \")\n",
    "    the_total_trip_duration = df[\"Trip Duration\"].sum()\n",
    "    print(f\"the total trip duration is {the_total_trip_duration} minutes \")\n",
    "    \n",
    "    print(\"Initialize Processing... \")\n",
    "    the_average_trip_duration = df[\"Trip Duration\"].mean()\n",
    "    print(f\"the average of trip duration is {the_average_trip_duration} minutes \")"
   ]
  },
  {
   "cell_type": "markdown",
   "metadata": {},
   "source": [
    "- ndarry object tolist()方法,\n",
    "- series object to_list()方法"
   ]
  },
  {
   "cell_type": "code",
   "execution_count": 30,
   "metadata": {},
   "outputs": [],
   "source": [
    "def user_stats(df):\n",
    "    print(\"Initialize Processing... \")\n",
    "    the_user_type_dict = df[\"User Type\"].value_counts().to_dict()\n",
    "    for k,v in the_user_type_dict.items():\n",
    "        print(f\"the type of '{k}' have {v} persons \")\n",
    "        \n",
    "    print(\"Initialize Processing... \")\n",
    "    the_gendar_of_user_dict = df[\"Gender\"].value_counts().to_dict()\n",
    "    for k,v in the_gendar_of_user_dict.items():\n",
    "        print(f\"the gender of '{k}' have {v} persons\")\n",
    "    \n",
    "    print(\"Initialize Processing... \")\n",
    "    the_birth_year_min =df[\"Birth Year\"].min()\n",
    "    the_birth_year_max =df[\"Birth Year\"].max()\n",
    "    the_birth_year_the_most_common = df[\"Birth Year\"].mode().tolist()[0]\n",
    "    print(f\"the earliest birth year is {the_birth_year_min}\")\n",
    "    print(f\"the latest birth year is {the_birth_year_max} \")\n",
    "    print(f\"the most common birth year is {the_birth_year_the_most_common}\")"
   ]
  },
  {
   "cell_type": "code",
   "execution_count": null,
   "metadata": {},
   "outputs": [],
   "source": [
    "def main():\n",
    "    while True:\n",
    "        city, month, day = get_filters()\n",
    "        df = load_data(city, month, day)\n",
    "\n",
    "        time_stats(df)\n",
    "        station_stats(df)\n",
    "        trip_duration_stats(df)\n",
    "        user_stats(df)\n",
    "\n",
    "        restart = input('\\nWould you like to restart? Enter yes or no.\\n')\n",
    "        if restart.lower() != 'yes':\n",
    "            break\n",
    "\n",
    "\n",
    "if __name__ == \"__main__\":\n",
    "\tmain()"
   ]
  },
  {
   "cell_type": "code",
   "execution_count": 61,
   "metadata": {},
   "outputs": [
    {
     "name": "stdout",
     "output_type": "stream",
     "text": [
      "Initialize Processing... \n",
      "the most popular start station is Streeter Dr & Grand Ave\n",
      "the most popular end station is Streeter Dr & Grand Ave\n",
      "Initialize Processing... \n",
      "the most popular trip is Lake Shore Dr & Monroe StStreeter Dr & Grand Ave\n"
     ]
    }
   ],
   "source": [
    "df=pd.read_csv(CITY_DATA[\"chicago\"])\n",
    "df[\"Start Time\"]=pd.to_datetime(df[\"Start Time\"])\n",
    "df[\"year\"] = df[\"Start Time\"].dt.year\n",
    "df[\"month\"] = df[\"Start Time\"].dt.month\n",
    "df[\"weekday_name\"] = df[\"Start Time\"].dt.weekday_name\n",
    "df[\"hour\"] = df[\"Start Time\"].dt.hour\n",
    "df[\"Trip\"] = df[\"Start Station\"]+df[\"End Station\"]\n",
    "# time_stats(df)\n",
    "# user_stats(df)\n",
    "station_stats(df)\n",
    "# trip_duration_stats(df)"
   ]
  },
  {
   "cell_type": "code",
   "execution_count": 4,
   "metadata": {},
   "outputs": [
    {
     "name": "stdout",
     "output_type": "stream",
     "text": [
      "please inputnew york city\n",
      "New York City\n"
     ]
    }
   ],
   "source": [
    "result = input(\"please input\").title()\n",
    "\n",
    "print(result)"
   ]
  }
 ],
 "metadata": {
  "kernelspec": {
   "display_name": "Python 3",
   "language": "python",
   "name": "python3"
  },
  "language_info": {
   "codemirror_mode": {
    "name": "ipython",
    "version": 3
   },
   "file_extension": ".py",
   "mimetype": "text/x-python",
   "name": "python",
   "nbconvert_exporter": "python",
   "pygments_lexer": "ipython3",
   "version": "3.7.1"
  }
 },
 "nbformat": 4,
 "nbformat_minor": 2
}
