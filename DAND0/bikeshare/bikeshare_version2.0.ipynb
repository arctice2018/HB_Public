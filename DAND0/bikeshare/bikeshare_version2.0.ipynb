{
 "cells": [
  {
   "cell_type": "markdown",
   "metadata": {},
   "source": [
    "#### 改进内容：\n",
    "1. 自定义函数，用来处理用户错误输入。\n",
    "2. 增加数据处理自定义函数的文档内容。\n",
    "3. 改进数据处理自定义函数的错误细节问题\n",
    "4. 增加try except 语句处理KeyError"
   ]
  },
  {
   "cell_type": "code",
   "execution_count": null,
   "metadata": {},
   "outputs": [],
   "source": [
    "import pandas as pd\n",
    "import numpy as np\n",
    "from datetime import datetime\n",
    "CITY_DATA = { 'Chicago': 'chicago.csv',\n",
    "              'New York City': 'new_york_city.csv',\n",
    "              'Washington': 'washington.csv' }\n",
    "MONTHS = [\"All\",\"January\",\" Fabruary\",\"March\", \"April\", \"May\",\"June\"]\n",
    "WEEK_DAY = [\"All\",\"Monday\", \"Tuesday\", \"Wednesday\", \"Thursday\",\"Friday\",\"Saturday\",\"Sunday\"]"
   ]
  },
  {
   "cell_type": "markdown",
   "metadata": {},
   "source": [
    "- 创建自定义函数，处理用户的输入。"
   ]
  },
  {
   "cell_type": "code",
   "execution_count": null,
   "metadata": {},
   "outputs": [],
   "source": [
    "def get_user_input(input_bulletin,error_notice,valid_container):\n",
    "    \"\"\"\n",
    "    to get users' valid input for city ,month and day\n",
    "    Args:\n",
    "        (str) input_bulletin - let users know what should be input by them\n",
    "        (str) error_notice - to give users a hint that they input wrong content\n",
    "        (dict or list) valid_container - to supply the constant of valid container\n",
    "        \n",
    "    Returns:\n",
    "        (str) result - return valid users's input. \n",
    "\n",
    "    \"\"\"\n",
    "    while True:\n",
    "        result = input(input_bulletin).title()\n",
    "        if result in valid_container:\n",
    "            return result           \n",
    "        else:\n",
    "            print(error_notice) \n",
    "        \n",
    "        "
   ]
  },
  {
   "cell_type": "code",
   "execution_count": null,
   "metadata": {},
   "outputs": [],
   "source": [
    "def get_filters():\n",
    "    \"\"\"\n",
    "    to filter the users' input and return the tuple whose elements are city, month and day respectively.\n",
    "    \"\"\"\n",
    "    print('Hello! Let\\'s explore some US bikeshare data!')\n",
    "    city = get_user_input(\"Please select the city:Chicago,New York City or Washington? \",\n",
    "                          \"Invalid input! Please reenter\",CITY_DATA.keys())\n",
    "    month = get_user_input(\"Please select month you'd like to explore,ALL or January, February, March, April, May, June? \",\n",
    "                          \"Invalid input! Please reenter\",MONTHS)\n",
    "    day = get_user_input(\"Please select the day of week you'd like to explore,ALL or Monday, Tuesday, Wednesday, Thursday, Friday, Saturday, Sunday? \",\n",
    "                          \"Invalid input! Please reenter\",WEEK_DAY)\n",
    "    return city,month,day"
   ]
  },
  {
   "cell_type": "markdown",
   "metadata": {},
   "source": [
    "- 将df[df[\"month\"]== month_num]改为df=df[df[\"month\"]== month_num]，实现筛选功能\n",
    "- 将条件句中的条件\"all\"改为\"All\"，因为在处理用户的输入时候，进行了title()处理"
   ]
  },
  {
   "cell_type": "code",
   "execution_count": null,
   "metadata": {},
   "outputs": [],
   "source": [
    "def load_data(city, month= None, day= None):\n",
    "    \"\"\"\n",
    "    Loads data for the specified city and filters by month and day if applicable.\n",
    "\n",
    "    Args:\n",
    "        (str) city - name of the city to analyze\n",
    "        (str) month - name of the month to filter by, or \"all\" to apply no month filter\n",
    "        (str) day - name of the day of week to filter by, or \"all\" to apply no day filter\n",
    "    Returns:\n",
    "        df - Pandas DataFrame containing city data filtered by month and day\n",
    "    \"\"\"\n",
    "    df=pd.read_csv(CITY_DATA[city])\n",
    "    df[\"Start Time\"]=pd.to_datetime(df[\"Start Time\"])\n",
    "    df[\"year\"] = df[\"Start Time\"].dt.year\n",
    "    df[\"month\"] = df[\"Start Time\"].dt.month\n",
    "    df[\"weekday_name\"] = df[\"Start Time\"].dt.weekday_name\n",
    "    df[\"hour\"] = df[\"Start Time\"].dt.hour\n",
    "    df[\"Trip\"] = df[\"Start Station\"]+df[\"End Station\"]\n",
    "    if month != \"All\":\n",
    "        month_num = MONTHS.index(month)+1\n",
    "        df=df[df[\"month\"]== month_num]\n",
    "    if day != \"All\":\n",
    "        df=df[df[\"weekday_name\"]==day.title()]\n",
    "    return df"
   ]
  },
  {
   "cell_type": "markdown",
   "metadata": {},
   "source": [
    "- 分析the most popular hour的时候，.tolist没有调用，改为.tolist()"
   ]
  },
  {
   "cell_type": "code",
   "execution_count": null,
   "metadata": {},
   "outputs": [],
   "source": [
    "def time_stats(df):\n",
    "    \"\"\"\n",
    "    Displays statistics on the most frequent times of travel.\n",
    "    \"\"\"\n",
    "    print(\"Initialize Processing... \")\n",
    "    the_most_common_month = df[\"month\"].mode().tolist()[0]\n",
    "    print(f\"the most common month is {the_most_common_month}\")\n",
    "    \n",
    "    print(\"Initialize Processing... \")\n",
    "    the_most_common_weekday = df[\"weekday_name\"].value_counts().index[0]\n",
    "    print(f\"the most common weekday is {the_most_common_weekday}\")\n",
    "    \n",
    "    print(\"Initialize Processing... \")\n",
    "    the_most_popular_hour = df[\"hour\"].mode().tolist()[0]\n",
    "    print(f\"the most popular hour is {the_most_popular_hour}\")"
   ]
  },
  {
   "cell_type": "code",
   "execution_count": null,
   "metadata": {},
   "outputs": [],
   "source": [
    "def station_stats(df):\n",
    "    \"\"\"\n",
    "    Displays statistics on the most popular stations and trip.\n",
    "    \"\"\"\n",
    "    print(\"Initialize Processing... \")\n",
    "    the_most_popular_start_station = df[\"Start Station\"].value_counts().index[0]\n",
    "    the_most_popular_end_station = df[\"End Station\"].value_counts().index[0]\n",
    "    print(f\"the most popular start station is {the_most_popular_start_station}\")\n",
    "    print(f\"the most popular end station is {the_most_popular_end_station}\")\n",
    "    \n",
    "    print(\"Initialize Processing... \")\n",
    "    the_most_popular_trip =df[\"Trip\"].value_counts().index[0]\n",
    "    print(f\"the most popular trip is {the_most_popular_trip}\")"
   ]
  },
  {
   "cell_type": "code",
   "execution_count": null,
   "metadata": {},
   "outputs": [],
   "source": [
    "def trip_duration_stats(df):\n",
    "    \"\"\"\n",
    "    Displays statistics on the total and average trip duration.\n",
    "    \"\"\"\n",
    "    print(\"Initialize Processing... \")\n",
    "    the_total_trip_duration = df[\"Trip Duration\"].sum()\n",
    "    print(f\"the total trip duration is {the_total_trip_duration} minutes \")\n",
    "    \n",
    "    print(\"Initialize Processing... \")\n",
    "    the_average_trip_duration = df[\"Trip Duration\"].mean()\n",
    "    print(f\"the average of trip duration is {the_average_trip_duration} minutes \")"
   ]
  },
  {
   "cell_type": "markdown",
   "metadata": {},
   "source": [
    "- washington的csv文件中没有\"Gender\"和\"Birth Year\"这两个列名，需要使用try excep语句进行处理。"
   ]
  },
  {
   "cell_type": "code",
   "execution_count": null,
   "metadata": {},
   "outputs": [],
   "source": [
    "def user_stats(df):\n",
    "    \"\"\"\n",
    "    Displays statistics on bikeshare users.\n",
    "    \"\"\"\n",
    "    print(\"Initialize Processing... \")\n",
    "    the_user_type_dict = df[\"User Type\"].value_counts().to_dict()\n",
    "    for k,v in the_user_type_dict.items():\n",
    "        print(f\"the type of '{k}' have {v} persons \")\n",
    "        \n",
    "    print(\"Initialize Processing... \")\n",
    "    try:\n",
    "        the_gendar_of_user_dict = df[\"Gender\"].value_counts().to_dict()\n",
    "        for k,v in the_gendar_of_user_dict.items():\n",
    "            print(f\"the gender of '{k}' have {v} persons\")\n",
    "    except KeyError :\n",
    "        print(\"Sorry!There is no relevant statistical information\")\n",
    "\n",
    "    print(\"Initialize Processing... \")\n",
    "    try:\n",
    "        the_birth_year_min =df[\"Birth Year\"].min()\n",
    "        the_birth_year_max =df[\"Birth Year\"].max()\n",
    "        the_birth_year_the_most_common = df[\"Birth Year\"].mode().tolist()[0]\n",
    "        print(f\"the earliest birth year is {the_birth_year_min}\")\n",
    "        print(f\"the latest birth year is {the_birth_year_max} \")\n",
    "        print(f\"the most common birth year is {the_birth_year_the_most_common}\")\n",
    "    except KeyError :\n",
    "        print(\"Sorry!There is no relevant statistical information\")"
   ]
  },
  {
   "cell_type": "code",
   "execution_count": null,
   "metadata": {},
   "outputs": [],
   "source": [
    "def main():\n",
    "    while True:\n",
    "        city, month, day = get_filters()\n",
    "        df = load_data(city, month, day)\n",
    "\n",
    "        time_stats(df)\n",
    "        station_stats(df)\n",
    "        trip_duration_stats(df)\n",
    "        user_stats(df)\n",
    "\n",
    "        restart = input('\\nWould you like to restart? Enter yes or no.\\n')\n",
    "        if restart.lower() != 'yes':\n",
    "            break"
   ]
  },
  {
   "cell_type": "code",
   "execution_count": null,
   "metadata": {},
   "outputs": [],
   "source": [
    "if __name__ == \"__main__\":\n",
    "\tmain()"
   ]
  }
 ],
 "metadata": {
  "kernelspec": {
   "display_name": "Python 3",
   "language": "python",
   "name": "python3"
  },
  "language_info": {
   "codemirror_mode": {
    "name": "ipython",
    "version": 3
   },
   "file_extension": ".py",
   "mimetype": "text/x-python",
   "name": "python",
   "nbconvert_exporter": "python",
   "pygments_lexer": "ipython3",
   "version": "3.7.1"
  }
 },
 "nbformat": 4,
 "nbformat_minor": 2
}
