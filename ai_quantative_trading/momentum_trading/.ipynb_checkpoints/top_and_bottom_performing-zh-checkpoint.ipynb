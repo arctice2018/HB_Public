{
 "cells": [
  {
   "cell_type": "markdown",
   "metadata": {},
   "source": [
    "﻿\n",
    "# 表现靠前和靠后的股票\n",
    "我们看看如何获取单个时期的表现靠前和靠后的股票。对于此示例，我们将查看一个月的收盘价："
   ]
  },
  {
   "cell_type": "code",
   "execution_count": 1,
   "metadata": {},
   "outputs": [
    {
     "data": {
      "text/html": [
       "<div>\n",
       "<style scoped>\n",
       "    .dataframe tbody tr th:only-of-type {\n",
       "        vertical-align: middle;\n",
       "    }\n",
       "\n",
       "    .dataframe tbody tr th {\n",
       "        vertical-align: top;\n",
       "    }\n",
       "\n",
       "    .dataframe thead th {\n",
       "        text-align: right;\n",
       "    }\n",
       "</style>\n",
       "<table border=\"1\" class=\"dataframe\">\n",
       "  <thead>\n",
       "    <tr style=\"text-align: right;\">\n",
       "      <th></th>\n",
       "      <th>A</th>\n",
       "      <th>B</th>\n",
       "      <th>C</th>\n",
       "      <th>D</th>\n",
       "      <th>E</th>\n",
       "      <th>F</th>\n",
       "      <th>G</th>\n",
       "      <th>H</th>\n",
       "    </tr>\n",
       "  </thead>\n",
       "  <tbody>\n",
       "    <tr>\n",
       "      <th>2018-02-01</th>\n",
       "      <td>1</td>\n",
       "      <td>12</td>\n",
       "      <td>35</td>\n",
       "      <td>3</td>\n",
       "      <td>79</td>\n",
       "      <td>2</td>\n",
       "      <td>15</td>\n",
       "      <td>59</td>\n",
       "    </tr>\n",
       "  </tbody>\n",
       "</table>\n",
       "</div>"
      ],
      "text/plain": [
       "            A   B   C  D   E  F   G   H\n",
       "2018-02-01  1  12  35  3  79  2  15  59"
      ]
     },
     "execution_count": 1,
     "metadata": {},
     "output_type": "execute_result"
    }
   ],
   "source": [
    "import pandas as pd\n",
    "\n",
    "month = pd.to_datetime('02/01/2018')\n",
    "close_month = pd.DataFrame(\n",
    "    {\n",
    "        'A': 1,\n",
    "        'B': 12,\n",
    "        'C': 35,\n",
    "        'D': 3,\n",
    "        'E': 79,\n",
    "        'F': 2,\n",
    "        'G': 15,\n",
    "        'H': 59},\n",
    "    [month])\n",
    "\n",
    "close_month"
   ]
  },
  {
   "cell_type": "markdown",
   "metadata": {},
   "source": [
    "`close_month` 提供了备选投资组合 (A, B, C, ...) 中的所有股票在 2018 年 2 月的价格。可以看出，这个月表现在前2 位的股票是 E 和 H，价格分别为 79 和 59。\n",
    "\n",
    "我们可以使用函数 [`Series.nlargest`](https://pandas.pydata.org/pandas-docs/version/0.21/generated/pandas.Series.nlargest.html) 获取这两个值。此函数会返回前 *n* 项。对于我们的示例来说，*n* 是 2。"
   ]
  },
  {
   "cell_type": "code",
   "execution_count": 2,
   "metadata": {},
   "outputs": [
    {
     "name": "stdout",
     "output_type": "stream",
     "text": [
      "Error: nlargest() missing 1 required positional argument: 'columns'\n"
     ]
    }
   ],
   "source": [
    "try:\n",
    "    # Attempt to run nlargest\n",
    "    close_month.nlargest(2)\n",
    "except TypeError as err:\n",
    "    print('Error: {}'.format(err))"
   ]
  },
  {
   "cell_type": "markdown",
   "metadata": {},
   "source": [
    "发生了什么？实际上我们没有调用 [`Series.nlargest`](https://pandas.pydata.org/pandas-docs/version/0.21/generated/pandas.Series.nlargest.html) 函数，而是调用了 [`DataFrame.nlargest`](https://pandas.pydata.org/pandas-docs/version/0.21/generated/pandas.DataFrame.nlargest.html)，因为 `close_month` 是一个 DataFrame。我们使用 `.loc[month]` 从 DataFrame 中获取 Series，其中 `month` 是上面创建的 2018-02-01 指数。"
   ]
  },
  {
   "cell_type": "code",
   "execution_count": 3,
   "metadata": {},
   "outputs": [
    {
     "data": {
      "text/plain": [
       "E    79\n",
       "H    59\n",
       "Name: 2018-02-01 00:00:00, dtype: int64"
      ]
     },
     "execution_count": 3,
     "metadata": {},
     "output_type": "execute_result"
    }
   ],
   "source": [
    "close_month.loc[month].nlargest(2)"
   ]
  },
  {
   "cell_type": "markdown",
   "metadata": {},
   "source": [
    "很棒。这样就获得了这个月表现靠前的股票。如何获取表现靠后的股票呢？有两种方法。你可以使用 Panda 的[`Series.nsmallest`](https://pandas.pydata.org/pandas-docs/version/0.21/generated/pandas.Series.nsmallest.html) 函数或翻转价格符号，然后应用 [`DataFrame.nlargest`](https://pandas.pydata.org/pandas-docs/version/0.21/generated/pandas.DataFrame.nlargest.html)。两种方式都行。对于这门课程，我们将翻转符号并使用 nlargest。这样便能重复利用通过 nlargest 创建的函数并获取最小值。\n",
    "\n",
    "要从 `close_month` 中获取表现最差的 2 支股票，我们将翻转符号。"
   ]
  },
  {
   "cell_type": "code",
   "execution_count": 4,
   "metadata": {},
   "outputs": [
    {
     "data": {
      "text/plain": [
       "A   -1\n",
       "F   -2\n",
       "Name: 2018-02-01 00:00:00, dtype: int64"
      ]
     },
     "execution_count": 4,
     "metadata": {},
     "output_type": "execute_result"
    }
   ],
   "source": [
    "(-1 * close_month).loc[month].nlargest(2)"
   ]
  },
  {
   "cell_type": "markdown",
   "metadata": {},
   "source": [
    "这样就会获得表现靠后的股票，但不是实际价格。我们需要翻转 nlargest 输出的符号。"
   ]
  },
  {
   "cell_type": "code",
   "execution_count": 5,
   "metadata": {},
   "outputs": [
    {
     "data": {
      "text/plain": [
       "A    1\n",
       "F    2\n",
       "Name: 2018-02-01 00:00:00, dtype: int64"
      ]
     },
     "execution_count": 5,
     "metadata": {},
     "output_type": "execute_result"
    }
   ],
   "source": [
    "(-1 * close_month).loc[month].nlargest(2) *-1"
   ]
  },
  {
   "cell_type": "markdown",
   "metadata": {},
   "source": [
    "现在你已经知道如何获取一个月表现靠前和靠后的股票价格。下面做道练习。\n",
    "## 小测验\n",
    "实现 `date_top_industries` 以查找某一天表现靠前的收盘价，然后返回它们所对应的行业。函数应该仅返回行业[集合](https://docs.python.org/3/tutorial/datastructures.html#sets)，不能有任何重复项。\n",
    "\n",
    "- 参数 `top_n` 表示查看表现为前 n 项的股价。\n",
    "- `date` 参数表示 `prices` DataFrame 中表现靠前的价格对应的日期。\n",
    "- `sector` 参数包含每支股票的行业信息。\n",
    "\n",
    "例如：\n",
    "```\n",
    "                 Prices\n",
    "               A         B         C         D         E\n",
    "2013-07-08     2         2         7         2         6\n",
    "2013-07-09     5         3         6         7         5\n",
    "...            ...       ...       ...\n",
    "\n",
    "           Sector\n",
    "A       \"Utilities\"       \n",
    "B       \"Health Care\"       \n",
    "C       \"Real Estate\"\n",
    "D       \"Real Estate\"\n",
    "E       \"Information Technology\"\n",
    "\n",
    "Date:  2013-07-09\n",
    "Top N: 3\n",
    "```"
   ]
  },
  {
   "cell_type": "markdown",
   "metadata": {},
   "source": [
    "函数 `date_top_industries` 创建的集合应该如下所示：\n",
    "```\n",
    "{\"Utilities\", \"Real Estate\"}\n",
    "```"
   ]
  },
  {
   "cell_type": "markdown",
   "metadata": {},
   "source": [
    "*注意股票 A 和 E 在相应日期的价格一样，但是只返回了 A 所在的行业。为了保持简单，我们将仅返回打成平手的第一项所在的行业。*"
   ]
  },
  {
   "cell_type": "code",
   "execution_count": 13,
   "metadata": {},
   "outputs": [
    {
     "name": "stdout",
     "output_type": "stream",
     "text": [
      "Tests Passed\n"
     ]
    }
   ],
   "source": [
    "import project_tests\n",
    "\n",
    "\n",
    "def date_top_industries(prices, sector, date, top_n):\n",
    "    \"\"\"\n",
    "    Get the set of the top industries for the date\n",
    "    \n",
    "    Parameters\n",
    "    ----------\n",
    "    prices : DataFrame\n",
    "        Prices for each ticker and date\n",
    "    sector : Series\n",
    "        Sector name for each ticker\n",
    "    date : Date\n",
    "        Date to get the top performers\n",
    "    top_n : int\n",
    "        Number of top performers to get\n",
    "    \n",
    "    Returns\n",
    "    -------\n",
    "    top_industries : set\n",
    "        Top industries for the date\n",
    "    \"\"\"\n",
    "    import pandas as pd\n",
    "    sector_index = prices.loc[date].nlargest(top_n).index\n",
    "    top_industries = set(sector.loc[sector_index])\n",
    "    return top_industries\n",
    "\n",
    "\n",
    "project_tests.test_date_top_industries(date_top_industries)"
   ]
  },
  {
   "cell_type": "markdown",
   "metadata": {},
   "source": [
    "## 小测验解答\n",
    "如果你遇到问题，请点击[此处](top_and_bottom_performing_solution.ipynb)查看解答。"
   ]
  }
 ],
 "metadata": {
  "kernelspec": {
   "display_name": "Python 3",
   "language": "python",
   "name": "python3"
  },
  "language_info": {
   "codemirror_mode": {
    "name": "ipython",
    "version": 3
   },
   "file_extension": ".py",
   "mimetype": "text/x-python",
   "name": "python",
   "nbconvert_exporter": "python",
   "pygments_lexer": "ipython3",
   "version": "3.7.4"
  }
 },
 "nbformat": 4,
 "nbformat_minor": 2
}
