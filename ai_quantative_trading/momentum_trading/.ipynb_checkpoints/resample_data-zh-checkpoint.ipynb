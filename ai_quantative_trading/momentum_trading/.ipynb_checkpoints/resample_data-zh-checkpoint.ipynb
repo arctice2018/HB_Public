{
 "cells": [
  {
   "cell_type": "markdown",
   "metadata": {},
   "source": [
    "﻿\n",
    "# 重采样数据\n",
    "## Pandas 重采样\n",
    "你已经学习了将数据分成不同的时段，例如按月划分。我们来看看划分方式。我们从一系列天数开始。"
   ]
  },
  {
   "cell_type": "code",
   "execution_count": 1,
   "metadata": {},
   "outputs": [],
   "source": [
    "import numpy as np\n",
    "import pandas as pd"
   ]
  },
  {
   "cell_type": "code",
   "execution_count": 2,
   "metadata": {},
   "outputs": [
    {
     "data": {
      "text/plain": [
       "array([ 0,  1,  2,  3,  4,  5,  6,  7,  8,  9, 10])"
      ]
     },
     "execution_count": 2,
     "metadata": {},
     "output_type": "execute_result"
    }
   ],
   "source": [
    "#用来创建日期\n",
    "dates = pd.date_range('10/10/2018', periods=11, freq='D')\n",
    "# 用来创建伪数据\n",
    "close_prices = np.arange(len(dates))\n",
    "close_prices"
   ]
  },
  {
   "cell_type": "code",
   "execution_count": 3,
   "metadata": {},
   "outputs": [
    {
     "data": {
      "text/plain": [
       "2018-10-10     0\n",
       "2018-10-11     1\n",
       "2018-10-12     2\n",
       "2018-10-13     3\n",
       "2018-10-14     4\n",
       "2018-10-15     5\n",
       "2018-10-16     6\n",
       "2018-10-17     7\n",
       "2018-10-18     8\n",
       "2018-10-19     9\n",
       "2018-10-20    10\n",
       "Freq: D, dtype: int64"
      ]
     },
     "execution_count": 3,
     "metadata": {},
     "output_type": "execute_result"
    }
   ],
   "source": [
    "close = pd.Series(close_prices, dates)\n",
    "close"
   ]
  },
  {
   "cell_type": "markdown",
   "metadata": {},
   "source": [
    "假设我们想要将这些天划分成 3 天时段我们将使用[DataFrame.resample](https://pandas.pydata.org/pandas-docs/version/0.21/generated/pandas.DataFrame.resample.html) 函数。该函数的第一个参数是叫做 `rule` 的字符串，表示如何重采样数据。此字符串表示法采用的是偏移别名。[这是](http://pandas.pydata.org/pandas-docs/stable/timeseries.html#offset-aliases)偏移别名列表。为了创建 3 天时段，我们将 `rule` 设为“3D”。"
   ]
  },
  {
   "cell_type": "code",
   "execution_count": 4,
   "metadata": {},
   "outputs": [
    {
     "data": {
      "text/plain": [
       "DatetimeIndexResampler [freq=<3 * Days>, axis=0, closed=left, label=left, convention=start, base=0]"
      ]
     },
     "execution_count": 4,
     "metadata": {},
     "output_type": "execute_result"
    }
   ],
   "source": [
    "close.resample('3D')"
   ]
  },
  {
   "cell_type": "markdown",
   "metadata": {},
   "source": [
    "上述代码会返回一个 `DatetimeIndexResampler` 对象。它是一个类似于 `GroupBy` 对象的中间对象。与 groupby 一样，它将原始数据分成小组。所以我们需要对这些组应用运算。为了简单起见，我们从每组中获取第一个元素。"
   ]
  },
  {
   "cell_type": "code",
   "execution_count": 5,
   "metadata": {},
   "outputs": [
    {
     "data": {
      "text/plain": [
       "2018-10-10    0\n",
       "2018-10-13    3\n",
       "2018-10-16    6\n",
       "2018-10-19    9\n",
       "dtype: int64"
      ]
     },
     "execution_count": 5,
     "metadata": {},
     "output_type": "execute_result"
    }
   ],
   "source": [
    "close.resample('3D').first()"
   ]
  },
  {
   "cell_type": "markdown",
   "metadata": {},
   "source": [
    "你可能注意到了，这与 `.iloc[::3]` 是一样的"
   ]
  },
  {
   "cell_type": "code",
   "execution_count": 6,
   "metadata": {},
   "outputs": [
    {
     "data": {
      "text/plain": [
       "2018-10-10    0\n",
       "2018-10-13    3\n",
       "2018-10-16    6\n",
       "2018-10-19    9\n",
       "Freq: 3D, dtype: int64"
      ]
     },
     "execution_count": 6,
     "metadata": {},
     "output_type": "execute_result"
    }
   ],
   "source": [
    "close.iloc[::3]"
   ]
  },
  {
   "cell_type": "markdown",
   "metadata": {},
   "source": [
    "为何要使用 `resample` 函数，而不是 `.iloc[::3]` 或 `groupby` 函数？\n",
    "\n",
    "在处理时间和/或日期类任务时，`resample` 函数很有用。实际上，如果索引不是[与时间相关的类](https://pandas.pydata.org/pandas-docs/version/0.21/timeseries.html#overview)，你无法使用此函数。"
   ]
  },
  {
   "cell_type": "code",
   "execution_count": 7,
   "metadata": {},
   "outputs": [
    {
     "name": "stdout",
     "output_type": "stream",
     "text": [
      "It threw a TypeError.\n"
     ]
    }
   ],
   "source": [
    "try:\n",
    "    # Attempt resample on a series without a time index\n",
    "    pd.Series(close_prices).resample('W')\n",
    "except TypeError:\n",
    "    print('It threw a TypeError.')\n",
    "else:\n",
    "    print('It worked.')"
   ]
  },
  {
   "cell_type": "markdown",
   "metadata": {},
   "source": [
    "它能够处理的重采样任务包括重采样时段，例如星期。我们将 `close` 从按天划分重采样为按星期划分。我们将使用“W”偏移别名，表示 Weeks。"
   ]
  },
  {
   "cell_type": "code",
   "execution_count": 8,
   "metadata": {},
   "outputs": [
    {
     "data": {
      "text/plain": [
       "2018-10-14    0\n",
       "2018-10-21    5\n",
       "Freq: W-SUN, dtype: int64"
      ]
     },
     "execution_count": 8,
     "metadata": {},
     "output_type": "execute_result"
    }
   ],
   "source": [
    "# 上述数据中，间隔为7天的数据，只有以下两个，分别对应周一和周六（星期offset是按照从星期一开始，也就是0）\n",
    "close.resample('W').first()"
   ]
  },
  {
   "cell_type": "code",
   "execution_count": 9,
   "metadata": {},
   "outputs": [
    {
     "data": {
      "text/html": [
       "<div>\n",
       "<style scoped>\n",
       "    .dataframe tbody tr th:only-of-type {\n",
       "        vertical-align: middle;\n",
       "    }\n",
       "\n",
       "    .dataframe tbody tr th {\n",
       "        vertical-align: top;\n",
       "    }\n",
       "\n",
       "    .dataframe thead th {\n",
       "        text-align: right;\n",
       "    }\n",
       "</style>\n",
       "<table border=\"1\" class=\"dataframe\">\n",
       "  <thead>\n",
       "    <tr style=\"text-align: right;\">\n",
       "      <th></th>\n",
       "      <th>days</th>\n",
       "      <th>weeks</th>\n",
       "    </tr>\n",
       "  </thead>\n",
       "  <tbody>\n",
       "    <tr>\n",
       "      <th>2018-10-10</th>\n",
       "      <td>0.0</td>\n",
       "      <td>NaN</td>\n",
       "    </tr>\n",
       "    <tr>\n",
       "      <th>2018-10-11</th>\n",
       "      <td>1.0</td>\n",
       "      <td>NaN</td>\n",
       "    </tr>\n",
       "    <tr>\n",
       "      <th>2018-10-12</th>\n",
       "      <td>2.0</td>\n",
       "      <td>NaN</td>\n",
       "    </tr>\n",
       "    <tr>\n",
       "      <th>2018-10-13</th>\n",
       "      <td>3.0</td>\n",
       "      <td>NaN</td>\n",
       "    </tr>\n",
       "    <tr>\n",
       "      <th>2018-10-14</th>\n",
       "      <td>4.0</td>\n",
       "      <td>0.0</td>\n",
       "    </tr>\n",
       "    <tr>\n",
       "      <th>2018-10-15</th>\n",
       "      <td>5.0</td>\n",
       "      <td>NaN</td>\n",
       "    </tr>\n",
       "    <tr>\n",
       "      <th>2018-10-16</th>\n",
       "      <td>6.0</td>\n",
       "      <td>NaN</td>\n",
       "    </tr>\n",
       "    <tr>\n",
       "      <th>2018-10-17</th>\n",
       "      <td>7.0</td>\n",
       "      <td>NaN</td>\n",
       "    </tr>\n",
       "    <tr>\n",
       "      <th>2018-10-18</th>\n",
       "      <td>8.0</td>\n",
       "      <td>NaN</td>\n",
       "    </tr>\n",
       "    <tr>\n",
       "      <th>2018-10-19</th>\n",
       "      <td>9.0</td>\n",
       "      <td>NaN</td>\n",
       "    </tr>\n",
       "    <tr>\n",
       "      <th>2018-10-20</th>\n",
       "      <td>10.0</td>\n",
       "      <td>NaN</td>\n",
       "    </tr>\n",
       "    <tr>\n",
       "      <th>2018-10-21</th>\n",
       "      <td>NaN</td>\n",
       "      <td>5.0</td>\n",
       "    </tr>\n",
       "  </tbody>\n",
       "</table>\n",
       "</div>"
      ],
      "text/plain": [
       "            days  weeks\n",
       "2018-10-10   0.0    NaN\n",
       "2018-10-11   1.0    NaN\n",
       "2018-10-12   2.0    NaN\n",
       "2018-10-13   3.0    NaN\n",
       "2018-10-14   4.0    0.0\n",
       "2018-10-15   5.0    NaN\n",
       "2018-10-16   6.0    NaN\n",
       "2018-10-17   7.0    NaN\n",
       "2018-10-18   8.0    NaN\n",
       "2018-10-19   9.0    NaN\n",
       "2018-10-20  10.0    NaN\n",
       "2018-10-21   NaN    5.0"
      ]
     },
     "execution_count": 9,
     "metadata": {},
     "output_type": "execute_result"
    }
   ],
   "source": [
    "pd.DataFrame({\n",
    "    'days': close,\n",
    "    'weeks': close.resample('W').first()})"
   ]
  },
  {
   "cell_type": "markdown",
   "metadata": {},
   "source": [
    "星期偏移量认为一星期从周一开始。因为 2018-10-10 是周三，所以第一组仅查看前 5 项。还有一些偏移量可以处理更复杂的问题，例如滤除节假日。暂时我们将仅重采样天、星期、月、季度和年。数据频率取决于交易频率。如果你根据仅在一年结束时才会出来的报告做出交易策略，那么只需考虑按年或按月划分。\n",
    "## OHLC\n",
    "你已经知道 Pandas 如何重采样时序数据，我们可以将它应用到开盘价、最高价、最低价和收盘价 (OHLC)。Pandas 提供了 [`Resampler.ohlc`](https://pandas.pydata.org/pandas-docs/version/0.21.0/generated/pandas.core.resample.Resampler.ohlc.html#pandas.core.resample.Resampler.ohlc) 函数，它能够将任何重采样频率转换为 OHLC 数据。我们来看看每周 OHLC。"
   ]
  },
  {
   "cell_type": "code",
   "execution_count": 10,
   "metadata": {},
   "outputs": [
    {
     "data": {
      "text/html": [
       "<div>\n",
       "<style scoped>\n",
       "    .dataframe tbody tr th:only-of-type {\n",
       "        vertical-align: middle;\n",
       "    }\n",
       "\n",
       "    .dataframe tbody tr th {\n",
       "        vertical-align: top;\n",
       "    }\n",
       "\n",
       "    .dataframe thead th {\n",
       "        text-align: right;\n",
       "    }\n",
       "</style>\n",
       "<table border=\"1\" class=\"dataframe\">\n",
       "  <thead>\n",
       "    <tr style=\"text-align: right;\">\n",
       "      <th></th>\n",
       "      <th>open</th>\n",
       "      <th>high</th>\n",
       "      <th>low</th>\n",
       "      <th>close</th>\n",
       "    </tr>\n",
       "  </thead>\n",
       "  <tbody>\n",
       "    <tr>\n",
       "      <th>2018-10-14</th>\n",
       "      <td>0</td>\n",
       "      <td>4</td>\n",
       "      <td>0</td>\n",
       "      <td>4</td>\n",
       "    </tr>\n",
       "    <tr>\n",
       "      <th>2018-10-21</th>\n",
       "      <td>5</td>\n",
       "      <td>10</td>\n",
       "      <td>5</td>\n",
       "      <td>10</td>\n",
       "    </tr>\n",
       "  </tbody>\n",
       "</table>\n",
       "</div>"
      ],
      "text/plain": [
       "            open  high  low  close\n",
       "2018-10-14     0     4    0      4\n",
       "2018-10-21     5    10    5     10"
      ]
     },
     "execution_count": 10,
     "metadata": {},
     "output_type": "execute_result"
    }
   ],
   "source": [
    "close.resample('W').ohlc()"
   ]
  },
  {
   "cell_type": "markdown",
   "metadata": {},
   "source": [
    "你能发现潜在问题吗？它只能重采样已经重采样过的数据。\n",
    "\n",
    "我们从收盘数据中获得了 OHLC。如果我们想从已经重采样的数据中获取 OHLC 数据，我们应该根据开盘价数据重采样第一个价格，并根据最高价数据重采样最高价，等等。\n",
    "\n",
    "要从 `close` 获取每周收盘价，我们可以使用 [`Resampler.last`](https://pandas.pydata.org/pandas-docs/version/0.21.0/generated/pandas.core.resample.Resampler.last.html#pandas.core.resample.Resampler.last) 函数。"
   ]
  },
  {
   "cell_type": "code",
   "execution_count": 11,
   "metadata": {},
   "outputs": [
    {
     "data": {
      "text/plain": [
       "2018-10-14     4\n",
       "2018-10-21    10\n",
       "Freq: W-SUN, dtype: int64"
      ]
     },
     "execution_count": 11,
     "metadata": {},
     "output_type": "execute_result"
    }
   ],
   "source": [
    "close.resample('W').last()"
   ]
  },
  {
   "cell_type": "markdown",
   "metadata": {},
   "source": [
    "## 小测验\n",
    "实现 `days_to_weeks` 函数，并将 OHLC 价格数据重采样为每周 OHLC 价格数据。你可以在[此处](https://pandas.pydata.org/pandas-docs/version/0.21.0/api.html#id44)找到计算最高价和最低价的更多重采样函数。"
   ]
  },
  {
   "cell_type": "code",
   "execution_count": 14,
   "metadata": {},
   "outputs": [
    {
     "name": "stdout",
     "output_type": "stream",
     "text": [
      "Tests Passed\n"
     ]
    }
   ],
   "source": [
    "import quiz_tests\n",
    "\n",
    "\n",
    "def days_to_weeks(open_prices, high_prices, low_prices, close_prices):\n",
    "    \"\"\"Converts daily OHLC prices to weekly OHLC prices.\n",
    "    \n",
    "    Parameters\n",
    "    ----------\n",
    "    open_prices : DataFrame\n",
    "        Daily open prices for each ticker and date\n",
    "    high_prices : DataFrame\n",
    "        Daily high prices for each ticker and date\n",
    "    low_prices : DataFrame\n",
    "        Daily low prices for each ticker and date\n",
    "    close_prices : DataFrame\n",
    "        Daily close prices for each ticker and date\n",
    "\n",
    "    Returns\n",
    "    -------\n",
    "    open_prices_weekly : DataFrame\n",
    "        Weekly open prices for each ticker and date\n",
    "    high_prices_weekly : DataFrame\n",
    "        Weekly high prices for each ticker and date\n",
    "    low_prices_weekly : DataFrame\n",
    "        Weekly low prices for each ticker and date\n",
    "    close_prices_weekly : DataFrame\n",
    "        Weekly close prices for each ticker and date\n",
    "    \"\"\"\n",
    "    \n",
    "    open_prices_weekly = open_prices.resample('W').first()\n",
    "    high_prices_weekly = high_prices.resample('W').max()\n",
    "    low_prices_weekly = low_prices.resample('W').min()\n",
    "    close_prices_weekly = close_prices.resample('W').last()\n",
    "    \n",
    "    return open_prices_weekly, high_prices_weekly, low_prices_weekly, close_prices_weekly\n",
    "\n",
    "\n",
    "quiz_tests.test_days_to_weeks(days_to_weeks)"
   ]
  },
  {
   "cell_type": "markdown",
   "metadata": {},
   "source": [
    "## 小测验解答\n",
    "如果你遇到问题，请在[此处](resample_data_solution.ipynb)查看解答。"
   ]
  }
 ],
 "metadata": {
  "kernelspec": {
   "display_name": "Python 3",
   "language": "python",
   "name": "python3"
  },
  "language_info": {
   "codemirror_mode": {
    "name": "ipython",
    "version": 3
   },
   "file_extension": ".py",
   "mimetype": "text/x-python",
   "name": "python",
   "nbconvert_exporter": "python",
   "pygments_lexer": "ipython3",
   "version": "3.7.4"
  }
 },
 "nbformat": 4,
 "nbformat_minor": 2
}
