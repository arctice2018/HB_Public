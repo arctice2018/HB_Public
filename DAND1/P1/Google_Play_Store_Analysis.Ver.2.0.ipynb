{
 "cells": [
  {
   "cell_type": "markdown",
   "metadata": {},
   "source": [
    "# Google Apps 商店的数据分析"
   ]
  },
  {
   "cell_type": "markdown",
   "metadata": {},
   "source": [
    "## 简介\n",
    "\n",
    "相信大家对移动应用商店都不陌生吧。Google Play Store（Google Play商店）是谷歌官方的软件应用商店，拥有上架软件数十万款，下载量更是突破了20亿次，为了手机用户提供了极为广泛的应用选择，很受大家的欢迎。\n",
    "\n"
   ]
  },
  {
   "cell_type": "markdown",
   "metadata": {},
   "source": [
    "本数据集(googleplaystore.csv)包含了 Google Play 商店中 App 的数据。该数据是Kaggle中 [Google Play Store Apps](https://www.kaggle.com/lava18/google-play-store-apps) 的一部分，其中包含 Google Play 商店中 10k+ 应用软件的信息。\n",
    "\n",
    "数据中的变量含义解释：\n",
    "```\n",
    "App: 应用的名称，字符变量。\n",
    "Category: 应用所属的分类，字符变量。\n",
    "Rating: 某应用的用户评分，数值变量。\n",
    "Reviews: 某应用获得的用户评论数量，数值变量。\n",
    "Size: 某应用的所占存储空间的大小，字符变量。\n",
    "Installs: 用户安装和下载某应用的次数，字符变量。\n",
    "Type: 付费或免费，分类变量。\n",
    "Price: 价格，字符变量。\n",
    "Content Rating: 应用商店针对内容给出的年龄评级组 - Children / Mature 21+ / Adult，分类变量。\n",
    "Genres: 类型/流派，一个应用可以属于多个流派，比如音乐、游戏、家庭等，字符变量。\n",
    "Last Updated: 应用最新更新的日期，字符变量。\n",
    "Current Ver: 当前应用的版本，字符变量。\n",
    "Android Ver: 安装该应用所需要的最低安卓版本，字符变量。\n",
    "\n",
    "```"
   ]
  },
  {
   "cell_type": "markdown",
   "metadata": {},
   "source": [
    "## 提出问题\n",
    "\n",
    "1. 收费和免费软件的评分的平均值分别是多少？\n",
    "2. 收费软件的价格分布情况？\n",
    "3. 哪些 App 的下载比较多？\n",
    "4. 下载比较多的app类型？"
   ]
  },
  {
   "cell_type": "markdown",
   "metadata": {},
   "source": [
    "## 数据评估和清理"
   ]
  },
  {
   "cell_type": "code",
   "execution_count": 1,
   "metadata": {},
   "outputs": [],
   "source": [
    "import matplotlib.pyplot as plt \n",
    "plt.rcParams['font.sans-serif']=['SimHei'] #用来正常显示中文标签\n",
    "plt.rcParams['axes.unicode_minus']=False #用来正常显示负号"
   ]
  },
  {
   "cell_type": "code",
   "execution_count": 2,
   "metadata": {},
   "outputs": [],
   "source": [
    "# load pacakges\n",
    "import pandas as pd\n",
    "import numpy as np"
   ]
  },
  {
   "cell_type": "code",
   "execution_count": 3,
   "metadata": {},
   "outputs": [
    {
     "data": {
      "text/html": [
       "<div>\n",
       "<style scoped>\n",
       "    .dataframe tbody tr th:only-of-type {\n",
       "        vertical-align: middle;\n",
       "    }\n",
       "\n",
       "    .dataframe tbody tr th {\n",
       "        vertical-align: top;\n",
       "    }\n",
       "\n",
       "    .dataframe thead th {\n",
       "        text-align: right;\n",
       "    }\n",
       "</style>\n",
       "<table border=\"1\" class=\"dataframe\">\n",
       "  <thead>\n",
       "    <tr style=\"text-align: right;\">\n",
       "      <th></th>\n",
       "      <th>App</th>\n",
       "      <th>Category</th>\n",
       "      <th>Rating</th>\n",
       "      <th>Reviews</th>\n",
       "      <th>Size</th>\n",
       "      <th>Installs</th>\n",
       "      <th>Type</th>\n",
       "      <th>Price</th>\n",
       "      <th>Content Rating</th>\n",
       "      <th>Genres</th>\n",
       "      <th>Last Updated</th>\n",
       "      <th>Current Ver</th>\n",
       "      <th>Android Ver</th>\n",
       "    </tr>\n",
       "  </thead>\n",
       "  <tbody>\n",
       "    <tr>\n",
       "      <th>0</th>\n",
       "      <td>Photo Editor &amp; Candy Camera &amp; Grid &amp; ScrapBook</td>\n",
       "      <td>ART_AND_DESIGN</td>\n",
       "      <td>4.1</td>\n",
       "      <td>159</td>\n",
       "      <td>19M</td>\n",
       "      <td>10,000+</td>\n",
       "      <td>Free</td>\n",
       "      <td>0</td>\n",
       "      <td>Everyone</td>\n",
       "      <td>Art &amp; Design</td>\n",
       "      <td>January 7, 2018</td>\n",
       "      <td>1.0.0</td>\n",
       "      <td>4.0.3 and up</td>\n",
       "    </tr>\n",
       "    <tr>\n",
       "      <th>1</th>\n",
       "      <td>Coloring book moana</td>\n",
       "      <td>ART_AND_DESIGN</td>\n",
       "      <td>3.9</td>\n",
       "      <td>967</td>\n",
       "      <td>14M</td>\n",
       "      <td>500,000+</td>\n",
       "      <td>Free</td>\n",
       "      <td>0</td>\n",
       "      <td>Everyone</td>\n",
       "      <td>Art &amp; Design;Pretend Play</td>\n",
       "      <td>January 15, 2018</td>\n",
       "      <td>2.0.0</td>\n",
       "      <td>4.0.3 and up</td>\n",
       "    </tr>\n",
       "    <tr>\n",
       "      <th>2</th>\n",
       "      <td>U Launcher Lite – FREE Live Cool Themes, Hide ...</td>\n",
       "      <td>ART_AND_DESIGN</td>\n",
       "      <td>4.7</td>\n",
       "      <td>87510</td>\n",
       "      <td>8.7M</td>\n",
       "      <td>5,000,000+</td>\n",
       "      <td>Free</td>\n",
       "      <td>0</td>\n",
       "      <td>Everyone</td>\n",
       "      <td>Art &amp; Design</td>\n",
       "      <td>August 1, 2018</td>\n",
       "      <td>1.2.4</td>\n",
       "      <td>4.0.3 and up</td>\n",
       "    </tr>\n",
       "    <tr>\n",
       "      <th>3</th>\n",
       "      <td>Sketch - Draw &amp; Paint</td>\n",
       "      <td>ART_AND_DESIGN</td>\n",
       "      <td>4.5</td>\n",
       "      <td>215644</td>\n",
       "      <td>25M</td>\n",
       "      <td>50,000,000+</td>\n",
       "      <td>Free</td>\n",
       "      <td>0</td>\n",
       "      <td>Teen</td>\n",
       "      <td>Art &amp; Design</td>\n",
       "      <td>June 8, 2018</td>\n",
       "      <td>Varies with device</td>\n",
       "      <td>4.2 and up</td>\n",
       "    </tr>\n",
       "    <tr>\n",
       "      <th>4</th>\n",
       "      <td>Pixel Draw - Number Art Coloring Book</td>\n",
       "      <td>ART_AND_DESIGN</td>\n",
       "      <td>4.3</td>\n",
       "      <td>967</td>\n",
       "      <td>2.8M</td>\n",
       "      <td>100,000+</td>\n",
       "      <td>Free</td>\n",
       "      <td>0</td>\n",
       "      <td>Everyone</td>\n",
       "      <td>Art &amp; Design;Creativity</td>\n",
       "      <td>June 20, 2018</td>\n",
       "      <td>1.1</td>\n",
       "      <td>4.4 and up</td>\n",
       "    </tr>\n",
       "  </tbody>\n",
       "</table>\n",
       "</div>"
      ],
      "text/plain": [
       "                                                 App        Category  Rating  \\\n",
       "0     Photo Editor & Candy Camera & Grid & ScrapBook  ART_AND_DESIGN     4.1   \n",
       "1                                Coloring book moana  ART_AND_DESIGN     3.9   \n",
       "2  U Launcher Lite – FREE Live Cool Themes, Hide ...  ART_AND_DESIGN     4.7   \n",
       "3                              Sketch - Draw & Paint  ART_AND_DESIGN     4.5   \n",
       "4              Pixel Draw - Number Art Coloring Book  ART_AND_DESIGN     4.3   \n",
       "\n",
       "  Reviews  Size     Installs  Type Price Content Rating  \\\n",
       "0     159   19M      10,000+  Free     0       Everyone   \n",
       "1     967   14M     500,000+  Free     0       Everyone   \n",
       "2   87510  8.7M   5,000,000+  Free     0       Everyone   \n",
       "3  215644   25M  50,000,000+  Free     0           Teen   \n",
       "4     967  2.8M     100,000+  Free     0       Everyone   \n",
       "\n",
       "                      Genres      Last Updated         Current Ver  \\\n",
       "0               Art & Design   January 7, 2018               1.0.0   \n",
       "1  Art & Design;Pretend Play  January 15, 2018               2.0.0   \n",
       "2               Art & Design    August 1, 2018               1.2.4   \n",
       "3               Art & Design      June 8, 2018  Varies with device   \n",
       "4    Art & Design;Creativity     June 20, 2018                 1.1   \n",
       "\n",
       "    Android Ver  \n",
       "0  4.0.3 and up  \n",
       "1  4.0.3 and up  \n",
       "2  4.0.3 and up  \n",
       "3    4.2 and up  \n",
       "4    4.4 and up  "
      ]
     },
     "execution_count": 3,
     "metadata": {},
     "output_type": "execute_result"
    }
   ],
   "source": [
    "# load the dataset\n",
    "data_df = pd.read_csv('googleplaystore.csv')\n",
    "data_df.head()"
   ]
  },
  {
   "cell_type": "markdown",
   "metadata": {},
   "source": [
    "###  数据评估"
   ]
  },
  {
   "cell_type": "code",
   "execution_count": 4,
   "metadata": {},
   "outputs": [
    {
     "data": {
      "text/plain": [
       "(10841, 13)"
      ]
     },
     "execution_count": 4,
     "metadata": {},
     "output_type": "execute_result"
    }
   ],
   "source": [
    "data_df.shape"
   ]
  },
  {
   "cell_type": "code",
   "execution_count": 5,
   "metadata": {},
   "outputs": [
    {
     "name": "stdout",
     "output_type": "stream",
     "text": [
      "<class 'pandas.core.frame.DataFrame'>\n",
      "RangeIndex: 10841 entries, 0 to 10840\n",
      "Data columns (total 13 columns):\n",
      "App               10841 non-null object\n",
      "Category          10841 non-null object\n",
      "Rating            9367 non-null float64\n",
      "Reviews           10841 non-null object\n",
      "Size              10841 non-null object\n",
      "Installs          10841 non-null object\n",
      "Type              10840 non-null object\n",
      "Price             10841 non-null object\n",
      "Content Rating    10840 non-null object\n",
      "Genres            10841 non-null object\n",
      "Last Updated      10841 non-null object\n",
      "Current Ver       10833 non-null object\n",
      "Android Ver       10838 non-null object\n",
      "dtypes: float64(1), object(12)\n",
      "memory usage: 1.1+ MB\n"
     ]
    }
   ],
   "source": [
    "data_df.info()"
   ]
  },
  {
   "cell_type": "code",
   "execution_count": 6,
   "metadata": {},
   "outputs": [
    {
     "data": {
      "text/plain": [
       "App                  0\n",
       "Category             0\n",
       "Rating            1474\n",
       "Reviews              0\n",
       "Size                 0\n",
       "Installs             0\n",
       "Type                 1\n",
       "Price                0\n",
       "Content Rating       1\n",
       "Genres               0\n",
       "Last Updated         0\n",
       "Current Ver          8\n",
       "Android Ver          3\n",
       "dtype: int64"
      ]
     },
     "execution_count": 6,
     "metadata": {},
     "output_type": "execute_result"
    }
   ],
   "source": [
    "data_df.isnull().sum()"
   ]
  },
  {
   "cell_type": "code",
   "execution_count": 7,
   "metadata": {},
   "outputs": [
    {
     "data": {
      "text/plain": [
       "483"
      ]
     },
     "execution_count": 7,
     "metadata": {},
     "output_type": "execute_result"
    }
   ],
   "source": [
    "data_df.duplicated().sum()"
   ]
  },
  {
   "cell_type": "code",
   "execution_count": 8,
   "metadata": {},
   "outputs": [
    {
     "data": {
      "text/html": [
       "<div>\n",
       "<style scoped>\n",
       "    .dataframe tbody tr th:only-of-type {\n",
       "        vertical-align: middle;\n",
       "    }\n",
       "\n",
       "    .dataframe tbody tr th {\n",
       "        vertical-align: top;\n",
       "    }\n",
       "\n",
       "    .dataframe thead th {\n",
       "        text-align: right;\n",
       "    }\n",
       "</style>\n",
       "<table border=\"1\" class=\"dataframe\">\n",
       "  <thead>\n",
       "    <tr style=\"text-align: right;\">\n",
       "      <th></th>\n",
       "      <th>Rating</th>\n",
       "    </tr>\n",
       "  </thead>\n",
       "  <tbody>\n",
       "    <tr>\n",
       "      <th>count</th>\n",
       "      <td>9367.000000</td>\n",
       "    </tr>\n",
       "    <tr>\n",
       "      <th>mean</th>\n",
       "      <td>4.193338</td>\n",
       "    </tr>\n",
       "    <tr>\n",
       "      <th>std</th>\n",
       "      <td>0.537431</td>\n",
       "    </tr>\n",
       "    <tr>\n",
       "      <th>min</th>\n",
       "      <td>1.000000</td>\n",
       "    </tr>\n",
       "    <tr>\n",
       "      <th>25%</th>\n",
       "      <td>4.000000</td>\n",
       "    </tr>\n",
       "    <tr>\n",
       "      <th>50%</th>\n",
       "      <td>4.300000</td>\n",
       "    </tr>\n",
       "    <tr>\n",
       "      <th>75%</th>\n",
       "      <td>4.500000</td>\n",
       "    </tr>\n",
       "    <tr>\n",
       "      <th>max</th>\n",
       "      <td>19.000000</td>\n",
       "    </tr>\n",
       "  </tbody>\n",
       "</table>\n",
       "</div>"
      ],
      "text/plain": [
       "            Rating\n",
       "count  9367.000000\n",
       "mean      4.193338\n",
       "std       0.537431\n",
       "min       1.000000\n",
       "25%       4.000000\n",
       "50%       4.300000\n",
       "75%       4.500000\n",
       "max      19.000000"
      ]
     },
     "execution_count": 8,
     "metadata": {},
     "output_type": "execute_result"
    }
   ],
   "source": [
    "data_df.describe()"
   ]
  },
  {
   "cell_type": "code",
   "execution_count": 9,
   "metadata": {},
   "outputs": [
    {
     "data": {
      "text/html": [
       "<div>\n",
       "<style scoped>\n",
       "    .dataframe tbody tr th:only-of-type {\n",
       "        vertical-align: middle;\n",
       "    }\n",
       "\n",
       "    .dataframe tbody tr th {\n",
       "        vertical-align: top;\n",
       "    }\n",
       "\n",
       "    .dataframe thead th {\n",
       "        text-align: right;\n",
       "    }\n",
       "</style>\n",
       "<table border=\"1\" class=\"dataframe\">\n",
       "  <thead>\n",
       "    <tr style=\"text-align: right;\">\n",
       "      <th></th>\n",
       "      <th>Category</th>\n",
       "      <th>Genres</th>\n",
       "    </tr>\n",
       "  </thead>\n",
       "  <tbody>\n",
       "    <tr>\n",
       "      <th>7212</th>\n",
       "      <td>FAMILY</td>\n",
       "      <td>Education</td>\n",
       "    </tr>\n",
       "    <tr>\n",
       "      <th>7885</th>\n",
       "      <td>MEDICAL</td>\n",
       "      <td>Medical</td>\n",
       "    </tr>\n",
       "    <tr>\n",
       "      <th>6441</th>\n",
       "      <td>MAPS_AND_NAVIGATION</td>\n",
       "      <td>Maps &amp; Navigation</td>\n",
       "    </tr>\n",
       "    <tr>\n",
       "      <th>2087</th>\n",
       "      <td>FAMILY</td>\n",
       "      <td>Educational;Creativity</td>\n",
       "    </tr>\n",
       "    <tr>\n",
       "      <th>3144</th>\n",
       "      <td>TRAVEL_AND_LOCAL</td>\n",
       "      <td>Travel &amp; Local</td>\n",
       "    </tr>\n",
       "    <tr>\n",
       "      <th>8809</th>\n",
       "      <td>PRODUCTIVITY</td>\n",
       "      <td>Productivity</td>\n",
       "    </tr>\n",
       "    <tr>\n",
       "      <th>4831</th>\n",
       "      <td>LIFESTYLE</td>\n",
       "      <td>Lifestyle</td>\n",
       "    </tr>\n",
       "    <tr>\n",
       "      <th>4541</th>\n",
       "      <td>TOOLS</td>\n",
       "      <td>Tools</td>\n",
       "    </tr>\n",
       "    <tr>\n",
       "      <th>3771</th>\n",
       "      <td>NEWS_AND_MAGAZINES</td>\n",
       "      <td>News &amp; Magazines</td>\n",
       "    </tr>\n",
       "    <tr>\n",
       "      <th>7359</th>\n",
       "      <td>TOOLS</td>\n",
       "      <td>Tools</td>\n",
       "    </tr>\n",
       "  </tbody>\n",
       "</table>\n",
       "</div>"
      ],
      "text/plain": [
       "                 Category                  Genres\n",
       "7212               FAMILY               Education\n",
       "7885              MEDICAL                 Medical\n",
       "6441  MAPS_AND_NAVIGATION       Maps & Navigation\n",
       "2087               FAMILY  Educational;Creativity\n",
       "3144     TRAVEL_AND_LOCAL          Travel & Local\n",
       "8809         PRODUCTIVITY            Productivity\n",
       "4831            LIFESTYLE               Lifestyle\n",
       "4541                TOOLS                   Tools\n",
       "3771   NEWS_AND_MAGAZINES        News & Magazines\n",
       "7359                TOOLS                   Tools"
      ]
     },
     "execution_count": 9,
     "metadata": {},
     "output_type": "execute_result"
    }
   ],
   "source": [
    "data_df[['Category','Genres']].sample(10)"
   ]
  },
  {
   "cell_type": "markdown",
   "metadata": {},
   "source": [
    "#### 需要处理的内容：\n",
    "+ 'Price'类型应该改为float类型。\n",
    "+ 'Installs','Reviews'类型应该改为int类型。\n",
    "+ 'Type','Category'应该改为分类类型。\n",
    "+ 'Category'与'Genres',选择后者，因为后者更详细\n",
    "+ 'Current Ver','Android Ver','Size','Category', 'Last Updated','Content Rating'这些列不需要。\n",
    "+ 将列名中的多个字母用'_'进行连接。\n",
    "\n",
    "+ 存在重复的记录，\n",
    "+ 'Rating','Type','Content Rating','Current Ver','Android Ver'列存在Null值，需要处理。\n",
    "+ 查看数值类型的列的分布，判断是否存在**outliers**,'Rating'存在异常值"
   ]
  },
  {
   "cell_type": "markdown",
   "metadata": {
    "collapsed": true
   },
   "source": [
    "### 数据清理"
   ]
  },
  {
   "cell_type": "markdown",
   "metadata": {},
   "source": [
    "#### 创建数据副本"
   ]
  },
  {
   "cell_type": "code",
   "execution_count": 10,
   "metadata": {},
   "outputs": [],
   "source": [
    "data_df = data_df.copy()"
   ]
  },
  {
   "cell_type": "markdown",
   "metadata": {},
   "source": [
    "#### 清理列名"
   ]
  },
  {
   "cell_type": "code",
   "execution_count": 11,
   "metadata": {},
   "outputs": [],
   "source": [
    "def clean_columns(df,drop_list):\n",
    "    '''\n",
    "    description：\n",
    "        first of all,to make the columns to call by the accessor easiliy;\n",
    "        secondly,drop unnecessary columns.\n",
    "    input:\n",
    "        df: Dataframe.\n",
    "        drop_list:list,the list consists of columns to drop.\n",
    "    return:\n",
    "        df: Dataframe.\n",
    "    '''\n",
    "    initial_column_len = len(df.columns)\n",
    "    df.drop(drop_list,axis=1,inplace=True)\n",
    "    df.rename(columns=lambda x:x.lower().strip().replace(' ','_'),inplace=True)\n",
    "    \n",
    "    # 输出操作结果\n",
    "    print(f'{drop_list}have been dropped successfully')\n",
    "    print(f'the result of proceding is {len(df.columns)+len(drop_list)==initial_column_len}')"
   ]
  },
  {
   "cell_type": "code",
   "execution_count": 12,
   "metadata": {},
   "outputs": [
    {
     "name": "stdout",
     "output_type": "stream",
     "text": [
      "['Current Ver', 'Android Ver', 'Last Updated', 'Size', 'Category', 'Content Rating']have been dropped successfully\n",
      "the result of proceding is True\n"
     ]
    }
   ],
   "source": [
    "drop_list = ['Current Ver','Android Ver','Last Updated','Size','Category','Content Rating']\n",
    "clean_columns(data_df,drop_list)"
   ]
  },
  {
   "cell_type": "markdown",
   "metadata": {},
   "source": [
    "#### 清理空值"
   ]
  },
  {
   "cell_type": "code",
   "execution_count": 13,
   "metadata": {},
   "outputs": [
    {
     "data": {
      "text/plain": [
       "app         0\n",
       "rating      0\n",
       "reviews     0\n",
       "installs    0\n",
       "type        0\n",
       "price       0\n",
       "genres      0\n",
       "dtype: int64"
      ]
     },
     "execution_count": 13,
     "metadata": {},
     "output_type": "execute_result"
    }
   ],
   "source": [
    "data_df.dropna(axis= 0, inplace= True)\n",
    "data_df.isna().sum()"
   ]
  },
  {
   "cell_type": "markdown",
   "metadata": {},
   "source": [
    "#### 清理数据类型\n",
    "\n",
    "**注意**\n",
    "+ 首先清理空值，然后再进行数据类型的转换"
   ]
  },
  {
   "cell_type": "code",
   "execution_count": 14,
   "metadata": {},
   "outputs": [
    {
     "data": {
      "text/plain": [
       "array(['0', '$4.99', '$3.99', '$6.99', '$7.99', '$5.99', '$2.99', '$3.49',\n",
       "       '$1.99', '$9.99', '$7.49', '$0.99', '$9.00', '$5.49', '$10.00',\n",
       "       '$24.99', '$11.99', '$79.99', '$16.99', '$14.99', '$29.99',\n",
       "       '$12.99', '$2.49', '$10.99', '$1.50', '$19.99', '$15.99', '$33.99',\n",
       "       '$39.99', '$3.95', '$4.49', '$1.70', '$8.99', '$1.49', '$3.88',\n",
       "       '$399.99', '$17.99', '$400.00', '$3.02', '$1.76', '$4.84', '$4.77',\n",
       "       '$1.61', '$2.50', '$1.59', '$6.49', '$1.29', '$299.99', '$379.99',\n",
       "       '$37.99', '$18.99', '$389.99', '$8.49', '$1.75', '$14.00', '$2.00',\n",
       "       '$3.08', '$2.59', '$19.40', '$3.90', '$4.59', '$15.46', '$3.04',\n",
       "       '$13.99', '$4.29', '$3.28', '$4.60', '$1.00', '$2.95', '$2.90',\n",
       "       '$1.97', '$2.56', 'Everyone', '$1.20'], dtype=object)"
      ]
     },
     "execution_count": 14,
     "metadata": {},
     "output_type": "execute_result"
    }
   ],
   "source": [
    "data_df.price.unique()"
   ]
  },
  {
   "cell_type": "code",
   "execution_count": 15,
   "metadata": {},
   "outputs": [
    {
     "data": {
      "text/plain": [
       "array(['Free', 'Paid', '0'], dtype=object)"
      ]
     },
     "execution_count": 15,
     "metadata": {},
     "output_type": "execute_result"
    }
   ],
   "source": [
    "data_df.type.unique()"
   ]
  },
  {
   "cell_type": "code",
   "execution_count": 16,
   "metadata": {},
   "outputs": [
    {
     "data": {
      "text/plain": [
       "array(['10,000+', '500,000+', '5,000,000+', '50,000,000+', '100,000+',\n",
       "       '50,000+', '1,000,000+', '10,000,000+', '5,000+', '100,000,000+',\n",
       "       '1,000,000,000+', '1,000+', '500,000,000+', '100+', '500+', '10+',\n",
       "       '5+', '50+', '1+', 'Free'], dtype=object)"
      ]
     },
     "execution_count": 16,
     "metadata": {},
     "output_type": "execute_result"
    }
   ],
   "source": [
    "data_df.installs.unique()"
   ]
  },
  {
   "cell_type": "code",
   "execution_count": 17,
   "metadata": {},
   "outputs": [
    {
     "data": {
      "text/plain": [
       "array(['159', '967', '87510', ..., '603', '1195', '398307'], dtype=object)"
      ]
     },
     "execution_count": 17,
     "metadata": {},
     "output_type": "execute_result"
    }
   ],
   "source": [
    "data_df.reviews.unique()"
   ]
  },
  {
   "cell_type": "markdown",
   "metadata": {},
   "source": [
    "+ 'data_df.reviews.astype(int)'会出现如下错误\"ValueError: invalid literal for int() with base 10: '3.0M'\""
   ]
  },
  {
   "cell_type": "code",
   "execution_count": 18,
   "metadata": {},
   "outputs": [
    {
     "data": {
      "text/html": [
       "<div>\n",
       "<style scoped>\n",
       "    .dataframe tbody tr th:only-of-type {\n",
       "        vertical-align: middle;\n",
       "    }\n",
       "\n",
       "    .dataframe tbody tr th {\n",
       "        vertical-align: top;\n",
       "    }\n",
       "\n",
       "    .dataframe thead th {\n",
       "        text-align: right;\n",
       "    }\n",
       "</style>\n",
       "<table border=\"1\" class=\"dataframe\">\n",
       "  <thead>\n",
       "    <tr style=\"text-align: right;\">\n",
       "      <th></th>\n",
       "      <th>app</th>\n",
       "      <th>rating</th>\n",
       "      <th>reviews</th>\n",
       "      <th>installs</th>\n",
       "      <th>type</th>\n",
       "      <th>price</th>\n",
       "      <th>genres</th>\n",
       "    </tr>\n",
       "  </thead>\n",
       "  <tbody>\n",
       "    <tr>\n",
       "      <th>10472</th>\n",
       "      <td>Life Made WI-Fi Touchscreen Photo Frame</td>\n",
       "      <td>19.0</td>\n",
       "      <td>3.0M</td>\n",
       "      <td>Free</td>\n",
       "      <td>0</td>\n",
       "      <td>Everyone</td>\n",
       "      <td>February 11, 2018</td>\n",
       "    </tr>\n",
       "  </tbody>\n",
       "</table>\n",
       "</div>"
      ],
      "text/plain": [
       "                                           app  rating reviews installs type  \\\n",
       "10472  Life Made WI-Fi Touchscreen Photo Frame    19.0    3.0M     Free    0   \n",
       "\n",
       "          price             genres  \n",
       "10472  Everyone  February 11, 2018  "
      ]
     },
     "execution_count": 18,
     "metadata": {},
     "output_type": "execute_result"
    }
   ],
   "source": [
    "data_df.query(\"reviews == '3.0M'\")"
   ]
  },
  {
   "cell_type": "code",
   "execution_count": 19,
   "metadata": {},
   "outputs": [
    {
     "data": {
      "text/html": [
       "<div>\n",
       "<style scoped>\n",
       "    .dataframe tbody tr th:only-of-type {\n",
       "        vertical-align: middle;\n",
       "    }\n",
       "\n",
       "    .dataframe tbody tr th {\n",
       "        vertical-align: top;\n",
       "    }\n",
       "\n",
       "    .dataframe thead th {\n",
       "        text-align: right;\n",
       "    }\n",
       "</style>\n",
       "<table border=\"1\" class=\"dataframe\">\n",
       "  <thead>\n",
       "    <tr style=\"text-align: right;\">\n",
       "      <th></th>\n",
       "      <th>app</th>\n",
       "      <th>rating</th>\n",
       "      <th>reviews</th>\n",
       "      <th>installs</th>\n",
       "      <th>type</th>\n",
       "      <th>price</th>\n",
       "      <th>genres</th>\n",
       "    </tr>\n",
       "  </thead>\n",
       "  <tbody>\n",
       "    <tr>\n",
       "      <th>10472</th>\n",
       "      <td>Life Made WI-Fi Touchscreen Photo Frame</td>\n",
       "      <td>19.0</td>\n",
       "      <td>3.0M</td>\n",
       "      <td>Free</td>\n",
       "      <td>0</td>\n",
       "      <td>Everyone</td>\n",
       "      <td>February 11, 2018</td>\n",
       "    </tr>\n",
       "  </tbody>\n",
       "</table>\n",
       "</div>"
      ],
      "text/plain": [
       "                                           app  rating reviews installs type  \\\n",
       "10472  Life Made WI-Fi Touchscreen Photo Frame    19.0    3.0M     Free    0   \n",
       "\n",
       "          price             genres  \n",
       "10472  Everyone  February 11, 2018  "
      ]
     },
     "execution_count": 19,
     "metadata": {},
     "output_type": "execute_result"
    }
   ],
   "source": [
    "data_df.query(\"type == '0'\")"
   ]
  },
  {
   "cell_type": "code",
   "execution_count": 20,
   "metadata": {},
   "outputs": [
    {
     "data": {
      "text/html": [
       "<div>\n",
       "<style scoped>\n",
       "    .dataframe tbody tr th:only-of-type {\n",
       "        vertical-align: middle;\n",
       "    }\n",
       "\n",
       "    .dataframe tbody tr th {\n",
       "        vertical-align: top;\n",
       "    }\n",
       "\n",
       "    .dataframe thead th {\n",
       "        text-align: right;\n",
       "    }\n",
       "</style>\n",
       "<table border=\"1\" class=\"dataframe\">\n",
       "  <thead>\n",
       "    <tr style=\"text-align: right;\">\n",
       "      <th></th>\n",
       "      <th>app</th>\n",
       "      <th>rating</th>\n",
       "      <th>reviews</th>\n",
       "      <th>installs</th>\n",
       "      <th>type</th>\n",
       "      <th>price</th>\n",
       "      <th>genres</th>\n",
       "    </tr>\n",
       "  </thead>\n",
       "  <tbody>\n",
       "    <tr>\n",
       "      <th>10472</th>\n",
       "      <td>Life Made WI-Fi Touchscreen Photo Frame</td>\n",
       "      <td>19.0</td>\n",
       "      <td>3.0M</td>\n",
       "      <td>Free</td>\n",
       "      <td>0</td>\n",
       "      <td>Everyone</td>\n",
       "      <td>February 11, 2018</td>\n",
       "    </tr>\n",
       "  </tbody>\n",
       "</table>\n",
       "</div>"
      ],
      "text/plain": [
       "                                           app  rating reviews installs type  \\\n",
       "10472  Life Made WI-Fi Touchscreen Photo Frame    19.0    3.0M     Free    0   \n",
       "\n",
       "          price             genres  \n",
       "10472  Everyone  February 11, 2018  "
      ]
     },
     "execution_count": 20,
     "metadata": {},
     "output_type": "execute_result"
    }
   ],
   "source": [
    "data_df.query(\"installs =='Free'\")"
   ]
  },
  {
   "cell_type": "code",
   "execution_count": 21,
   "metadata": {},
   "outputs": [
    {
     "data": {
      "text/html": [
       "<div>\n",
       "<style scoped>\n",
       "    .dataframe tbody tr th:only-of-type {\n",
       "        vertical-align: middle;\n",
       "    }\n",
       "\n",
       "    .dataframe tbody tr th {\n",
       "        vertical-align: top;\n",
       "    }\n",
       "\n",
       "    .dataframe thead th {\n",
       "        text-align: right;\n",
       "    }\n",
       "</style>\n",
       "<table border=\"1\" class=\"dataframe\">\n",
       "  <thead>\n",
       "    <tr style=\"text-align: right;\">\n",
       "      <th></th>\n",
       "      <th>app</th>\n",
       "      <th>rating</th>\n",
       "      <th>reviews</th>\n",
       "      <th>installs</th>\n",
       "      <th>type</th>\n",
       "      <th>price</th>\n",
       "      <th>genres</th>\n",
       "    </tr>\n",
       "  </thead>\n",
       "  <tbody>\n",
       "    <tr>\n",
       "      <th>10472</th>\n",
       "      <td>Life Made WI-Fi Touchscreen Photo Frame</td>\n",
       "      <td>19.0</td>\n",
       "      <td>3.0M</td>\n",
       "      <td>Free</td>\n",
       "      <td>0</td>\n",
       "      <td>Everyone</td>\n",
       "      <td>February 11, 2018</td>\n",
       "    </tr>\n",
       "  </tbody>\n",
       "</table>\n",
       "</div>"
      ],
      "text/plain": [
       "                                           app  rating reviews installs type  \\\n",
       "10472  Life Made WI-Fi Touchscreen Photo Frame    19.0    3.0M     Free    0   \n",
       "\n",
       "          price             genres  \n",
       "10472  Everyone  February 11, 2018  "
      ]
     },
     "execution_count": 21,
     "metadata": {},
     "output_type": "execute_result"
    }
   ],
   "source": [
    "data_df.query(\"price == 'Everyone'\")"
   ]
  },
  {
   "cell_type": "code",
   "execution_count": 22,
   "metadata": {},
   "outputs": [],
   "source": [
    "# 上述四个查询，发现index为10472的记录是异常记录，需要进行删除处理。\n",
    "data_df.drop(index=10472,inplace=True)"
   ]
  },
  {
   "cell_type": "code",
   "execution_count": 23,
   "metadata": {},
   "outputs": [],
   "source": [
    "# 将'type'和'installs'两个列的数据的类型改为分类类型\n",
    "data_df.type =data_df.type.astype('category')\n",
    "data_df.installs = pd.Categorical(data_df.installs)\n",
    "# 将'reviews'中的elements的类型转换为int类型。\n",
    "data_df.reviews = data_df.reviews.astype(int)"
   ]
  },
  {
   "attachments": {
    "image.png": {
     "image/png": "[encoded data removed]"
    }
   },
   "cell_type": "markdown",
   "metadata": {},
   "source": [
    "+ 'price'列中的元素，是由数字和字符组成，需要用正则表达式，将数值提取出来，并转换为float类型。\n",
    "+ data_df.price = data_df.price.str.extract(r'.*?(\\d+[.]\\d+)').astype(float),这个操作会导致数值为0的记录，都会转化为NAN\n",
    "+ ![image.png](attachment:image.png)\n"
   ]
  },
  {
   "cell_type": "code",
   "execution_count": 24,
   "metadata": {},
   "outputs": [],
   "source": [
    "data_df.price = data_df.price.str.extract(r'(\\d+\\.?\\d*)').astype(float)"
   ]
  },
  {
   "cell_type": "code",
   "execution_count": 25,
   "metadata": {},
   "outputs": [
    {
     "data": {
      "text/plain": [
       "array([  0.  ,   4.99,   3.99,   6.99,   7.99,   5.99,   2.99,   3.49,\n",
       "         1.99,   9.99,   7.49,   0.99,   9.  ,   5.49,  10.  ,  24.99,\n",
       "        11.99,  79.99,  16.99,  14.99,  29.99,  12.99,   2.49,  10.99,\n",
       "         1.5 ,  19.99,  15.99,  33.99,  39.99,   3.95,   4.49,   1.7 ,\n",
       "         8.99,   1.49,   3.88, 399.99,  17.99, 400.  ,   3.02,   1.76,\n",
       "         4.84,   4.77,   1.61,   2.5 ,   1.59,   6.49,   1.29, 299.99,\n",
       "       379.99,  37.99,  18.99, 389.99,   8.49,   1.75,  14.  ,   2.  ,\n",
       "         3.08,   2.59,  19.4 ,   3.9 ,   4.59,  15.46,   3.04,  13.99,\n",
       "         4.29,   3.28,   4.6 ,   1.  ,   2.95,   2.9 ,   1.97,   2.56,\n",
       "         1.2 ])"
      ]
     },
     "execution_count": 25,
     "metadata": {},
     "output_type": "execute_result"
    }
   ],
   "source": [
    "data_df.price.unique()"
   ]
  },
  {
   "cell_type": "code",
   "execution_count": 26,
   "metadata": {},
   "outputs": [
    {
     "data": {
      "text/plain": [
       "count    9366.000000\n",
       "mean        0.960928\n",
       "std        15.816585\n",
       "min         0.000000\n",
       "25%         0.000000\n",
       "50%         0.000000\n",
       "75%         0.000000\n",
       "max       400.000000\n",
       "Name: price, dtype: float64"
      ]
     },
     "execution_count": 26,
     "metadata": {},
     "output_type": "execute_result"
    }
   ],
   "source": [
    "data_df.price.describe()"
   ]
  },
  {
   "cell_type": "markdown",
   "metadata": {},
   "source": [
    "+ 'price'中元素不是连续值，而是离散值，可以考虑将数据类型改为分类类型。"
   ]
  },
  {
   "cell_type": "code",
   "execution_count": 27,
   "metadata": {},
   "outputs": [],
   "source": [
    "data_df.price = pd.Categorical(data_df.price)"
   ]
  },
  {
   "cell_type": "code",
   "execution_count": 28,
   "metadata": {},
   "outputs": [
    {
     "name": "stdout",
     "output_type": "stream",
     "text": [
      "<class 'pandas.core.frame.DataFrame'>\n",
      "Int64Index: 9366 entries, 0 to 10840\n",
      "Data columns (total 7 columns):\n",
      "app         9366 non-null object\n",
      "rating      9366 non-null float64\n",
      "reviews     9366 non-null int32\n",
      "installs    9366 non-null category\n",
      "type        9366 non-null category\n",
      "price       9366 non-null category\n",
      "genres      9366 non-null object\n",
      "dtypes: category(3), float64(1), int32(1), object(2)\n",
      "memory usage: 360.7+ KB\n"
     ]
    }
   ],
   "source": [
    "data_df.info()"
   ]
  },
  {
   "cell_type": "code",
   "execution_count": 29,
   "metadata": {
    "scrolled": true
   },
   "outputs": [],
   "source": [
    "# 处理'genres',是否需要展开？\n",
    "# data_df.genres.unique()"
   ]
  },
  {
   "cell_type": "markdown",
   "metadata": {},
   "source": [
    "#### 清理重复值"
   ]
  },
  {
   "cell_type": "code",
   "execution_count": 30,
   "metadata": {},
   "outputs": [
    {
     "data": {
      "text/plain": [
       "1959"
      ]
     },
     "execution_count": 30,
     "metadata": {},
     "output_type": "execute_result"
    }
   ],
   "source": [
    "data_df.duplicated(subset='app',keep=False).sum()"
   ]
  },
  {
   "cell_type": "code",
   "execution_count": 31,
   "metadata": {},
   "outputs": [
    {
     "data": {
      "text/plain": [
       "1203"
      ]
     },
     "execution_count": 31,
     "metadata": {},
     "output_type": "execute_result"
    }
   ],
   "source": [
    "data_df.drop_duplicates(inplace =True)\n",
    "data_df.duplicated(subset='app',keep=False).sum()"
   ]
  },
  {
   "cell_type": "markdown",
   "metadata": {},
   "source": [
    "+ 没有完全清除重复值，因为'data_df.drop_duplicates(inplace =True)'只能清理各个字段都重复的记录，但是对于'app'名称重复，但是'reviews'不同的记录不能清除，因此需要添加参数，进行更详细的清除。"
   ]
  },
  {
   "cell_type": "code",
   "execution_count": 32,
   "metadata": {},
   "outputs": [
    {
     "data": {
      "text/html": [
       "<div>\n",
       "<style scoped>\n",
       "    .dataframe tbody tr th:only-of-type {\n",
       "        vertical-align: middle;\n",
       "    }\n",
       "\n",
       "    .dataframe tbody tr th {\n",
       "        vertical-align: top;\n",
       "    }\n",
       "\n",
       "    .dataframe thead th {\n",
       "        text-align: right;\n",
       "    }\n",
       "</style>\n",
       "<table border=\"1\" class=\"dataframe\">\n",
       "  <thead>\n",
       "    <tr style=\"text-align: right;\">\n",
       "      <th></th>\n",
       "      <th>app</th>\n",
       "      <th>rating</th>\n",
       "      <th>reviews</th>\n",
       "      <th>installs</th>\n",
       "      <th>type</th>\n",
       "      <th>price</th>\n",
       "      <th>genres</th>\n",
       "    </tr>\n",
       "  </thead>\n",
       "  <tbody>\n",
       "    <tr>\n",
       "      <th>3083</th>\n",
       "      <td>365Scores - Live Scores</td>\n",
       "      <td>4.6</td>\n",
       "      <td>666521</td>\n",
       "      <td>10,000,000+</td>\n",
       "      <td>Free</td>\n",
       "      <td>0.0</td>\n",
       "      <td>Sports</td>\n",
       "    </tr>\n",
       "    <tr>\n",
       "      <th>5415</th>\n",
       "      <td>365Scores - Live Scores</td>\n",
       "      <td>4.6</td>\n",
       "      <td>666246</td>\n",
       "      <td>10,000,000+</td>\n",
       "      <td>Free</td>\n",
       "      <td>0.0</td>\n",
       "      <td>Sports</td>\n",
       "    </tr>\n",
       "    <tr>\n",
       "      <th>1755</th>\n",
       "      <td>8 Ball Pool</td>\n",
       "      <td>4.5</td>\n",
       "      <td>14200344</td>\n",
       "      <td>100,000,000+</td>\n",
       "      <td>Free</td>\n",
       "      <td>0.0</td>\n",
       "      <td>Sports</td>\n",
       "    </tr>\n",
       "    <tr>\n",
       "      <th>1844</th>\n",
       "      <td>8 Ball Pool</td>\n",
       "      <td>4.5</td>\n",
       "      <td>14200550</td>\n",
       "      <td>100,000,000+</td>\n",
       "      <td>Free</td>\n",
       "      <td>0.0</td>\n",
       "      <td>Sports</td>\n",
       "    </tr>\n",
       "    <tr>\n",
       "      <th>1871</th>\n",
       "      <td>8 Ball Pool</td>\n",
       "      <td>4.5</td>\n",
       "      <td>14201891</td>\n",
       "      <td>100,000,000+</td>\n",
       "      <td>Free</td>\n",
       "      <td>0.0</td>\n",
       "      <td>Sports</td>\n",
       "    </tr>\n",
       "    <tr>\n",
       "      <th>3953</th>\n",
       "      <td>8 Ball Pool</td>\n",
       "      <td>4.5</td>\n",
       "      <td>14184910</td>\n",
       "      <td>100,000,000+</td>\n",
       "      <td>Free</td>\n",
       "      <td>0.0</td>\n",
       "      <td>Sports</td>\n",
       "    </tr>\n",
       "    <tr>\n",
       "      <th>1675</th>\n",
       "      <td>8 Ball Pool</td>\n",
       "      <td>4.5</td>\n",
       "      <td>14198297</td>\n",
       "      <td>100,000,000+</td>\n",
       "      <td>Free</td>\n",
       "      <td>0.0</td>\n",
       "      <td>Sports</td>\n",
       "    </tr>\n",
       "    <tr>\n",
       "      <th>1970</th>\n",
       "      <td>8 Ball Pool</td>\n",
       "      <td>4.5</td>\n",
       "      <td>14201604</td>\n",
       "      <td>100,000,000+</td>\n",
       "      <td>Free</td>\n",
       "      <td>0.0</td>\n",
       "      <td>Sports</td>\n",
       "    </tr>\n",
       "    <tr>\n",
       "      <th>1703</th>\n",
       "      <td>8 Ball Pool</td>\n",
       "      <td>4.5</td>\n",
       "      <td>14198602</td>\n",
       "      <td>100,000,000+</td>\n",
       "      <td>Free</td>\n",
       "      <td>0.0</td>\n",
       "      <td>Sports</td>\n",
       "    </tr>\n",
       "    <tr>\n",
       "      <th>559</th>\n",
       "      <td>95Live -SG#1 Live Streaming App</td>\n",
       "      <td>4.1</td>\n",
       "      <td>4953</td>\n",
       "      <td>1,000,000+</td>\n",
       "      <td>Free</td>\n",
       "      <td>0.0</td>\n",
       "      <td>Dating</td>\n",
       "    </tr>\n",
       "  </tbody>\n",
       "</table>\n",
       "</div>"
      ],
      "text/plain": [
       "                                  app  rating   reviews      installs  type  \\\n",
       "3083          365Scores - Live Scores     4.6    666521   10,000,000+  Free   \n",
       "5415          365Scores - Live Scores     4.6    666246   10,000,000+  Free   \n",
       "1755                      8 Ball Pool     4.5  14200344  100,000,000+  Free   \n",
       "1844                      8 Ball Pool     4.5  14200550  100,000,000+  Free   \n",
       "1871                      8 Ball Pool     4.5  14201891  100,000,000+  Free   \n",
       "3953                      8 Ball Pool     4.5  14184910  100,000,000+  Free   \n",
       "1675                      8 Ball Pool     4.5  14198297  100,000,000+  Free   \n",
       "1970                      8 Ball Pool     4.5  14201604  100,000,000+  Free   \n",
       "1703                      8 Ball Pool     4.5  14198602  100,000,000+  Free   \n",
       "559   95Live -SG#1 Live Streaming App     4.1      4953    1,000,000+  Free   \n",
       "\n",
       "     price  genres  \n",
       "3083   0.0  Sports  \n",
       "5415   0.0  Sports  \n",
       "1755   0.0  Sports  \n",
       "1844   0.0  Sports  \n",
       "1871   0.0  Sports  \n",
       "3953   0.0  Sports  \n",
       "1675   0.0  Sports  \n",
       "1970   0.0  Sports  \n",
       "1703   0.0  Sports  \n",
       "559    0.0  Dating  "
      ]
     },
     "execution_count": 32,
     "metadata": {},
     "output_type": "execute_result"
    }
   ],
   "source": [
    "data_df[data_df.duplicated(subset='app',keep=False)].sort_values('app',axis=0,ascending=True).head(10)"
   ]
  },
  {
   "cell_type": "markdown",
   "metadata": {},
   "source": [
    "+ 保留每个'app'中'review'最大的记录\n",
    "+ 首先需要对'app'和'review'进行排序\n",
    "+ 然后清除重复值"
   ]
  },
  {
   "cell_type": "code",
   "execution_count": 33,
   "metadata": {},
   "outputs": [
    {
     "data": {
      "text/plain": [
       "0"
      ]
     },
     "execution_count": 33,
     "metadata": {},
     "output_type": "execute_result"
    }
   ],
   "source": [
    "data_df.sort_values(['app','reviews'],axis=0,ascending=True,inplace=True)\n",
    "data_df.drop_duplicates(subset='app',keep='first',inplace=True)\n",
    "data_df.duplicated(subset='app',keep='first').sum()"
   ]
  },
  {
   "cell_type": "markdown",
   "metadata": {},
   "source": [
    "#### 清理异常值"
   ]
  },
  {
   "cell_type": "markdown",
   "metadata": {},
   "source": [
    "+ 查看数值分布的情况。 "
   ]
  },
  {
   "cell_type": "code",
   "execution_count": 34,
   "metadata": {},
   "outputs": [
    {
     "data": {
      "text/html": [
       "<div>\n",
       "<style scoped>\n",
       "    .dataframe tbody tr th:only-of-type {\n",
       "        vertical-align: middle;\n",
       "    }\n",
       "\n",
       "    .dataframe tbody tr th {\n",
       "        vertical-align: top;\n",
       "    }\n",
       "\n",
       "    .dataframe thead th {\n",
       "        text-align: right;\n",
       "    }\n",
       "</style>\n",
       "<table border=\"1\" class=\"dataframe\">\n",
       "  <thead>\n",
       "    <tr style=\"text-align: right;\">\n",
       "      <th></th>\n",
       "      <th>rating</th>\n",
       "      <th>reviews</th>\n",
       "    </tr>\n",
       "  </thead>\n",
       "  <tbody>\n",
       "    <tr>\n",
       "      <th>count</th>\n",
       "      <td>8196.000000</td>\n",
       "      <td>8.196000e+03</td>\n",
       "    </tr>\n",
       "    <tr>\n",
       "      <th>mean</th>\n",
       "      <td>4.173194</td>\n",
       "      <td>2.550775e+05</td>\n",
       "    </tr>\n",
       "    <tr>\n",
       "      <th>std</th>\n",
       "      <td>0.536640</td>\n",
       "      <td>1.984894e+06</td>\n",
       "    </tr>\n",
       "    <tr>\n",
       "      <th>min</th>\n",
       "      <td>1.000000</td>\n",
       "      <td>1.000000e+00</td>\n",
       "    </tr>\n",
       "    <tr>\n",
       "      <th>25%</th>\n",
       "      <td>4.000000</td>\n",
       "      <td>1.260000e+02</td>\n",
       "    </tr>\n",
       "    <tr>\n",
       "      <th>50%</th>\n",
       "      <td>4.300000</td>\n",
       "      <td>2.986000e+03</td>\n",
       "    </tr>\n",
       "    <tr>\n",
       "      <th>75%</th>\n",
       "      <td>4.500000</td>\n",
       "      <td>4.361175e+04</td>\n",
       "    </tr>\n",
       "    <tr>\n",
       "      <th>max</th>\n",
       "      <td>5.000000</td>\n",
       "      <td>7.812821e+07</td>\n",
       "    </tr>\n",
       "  </tbody>\n",
       "</table>\n",
       "</div>"
      ],
      "text/plain": [
       "            rating       reviews\n",
       "count  8196.000000  8.196000e+03\n",
       "mean      4.173194  2.550775e+05\n",
       "std       0.536640  1.984894e+06\n",
       "min       1.000000  1.000000e+00\n",
       "25%       4.000000  1.260000e+02\n",
       "50%       4.300000  2.986000e+03\n",
       "75%       4.500000  4.361175e+04\n",
       "max       5.000000  7.812821e+07"
      ]
     },
     "execution_count": 34,
     "metadata": {},
     "output_type": "execute_result"
    }
   ],
   "source": [
    "data_df.describe()"
   ]
  },
  {
   "cell_type": "markdown",
   "metadata": {},
   "source": [
    "#### 重置index"
   ]
  },
  {
   "cell_type": "code",
   "execution_count": 35,
   "metadata": {},
   "outputs": [],
   "source": [
    "data_df.reset_index(drop=True,inplace=True)"
   ]
  },
  {
   "cell_type": "markdown",
   "metadata": {},
   "source": [
    "#### Presistence"
   ]
  },
  {
   "cell_type": "code",
   "execution_count": 36,
   "metadata": {},
   "outputs": [],
   "source": [
    "data_df.to_csv(\"google_play_store_phase_clean.csv\")"
   ]
  },
  {
   "cell_type": "markdown",
   "metadata": {},
   "source": [
    "## 数据探索分析"
   ]
  },
  {
   "cell_type": "code",
   "execution_count": 37,
   "metadata": {},
   "outputs": [],
   "source": [
    "# In exploratory data analysis, please make sure of using statistics and visualizations\n",
    "import numpy as np\n",
    "import pandas as pd\n",
    "import matplotlib.pyplot as plt\n",
    "import seaborn as sns\n",
    "\n",
    "%matplotlib inline"
   ]
  },
  {
   "cell_type": "code",
   "execution_count": 38,
   "metadata": {},
   "outputs": [
    {
     "data": {
      "text/html": [
       "<div>\n",
       "<style scoped>\n",
       "    .dataframe tbody tr th:only-of-type {\n",
       "        vertical-align: middle;\n",
       "    }\n",
       "\n",
       "    .dataframe tbody tr th {\n",
       "        vertical-align: top;\n",
       "    }\n",
       "\n",
       "    .dataframe thead th {\n",
       "        text-align: right;\n",
       "    }\n",
       "</style>\n",
       "<table border=\"1\" class=\"dataframe\">\n",
       "  <thead>\n",
       "    <tr style=\"text-align: right;\">\n",
       "      <th></th>\n",
       "      <th>app</th>\n",
       "      <th>rating</th>\n",
       "      <th>reviews</th>\n",
       "      <th>installs</th>\n",
       "      <th>type</th>\n",
       "      <th>price</th>\n",
       "      <th>genres</th>\n",
       "    </tr>\n",
       "  </thead>\n",
       "  <tbody>\n",
       "    <tr>\n",
       "      <th>0</th>\n",
       "      <td>+Download 4 Instagram Twitter</td>\n",
       "      <td>4.5</td>\n",
       "      <td>40467</td>\n",
       "      <td>1,000,000+</td>\n",
       "      <td>Free</td>\n",
       "      <td>0.0</td>\n",
       "      <td>Social</td>\n",
       "    </tr>\n",
       "    <tr>\n",
       "      <th>1</th>\n",
       "      <td>- Free Comics - Comic Apps</td>\n",
       "      <td>3.5</td>\n",
       "      <td>115</td>\n",
       "      <td>10,000+</td>\n",
       "      <td>Free</td>\n",
       "      <td>0.0</td>\n",
       "      <td>Comics</td>\n",
       "    </tr>\n",
       "    <tr>\n",
       "      <th>2</th>\n",
       "      <td>.R</td>\n",
       "      <td>4.5</td>\n",
       "      <td>259</td>\n",
       "      <td>10,000+</td>\n",
       "      <td>Free</td>\n",
       "      <td>0.0</td>\n",
       "      <td>Tools</td>\n",
       "    </tr>\n",
       "    <tr>\n",
       "      <th>3</th>\n",
       "      <td>/u/app</td>\n",
       "      <td>4.7</td>\n",
       "      <td>573</td>\n",
       "      <td>10,000+</td>\n",
       "      <td>Free</td>\n",
       "      <td>0.0</td>\n",
       "      <td>Communication</td>\n",
       "    </tr>\n",
       "    <tr>\n",
       "      <th>4</th>\n",
       "      <td>058.ba</td>\n",
       "      <td>4.4</td>\n",
       "      <td>27</td>\n",
       "      <td>100+</td>\n",
       "      <td>Free</td>\n",
       "      <td>0.0</td>\n",
       "      <td>News &amp; Magazines</td>\n",
       "    </tr>\n",
       "  </tbody>\n",
       "</table>\n",
       "</div>"
      ],
      "text/plain": [
       "                             app  rating  reviews    installs  type  price  \\\n",
       "0  +Download 4 Instagram Twitter     4.5    40467  1,000,000+  Free    0.0   \n",
       "1     - Free Comics - Comic Apps     3.5      115     10,000+  Free    0.0   \n",
       "2                             .R     4.5      259     10,000+  Free    0.0   \n",
       "3                         /u/app     4.7      573     10,000+  Free    0.0   \n",
       "4                         058.ba     4.4       27        100+  Free    0.0   \n",
       "\n",
       "             genres  \n",
       "0            Social  \n",
       "1            Comics  \n",
       "2             Tools  \n",
       "3     Communication  \n",
       "4  News & Magazines  "
      ]
     },
     "execution_count": 38,
     "metadata": {},
     "output_type": "execute_result"
    }
   ],
   "source": [
    "df = pd.read_csv(\"google_play_store_phase_clean.csv\",header=0,index_col=0)\n",
    "df.head()"
   ]
  },
  {
   "attachments": {
    "image.png": {
     "image/png": "[encoded data removed]"
    }
   },
   "cell_type": "markdown",
   "metadata": {},
   "source": [
    "+ 参数'index_col'的作用\n",
    "+ ![image.png](attachment:image.png)"
   ]
  },
  {
   "cell_type": "code",
   "execution_count": 39,
   "metadata": {},
   "outputs": [
    {
     "data": {
      "text/plain": [
       "array([[<matplotlib.axes._subplots.AxesSubplot object at 0x000002B5AF5E4780>,\n",
       "        <matplotlib.axes._subplots.AxesSubplot object at 0x000002B5AF4FA160>,\n",
       "        <matplotlib.axes._subplots.AxesSubplot object at 0x000002B5AF5237F0>],\n",
       "       [<matplotlib.axes._subplots.AxesSubplot object at 0x000002B5AF549E80>,\n",
       "        <matplotlib.axes._subplots.AxesSubplot object at 0x000002B5AF7FC550>,\n",
       "        <matplotlib.axes._subplots.AxesSubplot object at 0x000002B5AF7FC588>],\n",
       "       [<matplotlib.axes._subplots.AxesSubplot object at 0x000002B5AF8532B0>,\n",
       "        <matplotlib.axes._subplots.AxesSubplot object at 0x000002B5AF87D940>,\n",
       "        <matplotlib.axes._subplots.AxesSubplot object at 0x000002B5AF8A5FD0>]],\n",
       "      dtype=object)"
      ]
     },
     "execution_count": 39,
     "metadata": {},
     "output_type": "execute_result"
    },
    {
     "data": {
      "image/png": "[encoded data removed]",
      "text/plain": [
       "<Figure size 576x576 with 9 Axes>"
      ]
     },
     "metadata": {
      "needs_background": "light"
     },
     "output_type": "display_data"
    }
   ],
   "source": [
    "from pandas.plotting import scatter_matrix\n",
    "scatter_matrix(df, alpha=0.2, figsize=(8, 8), diagonal='kde')"
   ]
  },
  {
   "cell_type": "code",
   "execution_count": 57,
   "metadata": {},
   "outputs": [],
   "source": [
    "df.loc[:,'rating_log'] = np.log(df.rating)\n",
    "df.loc[:,'review_log'] = np.log(df.reviews)"
   ]
  },
  {
   "cell_type": "code",
   "execution_count": 53,
   "metadata": {},
   "outputs": [
    {
     "data": {
      "text/plain": [
       "<matplotlib.axes._subplots.AxesSubplot at 0x2b5b0701208>"
      ]
     },
     "execution_count": 53,
     "metadata": {},
     "output_type": "execute_result"
    },
    {
     "data": {
      "image/png": "[encoded data removed]",
      "text/plain": [
       "<Figure size 432x288 with 1 Axes>"
      ]
     },
     "metadata": {
      "needs_background": "light"
     },
     "output_type": "display_data"
    }
   ],
   "source": [
    "df.plot(kind='scatter',x='rating_log',y='review_log',alpha =0.5,figsize=(6,4))"
   ]
  },
  {
   "cell_type": "markdown",
   "metadata": {},
   "source": [
    "## 得出结论"
   ]
  },
  {
   "cell_type": "markdown",
   "metadata": {},
   "source": [
    "**问题:**\n",
    "1. 收费和免费软件的评分的平均值分别是多少？\n"
   ]
  },
  {
   "cell_type": "code",
   "execution_count": 45,
   "metadata": {},
   "outputs": [
    {
     "data": {
      "image/png": "[encoded data removed]",
      "text/plain": [
       "<Figure size 432x288 with 1 Axes>"
      ]
     },
     "metadata": {
      "needs_background": "light"
     },
     "output_type": "display_data"
    }
   ],
   "source": [
    "type_rating_mean = df.groupby('type')['rating'].mean().sort_values(ascending=False)\n",
    "x = type_rating_mean.index\n",
    "y = type_rating_mean.values\n",
    "plt.bar(x,y,width=0.5,alpha=0.7)\n",
    "plt.xlabel('Type of App')\n",
    "plt.ylabel('The mean of app rating')\n",
    "plt.title('Comparison of free and paid app rating')\n",
    "for a,b in zip(x,y):\n",
    "    plt.text(a,b,'%.2f'%b,ha = 'center',va = 'bottom',fontsize=10)\n",
    "plt.show()"
   ]
  },
  {
   "cell_type": "markdown",
   "metadata": {},
   "source": [
    "**结论1**\n",
    "1. 收费软件的平均评分为4.26分；\n",
    "2. 免费软件的平均评分为4.17分；\n",
    "3. 收费软件的平均评分高于免费软件的平均评分。"
   ]
  },
  {
   "cell_type": "markdown",
   "metadata": {},
   "source": [
    "**问题:**\n",
    "2. 免费和收费软件的价格分布情况？\n"
   ]
  },
  {
   "cell_type": "markdown",
   "metadata": {},
   "source": [
    "**注意**\n",
    "+ 比较两个类别的分布情况，推荐使用密度图"
   ]
  },
  {
   "cell_type": "code",
   "execution_count": 50,
   "metadata": {},
   "outputs": [
    {
     "data": {
      "image/png": "[encoded data removed]",
      "text/plain": [
       "<Figure size 432x288 with 1 Axes>"
      ]
     },
     "metadata": {
      "needs_background": "light"
     },
     "output_type": "display_data"
    }
   ],
   "source": [
    "df.groupby('type')['rating'].plot.density()\n",
    "plt.xlabel(\"App rating \")\n",
    "plt.ylabel(\"Frequency\")\n",
    "plt.title('The distribution of free and paid in price')\n",
    "plt.legend()\n",
    "plt.show()"
   ]
  },
  {
   "cell_type": "markdown",
   "metadata": {},
   "source": [
    "**结论2**\n",
    "1. 免费软件的数量多于付费软件\n",
    "2. 免费软件的平均评分低于付费软件的平均评分\n",
    "3. 付费软件的评分分布相比免费软件，更靠近右侧。"
   ]
  },
  {
   "cell_type": "markdown",
   "metadata": {},
   "source": [
    "**问题**：\n",
    "3. 哪些 App 的下载比较多？\n"
   ]
  },
  {
   "cell_type": "code",
   "execution_count": 47,
   "metadata": {},
   "outputs": [
    {
     "data": {
      "image/png": "[encoded data removed]",
      "text/plain": [
       "<Figure size 720x576 with 1 Axes>"
      ]
     },
     "metadata": {
      "needs_background": "light"
     },
     "output_type": "display_data"
    }
   ],
   "source": [
    "df.sort_values('reviews',ascending=False)[:20].plot(kind='bar',x='app',y='reviews',alpha=0.7,figsize=(10,8))\n",
    "plt.title('The top 20 most installation app')\n",
    "plt.xlabel('App')\n",
    "plt.ylabel('The amount of installation')\n",
    "plt.show()"
   ]
  },
  {
   "cell_type": "markdown",
   "metadata": {},
   "source": [
    "**结论3**\n",
    "1. Facebook下载量最大。\n",
    "2. 下载量前四位均为社交类软件\n",
    "3. 下载量前20的软件中，安全类软件，系统清理，电池管理类软件相比游戏类软件更多"
   ]
  },
  {
   "cell_type": "markdown",
   "metadata": {},
   "source": [
    "**问题：**\n",
    "4. 下载比较多的app类型？"
   ]
  },
  {
   "cell_type": "code",
   "execution_count": 48,
   "metadata": {},
   "outputs": [
    {
     "data": {
      "image/png": "[encoded data removed]",
      "text/plain": [
       "<Figure size 720x576 with 1 Axes>"
      ]
     },
     "metadata": {
      "needs_background": "light"
     },
     "output_type": "display_data"
    }
   ],
   "source": [
    "df.genres.value_counts().nlargest(20).plot(kind='bar',alpha=0.7,figsize=(10,8))\n",
    "plt.title(\"The top 20 most installation App's type\")\n",
    "plt.xlabel(\"The type of App\")\n",
    "plt.ylabel(\"The amount of installation\")\n",
    "plt.show()"
   ]
  },
  {
   "cell_type": "markdown",
   "metadata": {},
   "source": [
    "**结论4**\n",
    "1. 工具类的软件下载量最多。\n",
    "2. 位居下载量前五名的软件类型分别是工具类，娱乐类，教育类，金融类和生产力类\n",
    "3. 工具类软件的下载量几乎是娱乐类软件的一倍。"
   ]
  },
  {
   "cell_type": "markdown",
   "metadata": {},
   "source": [
    "## 反思"
   ]
  },
  {
   "cell_type": "markdown",
   "metadata": {},
   "source": [
    "**问题**：在你的分析和总结过程中是否存在逻辑严谨。是否有改进的空间? 你可以从下面的一些角度进行思考：\n",
    "1. 数据集是否完整，包含所有想要分析的数据？\n",
    "2. 在对数据进行处理的时候，你的操作（例如删除/填充缺失值）是否可能影响结论？\n",
    "3. 是否还有其他变量（本数据中没有）能够对你的分析有帮助？\n",
    "4. 在得出结论时，你是否混淆了相关性和因果性？\n",
    "\n",
    "**答案**：\n",
    "1. 完整与否取决于提出的问题，如果要分析预测软件评分，或者下载量，那么现有数据集的特征不足。\n",
    "2. 有可能。是否影响结论，也与操作处理的记录相比数据集总记录数的比例有关。\n",
    "3. 增加软件更新的频率，软件适用的频率，每用户下载量等特征应该有助于进一步的分析。\n",
    "4. 没有。"
   ]
  }
 ],
 "metadata": {
  "kernelspec": {
   "display_name": "Python 3",
   "language": "python",
   "name": "python3"
  },
  "language_info": {
   "codemirror_mode": {
    "name": "ipython",
    "version": 3
   },
   "file_extension": ".py",
   "mimetype": "text/x-python",
   "name": "python",
   "nbconvert_exporter": "python",
   "pygments_lexer": "ipython3",
   "version": "3.7.1"
  }
 },
 "nbformat": 4,
 "nbformat_minor": 2
}
